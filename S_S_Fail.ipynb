{
  "nbformat": 4,
  "nbformat_minor": 0,
  "metadata": {
    "colab": {
      "provenance": [],
      "include_colab_link": true
    },
    "kernelspec": {
      "name": "python3",
      "display_name": "Python 3"
    },
    "language_info": {
      "name": "python"
    }
  },
  "cells": [
    {
      "cell_type": "markdown",
      "metadata": {
        "id": "view-in-github",
        "colab_type": "text"
      },
      "source": [
        "<a href=\"https://colab.research.google.com/github/ChickenRob0t/Proyecto-Covid-Meteorologia/blob/main/S_S_Fail.ipynb\" target=\"_parent\"><img src=\"https://colab.research.google.com/assets/colab-badge.svg\" alt=\"Open In Colab\"/></a>"
      ]
    },
    {
      "cell_type": "markdown",
      "source": [
        "### *Este fue el primer código que generé en el cual no funcionó la idea de implementación que tenía para segmentar los casos de covid por estaciones, sin embargo aprendí mucho cx*"
      ],
      "metadata": {
        "id": "xY-KNJUtSGn_"
      }
    },
    {
      "cell_type": "code",
      "execution_count": null,
      "metadata": {
        "id": "U7ueeaouR84c",
        "colab": {
          "base_uri": "https://localhost:8080/"
        },
        "outputId": "7e7f754e-ab74-422e-bcae-fe61fd5ff7f3"
      },
      "outputs": [
        {
          "output_type": "stream",
          "name": "stdout",
          "text": [
            "Looking in indexes: https://pypi.org/simple, https://us-python.pkg.dev/colab-wheels/public/simple/\n",
            "Collecting geopandas\n",
            "  Downloading geopandas-0.12.2-py3-none-any.whl (1.1 MB)\n",
            "\u001b[2K     \u001b[90m━━━━━━━━━━━━━━━━━━━━━━━━━━━━━━━━━━━━━━━━\u001b[0m \u001b[32m1.1/1.1 MB\u001b[0m \u001b[31m11.1 MB/s\u001b[0m eta \u001b[36m0:00:00\u001b[0m\n",
            "\u001b[?25hRequirement already satisfied: pandas>=1.0.0 in /usr/local/lib/python3.9/dist-packages (from geopandas) (1.3.5)\n",
            "Requirement already satisfied: shapely>=1.7 in /usr/local/lib/python3.9/dist-packages (from geopandas) (2.0.1)\n",
            "Requirement already satisfied: packaging in /usr/local/lib/python3.9/dist-packages (from geopandas) (23.0)\n",
            "Collecting fiona>=1.8\n",
            "  Downloading Fiona-1.9.1-cp39-cp39-manylinux_2_17_x86_64.manylinux2014_x86_64.whl (16.0 MB)\n",
            "\u001b[2K     \u001b[90m━━━━━━━━━━━━━━━━━━━━━━━━━━━━━━━━━━━━━━━━\u001b[0m \u001b[32m16.0/16.0 MB\u001b[0m \u001b[31m41.8 MB/s\u001b[0m eta \u001b[36m0:00:00\u001b[0m\n",
            "\u001b[?25hCollecting pyproj>=2.6.1.post1\n",
            "  Downloading pyproj-3.4.1-cp39-cp39-manylinux_2_17_x86_64.manylinux2014_x86_64.whl (7.7 MB)\n",
            "\u001b[2K     \u001b[90m━━━━━━━━━━━━━━━━━━━━━━━━━━━━━━━━━━━━━━━━\u001b[0m \u001b[32m7.7/7.7 MB\u001b[0m \u001b[31m26.9 MB/s\u001b[0m eta \u001b[36m0:00:00\u001b[0m\n",
            "\u001b[?25hRequirement already satisfied: certifi in /usr/local/lib/python3.9/dist-packages (from fiona>=1.8->geopandas) (2022.12.7)\n",
            "Requirement already satisfied: attrs>=19.2.0 in /usr/local/lib/python3.9/dist-packages (from fiona>=1.8->geopandas) (22.2.0)\n",
            "Collecting click-plugins>=1.0\n",
            "  Downloading click_plugins-1.1.1-py2.py3-none-any.whl (7.5 kB)\n",
            "Requirement already satisfied: setuptools in /usr/local/lib/python3.9/dist-packages (from fiona>=1.8->geopandas) (57.4.0)\n",
            "Collecting cligj>=0.5\n",
            "  Downloading cligj-0.7.2-py3-none-any.whl (7.1 kB)\n",
            "Collecting munch>=2.3.2\n",
            "  Downloading munch-2.5.0-py2.py3-none-any.whl (10 kB)\n",
            "Requirement already satisfied: click~=8.0 in /usr/local/lib/python3.9/dist-packages (from fiona>=1.8->geopandas) (8.1.3)\n",
            "Requirement already satisfied: python-dateutil>=2.7.3 in /usr/local/lib/python3.9/dist-packages (from pandas>=1.0.0->geopandas) (2.8.2)\n",
            "Requirement already satisfied: pytz>=2017.3 in /usr/local/lib/python3.9/dist-packages (from pandas>=1.0.0->geopandas) (2022.7.1)\n",
            "Requirement already satisfied: numpy>=1.17.3 in /usr/local/lib/python3.9/dist-packages (from pandas>=1.0.0->geopandas) (1.22.4)\n",
            "Requirement already satisfied: six in /usr/local/lib/python3.9/dist-packages (from munch>=2.3.2->fiona>=1.8->geopandas) (1.15.0)\n",
            "Installing collected packages: pyproj, munch, cligj, click-plugins, fiona, geopandas\n",
            "Successfully installed click-plugins-1.1.1 cligj-0.7.2 fiona-1.9.1 geopandas-0.12.2 munch-2.5.0 pyproj-3.4.1\n"
          ]
        }
      ],
      "source": [
        "!pip install geopandas\n"
      ]
    },
    {
      "cell_type": "code",
      "source": [
        "import pandas as pd\n",
        "import numpy as np\n",
        "import matplotlib.pyplot as plt\n",
        "import geopandas as gp\n"
      ],
      "metadata": {
        "id": "3irviZM_R656"
      },
      "execution_count": null,
      "outputs": []
    },
    {
      "cell_type": "code",
      "source": [
        "from google.colab import drive\n",
        "drive.mount('/content/drive')"
      ],
      "metadata": {
        "colab": {
          "base_uri": "https://localhost:8080/",
          "height": 344
        },
        "id": "LLoPxpB5YVjZ",
        "outputId": "99a199cb-cf9f-4527-85d6-70109717afad"
      },
      "execution_count": null,
      "outputs": [
        {
          "output_type": "error",
          "ename": "MessageError",
          "evalue": "ignored",
          "traceback": [
            "\u001b[0;31m---------------------------------------------------------------------------\u001b[0m",
            "\u001b[0;31mMessageError\u001b[0m                              Traceback (most recent call last)",
            "\u001b[0;32m<ipython-input-3-d5df0069828e>\u001b[0m in \u001b[0;36m<module>\u001b[0;34m\u001b[0m\n\u001b[1;32m      1\u001b[0m \u001b[0;32mfrom\u001b[0m \u001b[0mgoogle\u001b[0m\u001b[0;34m.\u001b[0m\u001b[0mcolab\u001b[0m \u001b[0;32mimport\u001b[0m \u001b[0mdrive\u001b[0m\u001b[0;34m\u001b[0m\u001b[0;34m\u001b[0m\u001b[0m\n\u001b[0;32m----> 2\u001b[0;31m \u001b[0mdrive\u001b[0m\u001b[0;34m.\u001b[0m\u001b[0mmount\u001b[0m\u001b[0;34m(\u001b[0m\u001b[0;34m'/content/drive'\u001b[0m\u001b[0;34m)\u001b[0m\u001b[0;34m\u001b[0m\u001b[0;34m\u001b[0m\u001b[0m\n\u001b[0m",
            "\u001b[0;32m/usr/local/lib/python3.9/dist-packages/google/colab/drive.py\u001b[0m in \u001b[0;36mmount\u001b[0;34m(mountpoint, force_remount, timeout_ms, readonly)\u001b[0m\n\u001b[1;32m    101\u001b[0m \u001b[0;32mdef\u001b[0m \u001b[0mmount\u001b[0m\u001b[0;34m(\u001b[0m\u001b[0mmountpoint\u001b[0m\u001b[0;34m,\u001b[0m \u001b[0mforce_remount\u001b[0m\u001b[0;34m=\u001b[0m\u001b[0;32mFalse\u001b[0m\u001b[0;34m,\u001b[0m \u001b[0mtimeout_ms\u001b[0m\u001b[0;34m=\u001b[0m\u001b[0;36m120000\u001b[0m\u001b[0;34m,\u001b[0m \u001b[0mreadonly\u001b[0m\u001b[0;34m=\u001b[0m\u001b[0;32mFalse\u001b[0m\u001b[0;34m)\u001b[0m\u001b[0;34m:\u001b[0m\u001b[0;34m\u001b[0m\u001b[0;34m\u001b[0m\u001b[0m\n\u001b[1;32m    102\u001b[0m   \u001b[0;34m\"\"\"Mount your Google Drive at the specified mountpoint path.\"\"\"\u001b[0m\u001b[0;34m\u001b[0m\u001b[0;34m\u001b[0m\u001b[0m\n\u001b[0;32m--> 103\u001b[0;31m   return _mount(\n\u001b[0m\u001b[1;32m    104\u001b[0m       \u001b[0mmountpoint\u001b[0m\u001b[0;34m,\u001b[0m\u001b[0;34m\u001b[0m\u001b[0;34m\u001b[0m\u001b[0m\n\u001b[1;32m    105\u001b[0m       \u001b[0mforce_remount\u001b[0m\u001b[0;34m=\u001b[0m\u001b[0mforce_remount\u001b[0m\u001b[0;34m,\u001b[0m\u001b[0;34m\u001b[0m\u001b[0;34m\u001b[0m\u001b[0m\n",
            "\u001b[0;32m/usr/local/lib/python3.9/dist-packages/google/colab/drive.py\u001b[0m in \u001b[0;36m_mount\u001b[0;34m(mountpoint, force_remount, timeout_ms, ephemeral, readonly)\u001b[0m\n\u001b[1;32m    130\u001b[0m   )\n\u001b[1;32m    131\u001b[0m   \u001b[0;32mif\u001b[0m \u001b[0mephemeral\u001b[0m\u001b[0;34m:\u001b[0m\u001b[0;34m\u001b[0m\u001b[0;34m\u001b[0m\u001b[0m\n\u001b[0;32m--> 132\u001b[0;31m     _message.blocking_request(\n\u001b[0m\u001b[1;32m    133\u001b[0m         \u001b[0;34m'request_auth'\u001b[0m\u001b[0;34m,\u001b[0m \u001b[0mrequest\u001b[0m\u001b[0;34m=\u001b[0m\u001b[0;34m{\u001b[0m\u001b[0;34m'authType'\u001b[0m\u001b[0;34m:\u001b[0m \u001b[0;34m'dfs_ephemeral'\u001b[0m\u001b[0;34m}\u001b[0m\u001b[0;34m,\u001b[0m \u001b[0mtimeout_sec\u001b[0m\u001b[0;34m=\u001b[0m\u001b[0;32mNone\u001b[0m\u001b[0;34m\u001b[0m\u001b[0;34m\u001b[0m\u001b[0m\n\u001b[1;32m    134\u001b[0m     )\n",
            "\u001b[0;32m/usr/local/lib/python3.9/dist-packages/google/colab/_message.py\u001b[0m in \u001b[0;36mblocking_request\u001b[0;34m(request_type, request, timeout_sec, parent)\u001b[0m\n\u001b[1;32m    175\u001b[0m       \u001b[0mrequest_type\u001b[0m\u001b[0;34m,\u001b[0m \u001b[0mrequest\u001b[0m\u001b[0;34m,\u001b[0m \u001b[0mparent\u001b[0m\u001b[0;34m=\u001b[0m\u001b[0mparent\u001b[0m\u001b[0;34m,\u001b[0m \u001b[0mexpect_reply\u001b[0m\u001b[0;34m=\u001b[0m\u001b[0;32mTrue\u001b[0m\u001b[0;34m\u001b[0m\u001b[0;34m\u001b[0m\u001b[0m\n\u001b[1;32m    176\u001b[0m   )\n\u001b[0;32m--> 177\u001b[0;31m   \u001b[0;32mreturn\u001b[0m \u001b[0mread_reply_from_input\u001b[0m\u001b[0;34m(\u001b[0m\u001b[0mrequest_id\u001b[0m\u001b[0;34m,\u001b[0m \u001b[0mtimeout_sec\u001b[0m\u001b[0;34m)\u001b[0m\u001b[0;34m\u001b[0m\u001b[0;34m\u001b[0m\u001b[0m\n\u001b[0m",
            "\u001b[0;32m/usr/local/lib/python3.9/dist-packages/google/colab/_message.py\u001b[0m in \u001b[0;36mread_reply_from_input\u001b[0;34m(message_id, timeout_sec)\u001b[0m\n\u001b[1;32m    102\u001b[0m     ):\n\u001b[1;32m    103\u001b[0m       \u001b[0;32mif\u001b[0m \u001b[0;34m'error'\u001b[0m \u001b[0;32min\u001b[0m \u001b[0mreply\u001b[0m\u001b[0;34m:\u001b[0m\u001b[0;34m\u001b[0m\u001b[0;34m\u001b[0m\u001b[0m\n\u001b[0;32m--> 104\u001b[0;31m         \u001b[0;32mraise\u001b[0m \u001b[0mMessageError\u001b[0m\u001b[0;34m(\u001b[0m\u001b[0mreply\u001b[0m\u001b[0;34m[\u001b[0m\u001b[0;34m'error'\u001b[0m\u001b[0;34m]\u001b[0m\u001b[0;34m)\u001b[0m\u001b[0;34m\u001b[0m\u001b[0;34m\u001b[0m\u001b[0m\n\u001b[0m\u001b[1;32m    105\u001b[0m       \u001b[0;32mreturn\u001b[0m \u001b[0mreply\u001b[0m\u001b[0;34m.\u001b[0m\u001b[0mget\u001b[0m\u001b[0;34m(\u001b[0m\u001b[0;34m'data'\u001b[0m\u001b[0;34m,\u001b[0m \u001b[0;32mNone\u001b[0m\u001b[0;34m)\u001b[0m\u001b[0;34m\u001b[0m\u001b[0;34m\u001b[0m\u001b[0m\n\u001b[1;32m    106\u001b[0m \u001b[0;34m\u001b[0m\u001b[0m\n",
            "\u001b[0;31mMessageError\u001b[0m: Error: credential propagation was unsuccessful"
          ]
        }
      ]
    },
    {
      "cell_type": "markdown",
      "source": [
        "# **Carga de archivos**"
      ],
      "metadata": {
        "id": "xGkm7FoyHmeo"
      }
    },
    {
      "cell_type": "code",
      "source": [
        "UAG_2021=pd.read_csv(\"/content/drive/MyDrive/Datos S.S/Data/UAG/uag_2020_2021.txt\", sep='\\t')\n",
        "Tet_20=pd.read_csv(\"/content/drive/MyDrive/Datos S.S/Data/Tetlan/tetlan_2020.txt\", sep='\\t')\n",
        "Prep_2021=pd.read_csv(\"/content/drive/MyDrive/Datos S.S/Data/Prepa20/prepa20_2020_2021.txt\", sep='\\t')\n",
        "Pira_tod=pd.read_csv(\"/content/drive/MyDrive/Datos S.S/Data/Pirámides/P_Sol_todos.txt\", sep='\\t')\n",
        "Moli_2021=pd.read_csv(\"/content/drive/MyDrive/Datos S.S/Data/Molinos/molinos_2020_2021.txt\", sep='\\t')\n",
        "Iam_2021=pd.read_csv(\"/content/drive/MyDrive/Datos S.S/Data/IAM/iam_2020_2021.txt\", sep='\\t')\n",
        "Chiv_2021=pd.read_csv(\"/content/drive/MyDrive/Datos S.S/Data/Chivas/chivas_2020_2021.txt\", sep='\\t')\n",
        "#Conag=pd.read_csv(\"/content/drive/MyDrive/Datos S.S/Data/Conagua/Datos CONAGUA_2019-2022.xlsx\", sep='\\t')\n",
        "\n",
        "Covi=pd.read_excel(\"/content/drive/MyDrive/Datos S.S/Data/Base_datos_COVID2020_2022 (1).xlsx\")"
      ],
      "metadata": {
        "colab": {
          "base_uri": "https://localhost:8080/"
        },
        "id": "naANJVSuyIzb",
        "outputId": "8c4b6ef5-c758-40a0-8539-50f67dd5615c"
      },
      "execution_count": null,
      "outputs": [
        {
          "output_type": "stream",
          "name": "stderr",
          "text": [
            "/usr/local/lib/python3.8/dist-packages/IPython/core/interactiveshell.py:3326: DtypeWarning: Columns (7,9,10,16,17,18,27,28,29,30,31,32,33,34,35,36,37) have mixed types.Specify dtype option on import or set low_memory=False.\n",
            "  exec(code_obj, self.user_global_ns, self.user_ns)\n",
            "/usr/local/lib/python3.8/dist-packages/IPython/core/interactiveshell.py:3326: DtypeWarning: Columns (7,9,10,17,18,33,34,35,36,37) have mixed types.Specify dtype option on import or set low_memory=False.\n",
            "  exec(code_obj, self.user_global_ns, self.user_ns)\n",
            "/usr/local/lib/python3.8/dist-packages/IPython/core/interactiveshell.py:3326: DtypeWarning: Columns (2,3,4,5,6,7,9,10,12,13,14,15,16,17,18,19,20,21,22,23,24,25,26,27,28,29,30,31,32,33,34,35,36,37) have mixed types.Specify dtype option on import or set low_memory=False.\n",
            "  exec(code_obj, self.user_global_ns, self.user_ns)\n",
            "/usr/local/lib/python3.8/dist-packages/openpyxl/worksheet/_reader.py:312: UserWarning: Unknown extension is not supported and will be removed\n",
            "  warn(msg)\n"
          ]
        }
      ]
    },
    {
      "cell_type": "markdown",
      "source": [
        " ## *Filtrado de datos de las columnas que consideré importantes (COVID)*"
      ],
      "metadata": {
        "id": "5DTCQd8FHqaO"
      }
    },
    {
      "cell_type": "code",
      "source": [
        "col_i=['FECHREG','LOCRESI','LATLOCA','LONGLOCA','CP','RESDEFIN']\n",
        "Import=Covi.loc[:,col_i]\n"
      ],
      "metadata": {
        "id": "CtEoLbyC1RoW"
      },
      "execution_count": null,
      "outputs": []
    },
    {
      "cell_type": "code",
      "source": [
        "Import['RESDEFIN'].value_counts() #Para ver cuáles hay, y así poder filtrar sólo los casos de COVID"
      ],
      "metadata": {
        "id": "i8IkHKQnf3AW",
        "colab": {
          "base_uri": "https://localhost:8080/"
        },
        "outputId": "232d45dd-d3aa-4f9f-97ce-ea3d430fbd7c"
      },
      "execution_count": null,
      "outputs": [
        {
          "output_type": "execute_result",
          "data": {
            "text/plain": [
              "NEGATIVO                        5840\n",
              "SARS-CoV-2                      4091\n",
              "RECHAZADA                        243\n",
              "SARS-CoV-2 - DELTA                36\n",
              "VSR                               27\n",
              "INF AH1N1 PMD                     24\n",
              "ENTEROV//RHINOVIRUS               24\n",
              "A H3                              13\n",
              "METAPNEUMOVIRUS                   12\n",
              "SARS-CoV-2 - OMICRON               9\n",
              "B                                  7\n",
              "VIRUS SINCICIAL RESPIRATORIO       7\n",
              "SARS-CoV-2 - B.1.1.519             6\n",
              "NO RECIBIDA                        6\n",
              "CORONA NL63                        5\n",
              "CORONA HKU1                        4\n",
              "SARS-CoV-2 - GAMMA                 3\n",
              "ADENOVIRUS                         3\n",
              "SARS-CoV-2 - B.1.427/B.1.429       2\n",
              "SARS-CoV-2 - ALPHA                 2\n",
              "SARS-CoV-2 - OTRA                  2\n",
              "BOCAVIRUS                          2\n",
              "INF A                              2\n",
              "NO ADECUADO                        2\n",
              "PARAINFLUENZA 3                    1\n",
              "SARS-CoV-2 - IOTA                  1\n",
              "NO SUBTIPIFICADO                   1\n",
              "CORONA OC43                        1\n",
              "Name: RESDEFIN, dtype: int64"
            ]
          },
          "metadata": {},
          "execution_count": 6
        }
      ]
    },
    {
      "cell_type": "code",
      "source": [
        "confirmados=Import.loc[Import['RESDEFIN'].str.contains('SARS') | Import['RESDEFIN'].str.contains('CORONA') ] #Sólo los que tienen covid"
      ],
      "metadata": {
        "id": "_Bt99Y9qzYLq"
      },
      "execution_count": null,
      "outputs": []
    },
    {
      "cell_type": "code",
      "source": [
        "#Guardo las primeras 40 localidades que tengan más personas\n",
        "Localidades=confirmados['LOCRESI'].value_counts()[0:40].index.tolist()\n"
      ],
      "metadata": {
        "id": "KvBB-2NKra5k"
      },
      "execution_count": null,
      "outputs": []
    },
    {
      "cell_type": "code",
      "source": [
        "#Con este ciclo for si es NaN, '-' o '0.0' el CP,  intenta cambiarlos por el valor que más se repita de su localidad\n",
        "for i in Localidades:\n",
        "\n",
        "\n",
        "  max=confirmados.loc[confirmados['LOCRESI']== i]['CP'].value_counts().idxmax()\n",
        "\n",
        "  if max in(['-',0.0]):\n",
        "    confirmados['CP'].loc[(confirmados['LOCRESI']== i) & confirmados['CP'].isin ([np.nan,'-']) ]='pass'\n",
        "    continue\n",
        "\n",
        "  confirmados['CP'].loc[(confirmados['LOCRESI']== i) & confirmados['CP'].isin ([np.nan,'-',0.0]) ]=max\n",
        "\n",
        "  #Con esto pasamos de tener 922 valores sin conocer a únicamente tener 382"
      ],
      "metadata": {
        "colab": {
          "base_uri": "https://localhost:8080/"
        },
        "id": "4YC_yV2LvH1e",
        "outputId": "9e9d2120-a832-4da9-d3e5-d8f745279e2f"
      },
      "execution_count": null,
      "outputs": [
        {
          "output_type": "stream",
          "name": "stderr",
          "text": [
            "/usr/local/lib/python3.8/dist-packages/pandas/core/indexing.py:1732: SettingWithCopyWarning: \n",
            "A value is trying to be set on a copy of a slice from a DataFrame\n",
            "\n",
            "See the caveats in the documentation: https://pandas.pydata.org/pandas-docs/stable/user_guide/indexing.html#returning-a-view-versus-a-copy\n",
            "  self._setitem_single_block(indexer, value, name)\n"
          ]
        }
      ]
    },
    {
      "cell_type": "code",
      "source": [
        "#Ya que son únicamente 382, eliminamos esos datos\n",
        "confirmados.iloc[confirmados['CP'].isin(['pass',0.0,'SD','-','.'])]=np.nan\n",
        "confirmados=confirmados.dropna(subset=['CP'])\n",
        "#Ahora ya tenemos todos los valores del CP, podemos pasar a encontrar sus valores de la latitud y longitud\n",
        "confirmados.loc[confirmados['CP']=='4433O']=4430 #Problemilla de más delante"
      ],
      "metadata": {
        "colab": {
          "base_uri": "https://localhost:8080/"
        },
        "id": "W9BI8uGPOjx2",
        "outputId": "abf19de3-61d0-478d-f631-045f87b1d59b"
      },
      "execution_count": null,
      "outputs": [
        {
          "output_type": "stream",
          "name": "stderr",
          "text": [
            "/usr/local/lib/python3.8/dist-packages/pandas/core/indexing.py:1817: SettingWithCopyWarning: \n",
            "A value is trying to be set on a copy of a slice from a DataFrame.\n",
            "Try using .loc[row_indexer,col_indexer] = value instead\n",
            "\n",
            "See the caveats in the documentation: https://pandas.pydata.org/pandas-docs/stable/user_guide/indexing.html#returning-a-view-versus-a-copy\n",
            "  self._setitem_single_column(loc, value, pi)\n"
          ]
        }
      ]
    },
    {
      "cell_type": "markdown",
      "source": [
        "## **Encontrando latitud y longitud**"
      ],
      "metadata": {
        "id": "dlueQG_3xkfZ"
      }
    },
    {
      "cell_type": "markdown",
      "source": [
        "Primero se intentó sacar a través de los códigos postales (los cuales eran muchísimos)"
      ],
      "metadata": {
        "id": "m3eizRpltg0X"
      }
    },
    {
      "cell_type": "code",
      "source": [
        "!pip install geopy"
      ],
      "metadata": {
        "colab": {
          "base_uri": "https://localhost:8080/"
        },
        "id": "EjCjNF4F21tf",
        "outputId": "dec7d97b-6ec5-42c9-da61-b5e33d0d07d3"
      },
      "execution_count": null,
      "outputs": [
        {
          "output_type": "stream",
          "name": "stdout",
          "text": [
            "Looking in indexes: https://pypi.org/simple, https://us-python.pkg.dev/colab-wheels/public/simple/\n",
            "Requirement already satisfied: geopy in /usr/local/lib/python3.8/dist-packages (1.17.0)\n",
            "Requirement already satisfied: geographiclib<2,>=1.49 in /usr/local/lib/python3.8/dist-packages (from geopy) (1.52)\n"
          ]
        }
      ]
    },
    {
      "cell_type": "code",
      "source": [
        "from geopy.geocoders import Nominatim\n",
        "geolocator = Nominatim()\n",
        "location = geolocator.geocode(\"44790, Jalisco\")\n",
        "location[1]"
      ],
      "metadata": {
        "colab": {
          "base_uri": "https://localhost:8080/"
        },
        "id": "DOqHf5X-2A_W",
        "outputId": "0a041e1f-373c-42a0-d993-8474e2d301b2"
      },
      "execution_count": null,
      "outputs": [
        {
          "output_type": "stream",
          "name": "stderr",
          "text": [
            "/usr/local/lib/python3.8/dist-packages/geopy/geocoders/osm.py:132: UserWarning: Using Nominatim with the default \"geopy/1.17.0\" `user_agent` is strongly discouraged, as it violates Nominatim's ToS https://operations.osmfoundation.org/policies/nominatim/ and may possibly cause 403 and 429 HTTP errors. Please specify a custom `user_agent` with `Nominatim(user_agent=\"my-application\")` or by overriding the default `user_agent`: `geopy.geocoders.options.default_user_agent = \"my-application\"`. In geopy 2.0 this will become an exception.\n",
            "  warnings.warn(\n"
          ]
        },
        {
          "output_type": "execute_result",
          "data": {
            "text/plain": [
              "(20.666397556666666, -103.29687274)"
            ]
          },
          "metadata": {},
          "execution_count": 14
        }
      ]
    },
    {
      "cell_type": "code",
      "source": [
        "def code(cp):\n",
        "  location = geolocator.geocode(str(cp) + \", Jalisco\")\n",
        "  place= geolocator.geocode(str(cp) + \", Jalisco\")\n",
        "\n",
        "  if place==None:\n",
        "    return (0,0)\n",
        "  else:\n",
        "    return place[1]\n",
        "  #Función que entrega el lugar en Jalisco con el código postal"
      ],
      "metadata": {
        "id": "X92hBfbsBNxG"
      },
      "execution_count": null,
      "outputs": []
    },
    {
      "cell_type": "code",
      "source": [
        "confirmados['CP']=confirmados['CP'].apply(lambda x: int(float(x)))  #Aquí, le quitamos los puntos decimales a los códigos postales para que agarren bien"
      ],
      "metadata": {
        "id": "g9MxqUXqwtxN"
      },
      "execution_count": null,
      "outputs": []
    },
    {
      "cell_type": "code",
      "source": [
        "cps=confirmados['CP'].unique().tolist()  #Ponemos en una lista todos los códigos postales que encontramos y generamos un map con la función de arriba\n",
        "la_lo=map(code,cps)"
      ],
      "metadata": {
        "id": "LiGKSIIG3WXc"
      },
      "execution_count": null,
      "outputs": []
    },
    {
      "cell_type": "code",
      "source": [
        "lo_la=list(la_lo)\n",
        "#Parece que dura muchísimo, podría ser que mejor lo intente de otra manera cx"
      ],
      "metadata": {
        "id": "_1Wat3rQcD_W"
      },
      "execution_count": null,
      "outputs": []
    },
    {
      "cell_type": "markdown",
      "source": [
        "Tardaba muchísimo, mejor decidí optar por sacar los CP a partir de los nombres de las localidades (que son sólo 150), así el programa tardaba menos en encontrarlas"
      ],
      "metadata": {
        "id": "7r_yUwOftQbE"
      }
    },
    {
      "cell_type": "code",
      "source": [
        "cp_loc=confirmados['LOCRESI'].unique().tolist()\n",
        "map_lo=map(code,cp_loc)"
      ],
      "metadata": {
        "id": "upWZKQJ1Z54f"
      },
      "execution_count": null,
      "outputs": []
    },
    {
      "cell_type": "code",
      "source": [
        "loc_list=list(map_lo)"
      ],
      "metadata": {
        "id": "PiuFNNRj5HwQ"
      },
      "execution_count": null,
      "outputs": []
    },
    {
      "cell_type": "code",
      "source": [
        "loc_list.count((0,0))"
      ],
      "metadata": {
        "id": "Lugu6RPW6dhC",
        "colab": {
          "base_uri": "https://localhost:8080/"
        },
        "outputId": "92f5f079-bcde-4fca-a4c8-a8d4cc6eb35a"
      },
      "execution_count": null,
      "outputs": [
        {
          "output_type": "execute_result",
          "data": {
            "text/plain": [
              "27"
            ]
          },
          "metadata": {},
          "execution_count": 16
        }
      ]
    },
    {
      "cell_type": "code",
      "source": [
        "#Diccionario con cada código postal y su latitud y longitud\n",
        "LL_D=dict(zip(cp_loc,loc_list))"
      ],
      "metadata": {
        "id": "bxdzv3IVfx1-"
      },
      "execution_count": null,
      "outputs": []
    },
    {
      "cell_type": "code",
      "source": [
        "LL_D={'GUADALAJARA': (20.6720375, -103.338396),\n",
        " 'ACATLAN DE JUAREZ': (20.423970500000003, -103.6013031524341),\n",
        " 'ZAPOPAN': (20.7211203, -103.3913671),\n",
        " 'TEQUILA': (20.8821155, -103.8370907),\n",
        " 'YAHUALICA DE GONZALEZ GALLO': (21.123410999999997, -102.95137191169567),\n",
        " 'CUQUIO': (20.94949235, -103.03142458044168),\n",
        " 'IXTLAHUACAN DE LOS MEMBRILLOS': (20.40302745, -103.20504879808468),\n",
        " 'CIUDAD GUZMAN': (19.7001632, -103.463935),\n",
        " 'TONALA': (20.6185208, -103.22273591034522),\n",
        " 'PUERTO VALLARTA': (20.6407176, -105.220306),\n",
        " 'SANTA CRUZ DE LAS FLORES': (20.3938983, -103.9492395),\n",
        " 'TLAJOMULCO DE ZU?IGA': (0, 0),\n",
        " 'TLAQUEPAQUE': (20.6397718, -103.3120428),\n",
        " 'SALINAS DE HIDALGO': (22.639352, -101.7017067),\n",
        " 'GRANJA SIN NOMBRE': (0, 0),\n",
        " 'ARANDAS': (20.74931205, -102.3142822111025),\n",
        " 'NEXTIPAC': (20.767103, -103.5263514),\n",
        " 'EL SALTO': (20.539100050000002, -103.24037752852841),\n",
        " 'COMPOSTELA': (20.6614803, -105.2302037),\n",
        " 'ORILLA DEL RIO': (20.586683700000002, -103.13455412949347),\n",
        " 'SAN IGNACIO CERRO GORDO': (20.76868135, -102.51481451130394),\n",
        " 'CHAPALA': (20.279764450000002, -103.22035855623801),\n",
        " 'DEGOLLADO': (20.45629675, -102.17482347106542),\n",
        " 'VILLA ALBERTO ANDRES ALVARADO ARAMBURO': (0, 0),\n",
        " 'TEOCALTICHE': (21.4816157, -102.52011498971609),\n",
        " 'ACATIC': (20.76878345, -102.92039700254298),\n",
        " 'PUERTA DE PERICOS (TLACHICHILCO)': (0, 0),\n",
        " 'LA BARCA': (20.35720795, -102.50327003201096),\n",
        " 'ZAPOTLANEJO': (20.6396569, -103.05151855846849),\n",
        " 'LEON DE LOS ALDAMA': (0, 0),\n",
        " 'AMECA': (20.5347004, -104.06466098593745),\n",
        " 'SANTA ANITA': (20.5509918, -103.4437644),\n",
        " 'TALA': (20.610062499999998, -103.70750330271915),\n",
        " 'SAN MARTIN HIDALGO': (20.4357022, -103.9301557),\n",
        " 'ACAPONETA': (20.7944341, -103.4914926),\n",
        " 'OCOTEPEC': (0, 0),\n",
        " 'MOROLEON': (20.5064341, -103.3650489),\n",
        " 'OCOTLAN': (20.3872033, -102.73361924832378),\n",
        " 'COCULA': (20.4035811, -103.81742103058032),\n",
        " 'JOCOTEPEC': (20.289346950000002, -103.43686457681868),\n",
        " 'IXTLAHUACAN DEL RIO': (20.904594250000002, -103.24987805369719),\n",
        " 'SAYULA': (19.857163800000002, -103.60889569436725),\n",
        " 'SAN SEBASTIAN DEL SUR': (19.7935613, -103.4749503),\n",
        " 'ETZATLAN': (20.761220899999998, -104.13063108161292),\n",
        " 'LOS GAVILANES': (20.556930299999998, -103.35840323683036),\n",
        " 'MAGDALENA': (20.91062025, -104.11585399809384),\n",
        " 'VALLE DE JUAREZ': (19.8146914, -102.98363356723414),\n",
        " 'LAS BOVEDAS': (20.7349602, -103.424084),\n",
        " 'AHUALULCO DE MERCADO': (20.710353750000003, -103.97539438473574),\n",
        " 'VILLA CORONA': (20.38914285, -103.68552715478332),\n",
        " 'TEUCHITLAN': (20.6806057, -103.83278673516206),\n",
        " 'CHIMALTITAN': (21.741153699999998, -103.67909826087623),\n",
        " 'TEPATITLAN DE MORELOS': (20.817055449999998, -102.6781613948367),\n",
        " 'LA CALERA': (20.45051, -103.2533617),\n",
        " 'TAPACHULA DE CORDOVA Y ORDO?EZ': (0, 0),\n",
        " 'SAN CRISTOBAL DE LA BARRANCA': (21.046335650000003, -103.51239235477239),\n",
        " 'GUANAJUATO': (20.7304835, -101.3739588),\n",
        " 'COLOTLAN': (22.098424299999998, -103.27431707479644),\n",
        " 'SAN PEDRO ITZICAN': (20.3156903, -102.9517846),\n",
        " 'TAMAZULA DE GORDIANO': (19.6853653, -103.17006701011542),\n",
        " 'SAN JUAN DE LOS LAGOS': (21.254312650000003, -102.28137105849761),\n",
        " 'EL GRULLO': (19.79554805, -104.17781649818409),\n",
        " 'SAN AGUSTIN': (20.5463888, -103.4668635),\n",
        " 'TUXPAN': (19.4374898, -103.41147046920722),\n",
        " 'ATEQUIZA': (20.3931514, -103.1385074),\n",
        " 'UNION DE TULA': (20.004524349999997, -104.22767687376117),\n",
        " 'BELLAVISTA': (20.4366325, -103.6347956),\n",
        " 'SAN MIGUEL CUYUTLAN': (20.4170786, -103.3905524),\n",
        " 'MANZANILLO': (20.5099369, -103.2973653),\n",
        " 'LA MOJONERA': (20.3300424, -102.7890261),\n",
        " 'NUEVO CASAS GRANDES': (0, 0),\n",
        " 'TLAXCALA DE XICOHTENCATL': (0, 0),\n",
        " 'ATLACOMULCO DE FABELA': (0, 0),\n",
        " 'FRESNILLO': (20.588381, -103.3381413),\n",
        " 'SANTA CRUZ AMILPAS': (0, 0),\n",
        " 'CENTRO HIDROPONICO GOMEZ FARIAS': (0, 0),\n",
        " 'ATOTONILCO EL ALTO': (20.5413692, -102.517566367728),\n",
        " 'VILLA GUERRERO': (22.0193796, -103.67905169408235),\n",
        " 'LA RIBERA': (20.3494738, -102.2826117),\n",
        " 'MAZAMITLA': (19.890584150000002, -103.08102044422532),\n",
        " 'TAPALPA': (19.946663450000003, -103.77610588768835),\n",
        " 'VILLA DE GARCIA MARQUEZ (EL TARENGO NUEVO)': (0, 0),\n",
        " 'SAN MARTIN DE LAS FLORES DE ABAJO': (0, 0),\n",
        " 'AMATITAN': (20.844348699999998, -103.71051993442961),\n",
        " 'EL VADO': (20.6091291, -103.155824),\n",
        " 'AYUTLA': (20.04062435, -104.47395781043053),\n",
        " 'BETANIA': (20.5806449, -102.3792814),\n",
        " 'JESUS MARIA': (20.64794705, -102.10757376228773),\n",
        " 'OJUELOS DE JALISCO': (21.786351449999998, -101.67889736335897),\n",
        " 'JUANACATLAN': (20.485749, -103.15072540651236),\n",
        " 'ABERRUSCO': (0, 0),\n",
        " 4430: (20.623111, -103.3559123),\n",
        " 'BENITO JUAREZ': (19.2199014, -102.6780356),\n",
        " 'AHUACATLAN': (20.6092471, -103.3532998),\n",
        " 'VERACRUZ': (20.6532095, -105.2218343),\n",
        " 'QUITUPAN': (19.7944045, -102.88716124937912),\n",
        " 'VISTAS III': (0, 0),\n",
        " 'LAS ANIMAS DE QUIMIXTO': (0, 0),\n",
        " 'TIZAPAN EL ALTO': (20.10729135, -103.09838165939337),\n",
        " 'SAN NICOLAS DE IBARRA': (20.3289105, -103.1288962),\n",
        " 'LOS FRESEROS': (0, 0),\n",
        " 'LA ESPERANZA': (20.8799903, -102.7692794),\n",
        " 'SAN VICENTE': (20.4282709, -102.6544245),\n",
        " 'TECOLOTLAN': (20.275808599999998, -103.98225523369862),\n",
        " 'ZACOALCO DE TORRES': (20.244094949999997, -103.59310626655152),\n",
        " 'JALOSTOTITLAN': (21.201131750000002, -102.51069605240619),\n",
        " 'PONCITLAN': (20.263965300000002, -102.88279855436468),\n",
        " 'TANHUATO DE GUERRERO': (0, 0),\n",
        " 'PAJACUARAN': (0, 0),\n",
        " 'GUACHINANGO': (20.696709300000002, -104.41541268197736),\n",
        " 'SANTA MARIA DE LA PAZ': (0, 0),\n",
        " 'TALPA DE ALLENDE': (20.2986583, -104.9524361256174),\n",
        " 'SANTA MARIA DE LOS ANGELES': (22.19050555, -103.18899010736042),\n",
        " 'SAN JULIAN': (20.993872, -102.15835703145814),\n",
        " 'AGUA PRIETA': (20.7923909, -102.891726),\n",
        " 'CIUDAD MADERO': (20.61048, -103.28322),\n",
        " 'MORELIA': (19.7114821, -101.1717083),\n",
        " 'ZAPOTLAN DEL REY': (20.46680925, -102.92302911944518),\n",
        " 'ZAPOTITLAN DE VADILLO': (19.503478700000002, -103.74883288487334),\n",
        " 'CERRO GORDO': (20.7594946, -102.5891453),\n",
        " 'ACAPULCO DE JUAREZ': (16.8646266, -99.901852),\n",
        " 'AJIJIC': (20.3001977, -103.2619347),\n",
        " 'XICOTEPEC DE JUAREZ': (0, 0),\n",
        " 'LA HIGUERA': (19.4233927, -103.4098578),\n",
        " 'SAN MIGUEL DE LA PAZ': (20.3702677, -102.6627865),\n",
        " 'HOSTOTIPAQUILLO': (21.0584771, -104.050605),\n",
        " 'AGUASCALIENTES': (21.3621377, -101.9409428),\n",
        " 'AYOTLAN': (20.47223855, -102.3641292878145),\n",
        " 'SAN JUANITO DE ESCOBEDO': (20.8136991, -103.9923066295169),\n",
        " 'MEZQUITIC': (22.2313494, -104.1102847617064),\n",
        " 'TEPAME': (20.7083627, -103.4468134),\n",
        " 'JACONA DE PLANCARTE': (19.9480312, -102.3149795),\n",
        " 'LA PAZ DE ORDAZ': (0, 0),\n",
        " 'AUTLAN DE NAVARRO': (19.75703, -104.31834015548738),\n",
        " 'CIHUATLAN': (19.263284849999998, -104.60497365939882),\n",
        " 'TECAMAC DE FELIPE VILLANUEVA': (19.7182209, -98.9645163),\n",
        " 'COLIMA': (20.6292273, -105.2164695),\n",
        " 'VILLA PURIFICACION': (19.82320785, -104.73273779114446),\n",
        " 'MI GRANJITA': (0, 0),\n",
        " 'LA PAZ': (20.5396776, -103.0513766),\n",
        " 'NAHUAPA': (19.9207681, -105.3183541),\n",
        " 'LA PIEDRERA': (20.7756507, -103.3454871),\n",
        " 'MASCOTA': (20.5533013, -104.76338164381983),\n",
        " 'LA UNION': (19.9144306, -102.7901964),\n",
        " 'SAN IGNACIO RIO MUERTO': (0, 0),\n",
        " 'SAN MIGUEL EL ALTO': (20.99270025, -102.39359813114054),\n",
        " 'APANGO': (0, 0),\n",
        " 'SANTA GERTRUDIS (SANTA CRUZ)': (0, 0),\n",
        " 'POTRERILLOS': (20.3380245, -103.3761834),\n",
        " 'JAMAY': (20.293352650000003, -102.68652379075318)}"
      ],
      "metadata": {
        "id": "qt66TdlfgBzj"
      },
      "execution_count": null,
      "outputs": []
    },
    {
      "cell_type": "code",
      "source": [
        "faltan={'TLAJOMULCO DE ZU?IGA':(20.4739,-103.447),\n",
        "'GRANJA SIN NOMBRE':(20.6794244, -103.4481621),\n",
        "'VILLA ALBERTO ANDRES ALVARADO ARAMBURO':(27.644444,113.3847),\n",
        "'PUERTA DE PERICOS (TLACHICHILCO)':(20.655556,-104.148333),\n",
        "'LEON DE LOS ALDAMA':(21.12908,-101.67374),\n",
        "'OCOTEPEC': (20.2847,-103.428),\n",
        "'TAPACHULA DE CORDOVA Y ORDO?EZ':(14.908056,-92.260556),\n",
        "'NUEVO CASAS GRANDES':(30.417,107.9125),\n",
        "'TLAXCALA DE XICOHTENCATL':(19.3190500,-98.1998200),\n",
        "'ATLACOMULCO DE FABELA':(19.797500,-99.874444),\n",
        "'SANTA CRUZ AMILPAS':(17.058333,-96.683333),\n",
        "'CENTRO HIDROPONICO GOMEZ FARIAS':(19.7929,-103.475 ),\n",
        "'VILLA DE GARCIA MARQUEZ (EL TARENGO NUEVO)':(20.431111,-102.496389),\n",
        "'SAN MARTIN DE LAS FLORES DE ABAJO':(20.585278,-103.282778),\n",
        "'ABERRUSCO':(20.200556,-103.981389),\n",
        "'VISTAS III':(20.7082042,-103.3619351),\n",
        "'LAS ANIMAS DE QUIMIXTO':(20.506667,-105.344444),\n",
        "'LOS FRESEROS':(20.419167,-103.188889),\n",
        "'TANHUATO DE GUERRERO':(20.281944,-102.331944),\n",
        "'PAJACUARAN':(20.1189,-102.566),\n",
        "'SANTA MARIA DE LA PAZ':(21.5134,-103.408),\n",
        "'XICOTEPEC DE JUAREZ':(20.274167,-97.955000),\n",
        "'LA PAZ DE ORDAZ':(20.3333,-102.533),\n",
        "'MI GRANJITA':(19.25465,-99.10356),\n",
        "'SAN IGNACIO RIO MUERTO':(27.35362,-110.45337),\n",
        "'APANGO':(19.781944, -103.711111),\n",
        "'SANTA GERTRUDIS (SANTA CRUZ)':(22.07278,-104.19083),\n",
        "}8"
      ],
      "metadata": {
        "id": "rm5el3y6gXxU"
      },
      "execution_count": null,
      "outputs": []
    },
    {
      "cell_type": "code",
      "source": [
        "for i in faltan:\n",
        "  LL_D[i]=faltan[i]\n",
        "\n",
        "#Con esto ya tenemos el diccionario con todas las localidades asignadas les tenemos una localización latitud y longitud"
      ],
      "metadata": {
        "id": "x9D9olWVj5R_"
      },
      "execution_count": null,
      "outputs": []
    },
    {
      "cell_type": "code",
      "source": [
        "confirmados=confirmados.reset_index()"
      ],
      "metadata": {
        "id": "EcjnB8_InQ6G"
      },
      "execution_count": null,
      "outputs": []
    },
    {
      "cell_type": "code",
      "source": [
        "for i in LL_D:\n",
        "  confirmados['LATLOCA'].loc[confirmados['LOCRESI']==i]=LL_D[i][0]\n",
        "\n",
        "for i in LL_D:\n",
        "  confirmados['LONGLOCA'].loc[confirmados['LOCRESI']==i]=LL_D[i][1]\n",
        "#Así, ahora todas las locaciones tienen sus coordenadas bien definidas"
      ],
      "metadata": {
        "id": "C02yDE4Csr2-"
      },
      "execution_count": null,
      "outputs": []
    },
    {
      "cell_type": "code",
      "source": [
        "#Agregamos los puntos que serán el centro de cada una de las estaciones\n",
        "#Points={'Guadalajara':(20.67425, -103.35006),'IAM' :(20.674609, -103.384118),'La Experiencia': (20.67011, -103.2855),'Molinos': (20.80566, -103.45767),'Pla_sol':(20.65511, -103.39836), 'Prepa 20': (20.63019, -103.46544),'Tlaquepaque': (20.63813, -103.30823),'Tonala': (20.62449, -103.24089), 'UAG': (20.68703, -103.39194),'Zapopan': (20.7252, -103.38905), 'Zapotlanejo': (20.61913, -103.06633)}\n",
        "Points={'Pir_sol':(20.62638252600345, -103.43335530002135),'IAM' :(20.674609, -103.384118),'Guadalajara':(20.66682,-103.39182), 'Prepa 20': (20.63019, -103.46544), 'UAG': (20.68703, -103.39194),'Tetlan':(20.662216168559688, -103.27287521774362), 'Tlaquepaque':(20.64091,-103.29327), 'Zapopan':(20.7252, -103.38905), 'Zapotlanejo':(20.61913, -103.06633), 'Tonala':(20.62449, -103.24089),'Molinos': (20.80566, -103.45767),'Acatlán de Juárez':(20.4231,-103.58920)}"
      ],
      "metadata": {
        "id": "Se_6vT7UFjeE"
      },
      "execution_count": null,
      "outputs": []
    },
    {
      "cell_type": "code",
      "source": [
        "Estaciones=[1,2,3,4,5,6,7,8,9,0,1,2]\n",
        "Latitud=[1,2,3,4,5,6,7,8,9,0,1,2]\n",
        "Longitud=[1,2,3,4,5,6,7,8,9,0,1,2]\n",
        "s=0\n",
        "for i in Points:\n",
        "  Estaciones[s],Longitud[s],Latitud[s]= i ,Points[i][1],Points[i][0]\n",
        "  s=s+1\n"
      ],
      "metadata": {
        "id": "rA1FpvYLdzPP"
      },
      "execution_count": null,
      "outputs": []
    },
    {
      "cell_type": "code",
      "source": [
        "EstacionesD=pd.DataFrame({'Estaciones':Estaciones, 'Latitud': Latitud, 'Longitud': Longitud})\n"
      ],
      "metadata": {
        "colab": {
          "base_uri": "https://localhost:8080/",
          "height": 425
        },
        "id": "Heu9oOI1_DtR",
        "outputId": "67bae545-6707-4a5c-98f3-fd49d5f5d02e"
      },
      "execution_count": null,
      "outputs": [
        {
          "output_type": "execute_result",
          "data": {
            "text/plain": [
              "           Estaciones    Latitud    Longitud\n",
              "0             Pir_sol  20.626383 -103.433355\n",
              "1                 IAM  20.674609 -103.384118\n",
              "2         Guadalajara  20.666820 -103.391820\n",
              "3            Prepa 20  20.630190 -103.465440\n",
              "4                 UAG  20.687030 -103.391940\n",
              "5              Tetlan  20.662216 -103.272875\n",
              "6         Tlaquepaque  20.640910 -103.293270\n",
              "7             Zapopan  20.725200 -103.389050\n",
              "8         Zapotlanejo  20.619130 -103.066330\n",
              "9              Tonala  20.624490 -103.240890\n",
              "10            Molinos  20.805660 -103.457670\n",
              "11  Acatlán de Juárez  20.423100 -103.589200"
            ],
            "text/html": [
              "\n",
              "  <div id=\"df-c44576d5-0b7d-44a4-8113-52aa2760be82\">\n",
              "    <div class=\"colab-df-container\">\n",
              "      <div>\n",
              "<style scoped>\n",
              "    .dataframe tbody tr th:only-of-type {\n",
              "        vertical-align: middle;\n",
              "    }\n",
              "\n",
              "    .dataframe tbody tr th {\n",
              "        vertical-align: top;\n",
              "    }\n",
              "\n",
              "    .dataframe thead th {\n",
              "        text-align: right;\n",
              "    }\n",
              "</style>\n",
              "<table border=\"1\" class=\"dataframe\">\n",
              "  <thead>\n",
              "    <tr style=\"text-align: right;\">\n",
              "      <th></th>\n",
              "      <th>Estaciones</th>\n",
              "      <th>Latitud</th>\n",
              "      <th>Longitud</th>\n",
              "    </tr>\n",
              "  </thead>\n",
              "  <tbody>\n",
              "    <tr>\n",
              "      <th>0</th>\n",
              "      <td>Pir_sol</td>\n",
              "      <td>20.626383</td>\n",
              "      <td>-103.433355</td>\n",
              "    </tr>\n",
              "    <tr>\n",
              "      <th>1</th>\n",
              "      <td>IAM</td>\n",
              "      <td>20.674609</td>\n",
              "      <td>-103.384118</td>\n",
              "    </tr>\n",
              "    <tr>\n",
              "      <th>2</th>\n",
              "      <td>Guadalajara</td>\n",
              "      <td>20.666820</td>\n",
              "      <td>-103.391820</td>\n",
              "    </tr>\n",
              "    <tr>\n",
              "      <th>3</th>\n",
              "      <td>Prepa 20</td>\n",
              "      <td>20.630190</td>\n",
              "      <td>-103.465440</td>\n",
              "    </tr>\n",
              "    <tr>\n",
              "      <th>4</th>\n",
              "      <td>UAG</td>\n",
              "      <td>20.687030</td>\n",
              "      <td>-103.391940</td>\n",
              "    </tr>\n",
              "    <tr>\n",
              "      <th>5</th>\n",
              "      <td>Tetlan</td>\n",
              "      <td>20.662216</td>\n",
              "      <td>-103.272875</td>\n",
              "    </tr>\n",
              "    <tr>\n",
              "      <th>6</th>\n",
              "      <td>Tlaquepaque</td>\n",
              "      <td>20.640910</td>\n",
              "      <td>-103.293270</td>\n",
              "    </tr>\n",
              "    <tr>\n",
              "      <th>7</th>\n",
              "      <td>Zapopan</td>\n",
              "      <td>20.725200</td>\n",
              "      <td>-103.389050</td>\n",
              "    </tr>\n",
              "    <tr>\n",
              "      <th>8</th>\n",
              "      <td>Zapotlanejo</td>\n",
              "      <td>20.619130</td>\n",
              "      <td>-103.066330</td>\n",
              "    </tr>\n",
              "    <tr>\n",
              "      <th>9</th>\n",
              "      <td>Tonala</td>\n",
              "      <td>20.624490</td>\n",
              "      <td>-103.240890</td>\n",
              "    </tr>\n",
              "    <tr>\n",
              "      <th>10</th>\n",
              "      <td>Molinos</td>\n",
              "      <td>20.805660</td>\n",
              "      <td>-103.457670</td>\n",
              "    </tr>\n",
              "    <tr>\n",
              "      <th>11</th>\n",
              "      <td>Acatlán de Juárez</td>\n",
              "      <td>20.423100</td>\n",
              "      <td>-103.589200</td>\n",
              "    </tr>\n",
              "  </tbody>\n",
              "</table>\n",
              "</div>\n",
              "      <button class=\"colab-df-convert\" onclick=\"convertToInteractive('df-c44576d5-0b7d-44a4-8113-52aa2760be82')\"\n",
              "              title=\"Convert this dataframe to an interactive table.\"\n",
              "              style=\"display:none;\">\n",
              "        \n",
              "  <svg xmlns=\"http://www.w3.org/2000/svg\" height=\"24px\"viewBox=\"0 0 24 24\"\n",
              "       width=\"24px\">\n",
              "    <path d=\"M0 0h24v24H0V0z\" fill=\"none\"/>\n",
              "    <path d=\"M18.56 5.44l.94 2.06.94-2.06 2.06-.94-2.06-.94-.94-2.06-.94 2.06-2.06.94zm-11 1L8.5 8.5l.94-2.06 2.06-.94-2.06-.94L8.5 2.5l-.94 2.06-2.06.94zm10 10l.94 2.06.94-2.06 2.06-.94-2.06-.94-.94-2.06-.94 2.06-2.06.94z\"/><path d=\"M17.41 7.96l-1.37-1.37c-.4-.4-.92-.59-1.43-.59-.52 0-1.04.2-1.43.59L10.3 9.45l-7.72 7.72c-.78.78-.78 2.05 0 2.83L4 21.41c.39.39.9.59 1.41.59.51 0 1.02-.2 1.41-.59l7.78-7.78 2.81-2.81c.8-.78.8-2.07 0-2.86zM5.41 20L4 18.59l7.72-7.72 1.47 1.35L5.41 20z\"/>\n",
              "  </svg>\n",
              "      </button>\n",
              "      \n",
              "  <style>\n",
              "    .colab-df-container {\n",
              "      display:flex;\n",
              "      flex-wrap:wrap;\n",
              "      gap: 12px;\n",
              "    }\n",
              "\n",
              "    .colab-df-convert {\n",
              "      background-color: #E8F0FE;\n",
              "      border: none;\n",
              "      border-radius: 50%;\n",
              "      cursor: pointer;\n",
              "      display: none;\n",
              "      fill: #1967D2;\n",
              "      height: 32px;\n",
              "      padding: 0 0 0 0;\n",
              "      width: 32px;\n",
              "    }\n",
              "\n",
              "    .colab-df-convert:hover {\n",
              "      background-color: #E2EBFA;\n",
              "      box-shadow: 0px 1px 2px rgba(60, 64, 67, 0.3), 0px 1px 3px 1px rgba(60, 64, 67, 0.15);\n",
              "      fill: #174EA6;\n",
              "    }\n",
              "\n",
              "    [theme=dark] .colab-df-convert {\n",
              "      background-color: #3B4455;\n",
              "      fill: #D2E3FC;\n",
              "    }\n",
              "\n",
              "    [theme=dark] .colab-df-convert:hover {\n",
              "      background-color: #434B5C;\n",
              "      box-shadow: 0px 1px 3px 1px rgba(0, 0, 0, 0.15);\n",
              "      filter: drop-shadow(0px 1px 2px rgba(0, 0, 0, 0.3));\n",
              "      fill: #FFFFFF;\n",
              "    }\n",
              "  </style>\n",
              "\n",
              "      <script>\n",
              "        const buttonEl =\n",
              "          document.querySelector('#df-c44576d5-0b7d-44a4-8113-52aa2760be82 button.colab-df-convert');\n",
              "        buttonEl.style.display =\n",
              "          google.colab.kernel.accessAllowed ? 'block' : 'none';\n",
              "\n",
              "        async function convertToInteractive(key) {\n",
              "          const element = document.querySelector('#df-c44576d5-0b7d-44a4-8113-52aa2760be82');\n",
              "          const dataTable =\n",
              "            await google.colab.kernel.invokeFunction('convertToInteractive',\n",
              "                                                     [key], {});\n",
              "          if (!dataTable) return;\n",
              "\n",
              "          const docLinkHtml = 'Like what you see? Visit the ' +\n",
              "            '<a target=\"_blank\" href=https://colab.research.google.com/notebooks/data_table.ipynb>data table notebook</a>'\n",
              "            + ' to learn more about interactive tables.';\n",
              "          element.innerHTML = '';\n",
              "          dataTable['output_type'] = 'display_data';\n",
              "          await google.colab.output.renderOutput(dataTable, element);\n",
              "          const docLink = document.createElement('div');\n",
              "          docLink.innerHTML = docLinkHtml;\n",
              "          element.appendChild(docLink);\n",
              "        }\n",
              "      </script>\n",
              "    </div>\n",
              "  </div>\n",
              "  "
            ]
          },
          "metadata": {},
          "execution_count": 31
        }
      ]
    },
    {
      "cell_type": "markdown",
      "source": [
        "## *Creando los mapas y filtrándolos**"
      ],
      "metadata": {
        "id": "8s5-tYSLSTF_"
      }
    },
    {
      "cell_type": "code",
      "source": [
        "import folium\n",
        "from folium import Marker, GeoJson\n",
        "from folium.plugins import HeatMap\n",
        "\n",
        "import geopandas as gpd\n",
        "#Nota para mí, cambiar los epsg a ver qué pasa"
      ],
      "metadata": {
        "id": "wjqQbhdrSYHH"
      },
      "execution_count": null,
      "outputs": []
    },
    {
      "cell_type": "code",
      "source": [
        "Estaciones5=EstacionesD.iloc[7:,:]\n",
        "Estaciones2=EstacionesD.iloc[:7,:]\n",
        "geo_confirmados=gpd.GeoDataFrame(confirmados,\n",
        "                                 geometry=gpd.points_from_xy(confirmados.LONGLOCA,confirmados.LATLOCA),\n",
        "                                 crs='epsg:4326')\n",
        "\n",
        "geo_stations_5=gpd.GeoDataFrame(Estaciones5,\n",
        "                                geometry=gpd.points_from_xy(Estaciones5.Longitud,Estaciones5.Latitud),\n",
        "                                crs='epsg:4326')\n",
        "\n",
        "\n",
        "geo_stations_2=gpd.GeoDataFrame(Estaciones2,\n",
        "                                geometry=gpd.points_from_xy(Estaciones2.Longitud,Estaciones2.Latitud)\n",
        "                                ,crs='epsg:4326')\n",
        "Estaciones5"
      ],
      "metadata": {
        "id": "C5KfHYKVSf70",
        "colab": {
          "base_uri": "https://localhost:8080/",
          "height": 206
        },
        "outputId": "75a7022a-340a-4f60-e82f-6ce179a392ef"
      },
      "execution_count": null,
      "outputs": [
        {
          "output_type": "execute_result",
          "data": {
            "text/plain": [
              "           Estaciones   Latitud   Longitud                     geometry\n",
              "7             Zapopan  20.72520 -103.38905  POINT (-103.38905 20.72520)\n",
              "8         Zapotlanejo  20.61913 -103.06633  POINT (-103.06633 20.61913)\n",
              "9              Tonala  20.62449 -103.24089  POINT (-103.24089 20.62449)\n",
              "10            Molinos  20.80566 -103.45767  POINT (-103.45767 20.80566)\n",
              "11  Acatlán de Juárez  20.42310 -103.58920  POINT (-103.58920 20.42310)"
            ],
            "text/html": [
              "\n",
              "  <div id=\"df-c3b58437-a447-4ee1-9d70-900cdfefe369\">\n",
              "    <div class=\"colab-df-container\">\n",
              "      <div>\n",
              "<style scoped>\n",
              "    .dataframe tbody tr th:only-of-type {\n",
              "        vertical-align: middle;\n",
              "    }\n",
              "\n",
              "    .dataframe tbody tr th {\n",
              "        vertical-align: top;\n",
              "    }\n",
              "\n",
              "    .dataframe thead th {\n",
              "        text-align: right;\n",
              "    }\n",
              "</style>\n",
              "<table border=\"1\" class=\"dataframe\">\n",
              "  <thead>\n",
              "    <tr style=\"text-align: right;\">\n",
              "      <th></th>\n",
              "      <th>Estaciones</th>\n",
              "      <th>Latitud</th>\n",
              "      <th>Longitud</th>\n",
              "      <th>geometry</th>\n",
              "    </tr>\n",
              "  </thead>\n",
              "  <tbody>\n",
              "    <tr>\n",
              "      <th>7</th>\n",
              "      <td>Zapopan</td>\n",
              "      <td>20.72520</td>\n",
              "      <td>-103.38905</td>\n",
              "      <td>POINT (-103.38905 20.72520)</td>\n",
              "    </tr>\n",
              "    <tr>\n",
              "      <th>8</th>\n",
              "      <td>Zapotlanejo</td>\n",
              "      <td>20.61913</td>\n",
              "      <td>-103.06633</td>\n",
              "      <td>POINT (-103.06633 20.61913)</td>\n",
              "    </tr>\n",
              "    <tr>\n",
              "      <th>9</th>\n",
              "      <td>Tonala</td>\n",
              "      <td>20.62449</td>\n",
              "      <td>-103.24089</td>\n",
              "      <td>POINT (-103.24089 20.62449)</td>\n",
              "    </tr>\n",
              "    <tr>\n",
              "      <th>10</th>\n",
              "      <td>Molinos</td>\n",
              "      <td>20.80566</td>\n",
              "      <td>-103.45767</td>\n",
              "      <td>POINT (-103.45767 20.80566)</td>\n",
              "    </tr>\n",
              "    <tr>\n",
              "      <th>11</th>\n",
              "      <td>Acatlán de Juárez</td>\n",
              "      <td>20.42310</td>\n",
              "      <td>-103.58920</td>\n",
              "      <td>POINT (-103.58920 20.42310)</td>\n",
              "    </tr>\n",
              "  </tbody>\n",
              "</table>\n",
              "</div>\n",
              "      <button class=\"colab-df-convert\" onclick=\"convertToInteractive('df-c3b58437-a447-4ee1-9d70-900cdfefe369')\"\n",
              "              title=\"Convert this dataframe to an interactive table.\"\n",
              "              style=\"display:none;\">\n",
              "        \n",
              "  <svg xmlns=\"http://www.w3.org/2000/svg\" height=\"24px\"viewBox=\"0 0 24 24\"\n",
              "       width=\"24px\">\n",
              "    <path d=\"M0 0h24v24H0V0z\" fill=\"none\"/>\n",
              "    <path d=\"M18.56 5.44l.94 2.06.94-2.06 2.06-.94-2.06-.94-.94-2.06-.94 2.06-2.06.94zm-11 1L8.5 8.5l.94-2.06 2.06-.94-2.06-.94L8.5 2.5l-.94 2.06-2.06.94zm10 10l.94 2.06.94-2.06 2.06-.94-2.06-.94-.94-2.06-.94 2.06-2.06.94z\"/><path d=\"M17.41 7.96l-1.37-1.37c-.4-.4-.92-.59-1.43-.59-.52 0-1.04.2-1.43.59L10.3 9.45l-7.72 7.72c-.78.78-.78 2.05 0 2.83L4 21.41c.39.39.9.59 1.41.59.51 0 1.02-.2 1.41-.59l7.78-7.78 2.81-2.81c.8-.78.8-2.07 0-2.86zM5.41 20L4 18.59l7.72-7.72 1.47 1.35L5.41 20z\"/>\n",
              "  </svg>\n",
              "      </button>\n",
              "      \n",
              "  <style>\n",
              "    .colab-df-container {\n",
              "      display:flex;\n",
              "      flex-wrap:wrap;\n",
              "      gap: 12px;\n",
              "    }\n",
              "\n",
              "    .colab-df-convert {\n",
              "      background-color: #E8F0FE;\n",
              "      border: none;\n",
              "      border-radius: 50%;\n",
              "      cursor: pointer;\n",
              "      display: none;\n",
              "      fill: #1967D2;\n",
              "      height: 32px;\n",
              "      padding: 0 0 0 0;\n",
              "      width: 32px;\n",
              "    }\n",
              "\n",
              "    .colab-df-convert:hover {\n",
              "      background-color: #E2EBFA;\n",
              "      box-shadow: 0px 1px 2px rgba(60, 64, 67, 0.3), 0px 1px 3px 1px rgba(60, 64, 67, 0.15);\n",
              "      fill: #174EA6;\n",
              "    }\n",
              "\n",
              "    [theme=dark] .colab-df-convert {\n",
              "      background-color: #3B4455;\n",
              "      fill: #D2E3FC;\n",
              "    }\n",
              "\n",
              "    [theme=dark] .colab-df-convert:hover {\n",
              "      background-color: #434B5C;\n",
              "      box-shadow: 0px 1px 3px 1px rgba(0, 0, 0, 0.15);\n",
              "      filter: drop-shadow(0px 1px 2px rgba(0, 0, 0, 0.3));\n",
              "      fill: #FFFFFF;\n",
              "    }\n",
              "  </style>\n",
              "\n",
              "      <script>\n",
              "        const buttonEl =\n",
              "          document.querySelector('#df-c3b58437-a447-4ee1-9d70-900cdfefe369 button.colab-df-convert');\n",
              "        buttonEl.style.display =\n",
              "          google.colab.kernel.accessAllowed ? 'block' : 'none';\n",
              "\n",
              "        async function convertToInteractive(key) {\n",
              "          const element = document.querySelector('#df-c3b58437-a447-4ee1-9d70-900cdfefe369');\n",
              "          const dataTable =\n",
              "            await google.colab.kernel.invokeFunction('convertToInteractive',\n",
              "                                                     [key], {});\n",
              "          if (!dataTable) return;\n",
              "\n",
              "          const docLinkHtml = 'Like what you see? Visit the ' +\n",
              "            '<a target=\"_blank\" href=https://colab.research.google.com/notebooks/data_table.ipynb>data table notebook</a>'\n",
              "            + ' to learn more about interactive tables.';\n",
              "          element.innerHTML = '';\n",
              "          dataTable['output_type'] = 'display_data';\n",
              "          await google.colab.output.renderOutput(dataTable, element);\n",
              "          const docLink = document.createElement('div');\n",
              "          docLink.innerHTML = docLinkHtml;\n",
              "          element.appendChild(docLink);\n",
              "        }\n",
              "      </script>\n",
              "    </div>\n",
              "  </div>\n",
              "  "
            ]
          },
          "metadata": {},
          "execution_count": 36
        }
      ]
    },
    {
      "cell_type": "markdown",
      "source": [],
      "metadata": {
        "id": "3TZ5ayqLbgF4"
      }
    },
    {
      "cell_type": "code",
      "source": [
        "print(geo_stations_5.crs)\n",
        "print(geo_stations_2.crs)\n",
        "print(geo_confirmados.crs)\n"
      ],
      "metadata": {
        "colab": {
          "base_uri": "https://localhost:8080/"
        },
        "id": "NqWeTicqTWkc",
        "outputId": "8155124e-658b-413b-fa93-99b60d635688"
      },
      "execution_count": null,
      "outputs": [
        {
          "output_type": "stream",
          "name": "stdout",
          "text": [
            "EPSG:32634\n",
            "EPSG:32634\n",
            "epsg:4326\n"
          ]
        },
        {
          "output_type": "execute_result",
          "data": {
            "text/plain": [
              "0"
            ]
          },
          "metadata": {},
          "execution_count": 63
        }
      ]
    },
    {
      "cell_type": "code",
      "source": [
        "geo_stations_5= geo_stations_5.to_crs(\"EPSG:32634\") #Cambios el EPSG para que funcione usar el buffer\n",
        "geo_stations_2=geo_stations_2.to_crs(\"EPSG:32634\")\n",
        "\n",
        "\n",
        "dos_km=geo_stations_2['geometry'].buffer(2000) #Generamos círculos de 2 y 5 km para cada estación\n",
        "cin_km=geo_stations_5['geometry'].buffer(5000)\n"
      ],
      "metadata": {
        "id": "qoHYvzDhTbqT"
      },
      "execution_count": null,
      "outputs": []
    },
    {
      "cell_type": "code",
      "source": [
        "m=folium.Map(location=[20.674609,-103.384118],zoom_start=12)\n",
        "HeatMap(data=confirmados[['LATLOCA', 'LONGLOCA']], radius=15).add_to(m)\n",
        "for idx, row in EstacionesD.iterrows():\n",
        "  Marker([row['Latitud'],row['Longitud']],popup='Estación: {} <br> Latitud: {} <br> Longitud {}'.format(EstacionesD['Estaciones'][idx], EstacionesD['Latitud'][idx],EstacionesD['Longitud'][idx]),radius=20).add_to(m)\n",
        "\n",
        "GeoJson(dos_km).add_to(m)\n",
        "GeoJson(cin_km).add_to(m)\n",
        "m"
      ],
      "metadata": {
        "colab": {
          "base_uri": "https://localhost:8080/",
          "height": 1000
        },
        "id": "GlQag2CFb5P3",
        "outputId": "23e9ebd8-c75f-400c-81e9-cc955c591a4a"
      },
      "execution_count": null,
      "outputs": [
        {
          "output_type": "execute_result",
          "data": {
            "text/plain": [
              "<folium.folium.Map at 0x7f717a39a850>"
            ],
            "text/html": [
              "<div style=\"width:100%;\"><div style=\"position:relative;width:100%;height:0;padding-bottom:60%;\"><span style=\"color:#565656\">Make this Notebook Trusted to load map: File -> Trust Notebook</span><iframe srcdoc=\"&lt;!DOCTYPE html&gt;\n",
              "&lt;html&gt;\n",
              "&lt;head&gt;\n",
              "    \n",
              "    &lt;meta http-equiv=&quot;content-type&quot; content=&quot;text/html; charset=UTF-8&quot; /&gt;\n",
              "    \n",
              "        &lt;script&gt;\n",
              "            L_NO_TOUCH = false;\n",
              "            L_DISABLE_3D = false;\n",
              "        &lt;/script&gt;\n",
              "    \n",
              "    &lt;style&gt;html, body {width: 100%;height: 100%;margin: 0;padding: 0;}&lt;/style&gt;\n",
              "    &lt;style&gt;#map {position:absolute;top:0;bottom:0;right:0;left:0;}&lt;/style&gt;\n",
              "    &lt;script src=&quot;https://cdn.jsdelivr.net/npm/leaflet@1.6.0/dist/leaflet.js&quot;&gt;&lt;/script&gt;\n",
              "    &lt;script src=&quot;https://code.jquery.com/jquery-1.12.4.min.js&quot;&gt;&lt;/script&gt;\n",
              "    &lt;script src=&quot;https://maxcdn.bootstrapcdn.com/bootstrap/3.2.0/js/bootstrap.min.js&quot;&gt;&lt;/script&gt;\n",
              "    &lt;script src=&quot;https://cdnjs.cloudflare.com/ajax/libs/Leaflet.awesome-markers/2.0.2/leaflet.awesome-markers.js&quot;&gt;&lt;/script&gt;\n",
              "    &lt;link rel=&quot;stylesheet&quot; href=&quot;https://cdn.jsdelivr.net/npm/leaflet@1.6.0/dist/leaflet.css&quot;/&gt;\n",
              "    &lt;link rel=&quot;stylesheet&quot; href=&quot;https://maxcdn.bootstrapcdn.com/bootstrap/3.2.0/css/bootstrap.min.css&quot;/&gt;\n",
              "    &lt;link rel=&quot;stylesheet&quot; href=&quot;https://maxcdn.bootstrapcdn.com/bootstrap/3.2.0/css/bootstrap-theme.min.css&quot;/&gt;\n",
              "    &lt;link rel=&quot;stylesheet&quot; href=&quot;https://maxcdn.bootstrapcdn.com/font-awesome/4.6.3/css/font-awesome.min.css&quot;/&gt;\n",
              "    &lt;link rel=&quot;stylesheet&quot; href=&quot;https://cdnjs.cloudflare.com/ajax/libs/Leaflet.awesome-markers/2.0.2/leaflet.awesome-markers.css&quot;/&gt;\n",
              "    &lt;link rel=&quot;stylesheet&quot; href=&quot;https://cdn.jsdelivr.net/gh/python-visualization/folium/folium/templates/leaflet.awesome.rotate.min.css&quot;/&gt;\n",
              "    \n",
              "            &lt;meta name=&quot;viewport&quot; content=&quot;width=device-width,\n",
              "                initial-scale=1.0, maximum-scale=1.0, user-scalable=no&quot; /&gt;\n",
              "            &lt;style&gt;\n",
              "                #map_0499eb446fbab29c928d6e912062020f {\n",
              "                    position: relative;\n",
              "                    width: 100.0%;\n",
              "                    height: 100.0%;\n",
              "                    left: 0.0%;\n",
              "                    top: 0.0%;\n",
              "                }\n",
              "            &lt;/style&gt;\n",
              "        \n",
              "    &lt;script src=&quot;https://cdn.jsdelivr.net/gh/python-visualization/folium@master/folium/templates/leaflet_heat.min.js&quot;&gt;&lt;/script&gt;\n",
              "&lt;/head&gt;\n",
              "&lt;body&gt;\n",
              "    \n",
              "    \n",
              "            &lt;div class=&quot;folium-map&quot; id=&quot;map_0499eb446fbab29c928d6e912062020f&quot; &gt;&lt;/div&gt;\n",
              "        \n",
              "&lt;/body&gt;\n",
              "&lt;script&gt;\n",
              "    \n",
              "    \n",
              "            var map_0499eb446fbab29c928d6e912062020f = L.map(\n",
              "                &quot;map_0499eb446fbab29c928d6e912062020f&quot;,\n",
              "                {\n",
              "                    center: [20.674609, -103.384118],\n",
              "                    crs: L.CRS.EPSG3857,\n",
              "                    zoom: 12,\n",
              "                    zoomControl: true,\n",
              "                    preferCanvas: false,\n",
              "                }\n",
              "            );\n",
              "\n",
              "            \n",
              "\n",
              "        \n",
              "    \n",
              "            var tile_layer_c4c2dae368e9375ac517cbff8aef8bce = L.tileLayer(\n",
              "                &quot;https://{s}.tile.openstreetmap.org/{z}/{x}/{y}.png&quot;,\n",
              "                {&quot;attribution&quot;: &quot;Data by \\u0026copy; \\u003ca href=\\&quot;http://openstreetmap.org\\&quot;\\u003eOpenStreetMap\\u003c/a\\u003e, under \\u003ca href=\\&quot;http://www.openstreetmap.org/copyright\\&quot;\\u003eODbL\\u003c/a\\u003e.&quot;, &quot;detectRetina&quot;: false, &quot;maxNativeZoom&quot;: 18, &quot;maxZoom&quot;: 18, &quot;minZoom&quot;: 0, &quot;noWrap&quot;: false, &quot;opacity&quot;: 1, &quot;subdomains&quot;: &quot;abc&quot;, &quot;tms&quot;: false}\n",
              "            ).addTo(map_0499eb446fbab29c928d6e912062020f);\n",
              "        \n",
              "    \n",
              "            var heat_map_12eda50b1726a29bdda5f53d75aea600 = L.heatLayer(\n",
              "                [[20.6720375, -103.338396], [20.6720375, -103.338396], [20.423970500000003, -103.6013031524341], [20.6720375, -103.338396], [20.6720375, -103.338396], [20.7211203, -103.3913671], [20.6720375, -103.338396], [20.6720375, -103.338396], [20.6720375, -103.338396], [20.7211203, -103.3913671], [20.6720375, -103.338396], [20.7211203, -103.3913671], [20.8821155, -103.8370907], [20.7211203, -103.3913671], [20.6720375, -103.338396], [21.123410999999997, -102.95137191169567], [20.7211203, -103.3913671], [20.94949235, -103.03142458044168], [20.7211203, -103.3913671], [20.40302745, -103.20504879808468], [20.7211203, -103.3913671], [19.7001632, -103.463935], [20.6720375, -103.338396], [20.6185208, -103.22273591034522], [20.6720375, -103.338396], [20.7211203, -103.3913671], [20.7211203, -103.3913671], [20.6407176, -105.220306], [20.7211203, -103.3913671], [20.6720375, -103.338396], [20.7211203, -103.3913671], [20.7211203, -103.3913671], [20.7211203, -103.3913671], [20.6720375, -103.338396], [20.7211203, -103.3913671], [20.7211203, -103.3913671], [20.7211203, -103.3913671], [20.6720375, -103.338396], [20.6185208, -103.22273591034522], [20.6720375, -103.338396], [20.7211203, -103.3913671], [20.6720375, -103.338396], [20.3938983, -103.9492395], [20.6720375, -103.338396], [20.7211203, -103.3913671], [20.4739, -103.447], [20.7211203, -103.3913671], [20.6720375, -103.338396], [20.6720375, -103.338396], [20.7211203, -103.3913671], [20.6185208, -103.22273591034522], [20.7211203, -103.3913671], [20.7211203, -103.3913671], [20.6720375, -103.338396], [20.7211203, -103.3913671], [20.7211203, -103.3913671], [20.7211203, -103.3913671], [20.6720375, -103.338396], [20.6720375, -103.338396], [20.7211203, -103.3913671], [20.7211203, -103.3913671], [20.7211203, -103.3913671], [20.7211203, -103.3913671], [20.7211203, -103.3913671], [20.7211203, -103.3913671], [20.7211203, -103.3913671], [20.6185208, -103.22273591034522], [20.7211203, -103.3913671], [20.7211203, -103.3913671], [20.6720375, -103.338396], [20.6720375, -103.338396], [20.7211203, -103.3913671], [20.6720375, -103.338396], [20.6397718, -103.3120428], [19.7001632, -103.463935], [20.7211203, -103.3913671], [20.6720375, -103.338396], [20.6720375, -103.338396], [22.639352, -101.7017067], [20.6185208, -103.22273591034522], [20.6397718, -103.3120428], [20.7211203, -103.3913671], [20.6185208, -103.22273591034522], [20.7211203, -103.3913671], [20.7211203, -103.3913671], [20.6397718, -103.3120428], [20.7211203, -103.3913671], [20.6720375, -103.338396], [20.7211203, -103.3913671], [20.7211203, -103.3913671], [20.7211203, -103.3913671], [20.4739, -103.447], [20.7211203, -103.3913671], [20.7211203, -103.3913671], [20.7211203, -103.3913671], [20.7211203, -103.3913671], [20.7211203, -103.3913671], [20.7211203, -103.3913671], [20.6720375, -103.338396], [20.7211203, -103.3913671], [20.6720375, -103.338396], [20.6794244, -103.4481621], [20.6397718, -103.3120428], [20.7211203, -103.3913671], [20.6720375, -103.338396], [20.6397718, -103.3120428], [20.7211203, -103.3913671], [20.7211203, -103.3913671], [20.6720375, -103.338396], [20.74931205, -102.3142822111025], [20.6720375, -103.338396], [20.6720375, -103.338396], [20.7211203, -103.3913671], [20.6720375, -103.338396], [20.6720375, -103.338396], [20.6185208, -103.22273591034522], [20.6185208, -103.22273591034522], [20.7211203, -103.3913671], [20.7211203, -103.3913671], [20.767103, -103.5263514], [20.7211203, -103.3913671], [20.7211203, -103.3913671], [20.7211203, -103.3913671], [20.7211203, -103.3913671], [20.6720375, -103.338396], [20.6720375, -103.338396], [20.7211203, -103.3913671], [20.7211203, -103.3913671], [20.7211203, -103.3913671], [20.7211203, -103.3913671], [20.7211203, -103.3913671], [20.7211203, -103.3913671], [20.4739, -103.447], [20.6720375, -103.338396], [20.6720375, -103.338396], [20.6720375, -103.338396], [20.40302745, -103.20504879808468], [20.6720375, -103.338396], [20.6720375, -103.338396], [20.7211203, -103.3913671], [20.7211203, -103.3913671], [20.6720375, -103.338396], [20.6397718, -103.3120428], [20.7211203, -103.3913671], [20.539100050000002, -103.24037752852841], [20.4739, -103.447], [20.6397718, -103.3120428], [20.6720375, -103.338396], [20.6397718, -103.3120428], [20.6185208, -103.22273591034522], [20.7211203, -103.3913671], [20.6720375, -103.338396], [20.7211203, -103.3913671], [20.7211203, -103.3913671], [20.539100050000002, -103.24037752852841], [20.7211203, -103.3913671], [20.7211203, -103.3913671], [20.6720375, -103.338396], [20.7211203, -103.3913671], [20.6185208, -103.22273591034522], [20.7211203, -103.3913671], [20.6720375, -103.338396], [20.7211203, -103.3913671], [20.6720375, -103.338396], [20.6720375, -103.338396], [20.6720375, -103.338396], [19.7001632, -103.463935], [20.6614803, -105.2302037], [20.6720375, -103.338396], [20.4739, -103.447], [20.7211203, -103.3913671], [20.6720375, -103.338396], [20.586683700000002, -103.13455412949347], [20.6720375, -103.338396], [20.6720375, -103.338396], [20.6720375, -103.338396], [20.6720375, -103.338396], [20.6720375, -103.338396], [20.6397718, -103.3120428], [20.7211203, -103.3913671], [20.7211203, -103.3913671], [20.7211203, -103.3913671], [20.6397718, -103.3120428], [20.6185208, -103.22273591034522], [20.6720375, -103.338396], [20.6397718, -103.3120428], [20.6185208, -103.22273591034522], [20.7211203, -103.3913671], [20.6720375, -103.338396], [20.7211203, -103.3913671], [20.76868135, -102.51481451130394], [20.7211203, -103.3913671], [20.6185208, -103.22273591034522], [20.6720375, -103.338396], [20.7211203, -103.3913671], [20.539100050000002, -103.24037752852841], [20.6397718, -103.3120428], [20.7211203, -103.3913671], [20.6720375, -103.338396], [20.6720375, -103.338396], [20.6720375, -103.338396], [20.6397718, -103.3120428], [20.4739, -103.447], [20.4739, -103.447], [20.6720375, -103.338396], [20.7211203, -103.3913671], [20.6720375, -103.338396], [20.4739, -103.447], [20.4739, -103.447], [20.6397718, -103.3120428], [20.7211203, -103.3913671], [20.7211203, -103.3913671], [20.279764450000002, -103.22035855623801], [20.4739, -103.447], [20.7211203, -103.3913671], [20.7211203, -103.3913671], [20.7211203, -103.3913671], [20.7211203, -103.3913671], [20.4739, -103.447], [20.6720375, -103.338396], [20.7211203, -103.3913671], [20.7211203, -103.3913671], [20.6720375, -103.338396], [20.6720375, -103.338396], [20.7211203, -103.3913671], [20.6720375, -103.338396], [20.7211203, -103.3913671], [20.7211203, -103.3913671], [20.6397718, -103.3120428], [20.6720375, -103.338396], [20.7211203, -103.3913671], [20.6720375, -103.338396], [20.6185208, -103.22273591034522], [20.6397718, -103.3120428], [20.6720375, -103.338396], [20.7211203, -103.3913671], [20.7211203, -103.3913671], [20.6720375, -103.338396], [20.6720375, -103.338396], [20.45629675, -102.17482347106542], [20.6720375, -103.338396], [20.4739, -103.447], [20.6720375, -103.338396], [20.539100050000002, -103.24037752852841], [20.6185208, -103.22273591034522], [20.6185208, -103.22273591034522], [27.644444, 113.3847], [20.6720375, -103.338396], [20.6720375, -103.338396], [20.6720375, -103.338396], [20.6720375, -103.338396], [20.6720375, -103.338396], [20.6720375, -103.338396], [20.6720375, -103.338396], [20.6720375, -103.338396], [20.7211203, -103.3913671], [20.7211203, -103.3913671], [20.7211203, -103.3913671], [20.539100050000002, -103.24037752852841], [20.6720375, -103.338396], [20.7211203, -103.3913671], [20.7211203, -103.3913671], [20.6185208, -103.22273591034522], [20.6185208, -103.22273591034522], [20.7211203, -103.3913671], [20.6720375, -103.338396], [20.6397718, -103.3120428], [20.7211203, -103.3913671], [20.7211203, -103.3913671], [20.7211203, -103.3913671], [20.7211203, -103.3913671], [20.539100050000002, -103.24037752852841], [21.4816157, -102.52011498971609], [20.7211203, -103.3913671], [20.7211203, -103.3913671], [20.6720375, -103.338396], [20.6185208, -103.22273591034522], [20.6185208, -103.22273591034522], [20.6397718, -103.3120428], [20.6720375, -103.338396], [20.6720375, -103.338396], [20.6397718, -103.3120428], [20.76878345, -102.92039700254298], [20.6185208, -103.22273591034522], [20.6185208, -103.22273591034522], [20.6720375, -103.338396], [20.6720375, -103.338396], [20.6720375, -103.338396], [20.4739, -103.447], [20.7211203, -103.3913671], [20.7211203, -103.3913671], [20.7211203, -103.3913671], [20.6720375, -103.338396], [20.6720375, -103.338396], [20.6397718, -103.3120428], [20.6720375, -103.338396], [20.539100050000002, -103.24037752852841], [20.7211203, -103.3913671], [20.7211203, -103.3913671], [20.7211203, -103.3913671], [20.6720375, -103.338396], [20.6185208, -103.22273591034522], [20.6720375, -103.338396], [20.7211203, -103.3913671], [20.7211203, -103.3913671], [20.4739, -103.447], [20.6720375, -103.338396], [20.6185208, -103.22273591034522], [20.6720375, -103.338396], [20.7211203, -103.3913671], [20.7211203, -103.3913671], [20.7211203, -103.3913671], [20.7211203, -103.3913671], [20.7211203, -103.3913671], [20.6185208, -103.22273591034522], [20.7211203, -103.3913671], [20.6720375, -103.338396], [20.7211203, -103.3913671], [20.6397718, -103.3120428], [20.6185208, -103.22273591034522], [20.7211203, -103.3913671], [20.7211203, -103.3913671], [20.6720375, -103.338396], [20.7211203, -103.3913671], [20.655556, -104.148333], [20.7211203, -103.3913671], [20.35720795, -102.50327003201096], [20.7211203, -103.3913671], [20.7211203, -103.3913671], [20.6720375, -103.338396], [20.6720375, -103.338396], [20.6397718, -103.3120428], [20.7211203, -103.3913671], [20.7211203, -103.3913671], [20.6720375, -103.338396], [20.7211203, -103.3913671], [20.7211203, -103.3913671], [20.7211203, -103.3913671], [20.6396569, -103.05151855846849], [20.7211203, -103.3913671], [20.7211203, -103.3913671], [20.6185208, -103.22273591034522], [20.6397718, -103.3120428], [20.6720375, -103.338396], [20.6720375, -103.338396], [20.6720375, -103.338396], [20.6720375, -103.338396], [20.6720375, -103.338396], [20.7211203, -103.3913671], [20.6397718, -103.3120428], [20.7211203, -103.3913671], [20.7211203, -103.3913671], [20.6720375, -103.338396], [20.4739, -103.447], [20.6720375, -103.338396], [20.6720375, -103.338396], [20.7211203, -103.3913671], [20.7211203, -103.3913671], [21.12908, -101.67374], [20.6720375, -103.338396], [20.6720375, -103.338396], [20.6185208, -103.22273591034522], [20.6720375, -103.338396], [20.6720375, -103.338396], [20.6720375, -103.338396], [20.6720375, -103.338396], [20.6397718, -103.3120428], [20.6720375, -103.338396], [20.4739, -103.447], [20.7211203, -103.3913671], [20.6720375, -103.338396], [20.7211203, -103.3913671], [20.6720375, -103.338396], [20.6720375, -103.338396], [20.7211203, -103.3913671], [20.7211203, -103.3913671], [20.6185208, -103.22273591034522], [20.6720375, -103.338396], [20.6185208, -103.22273591034522], [20.7211203, -103.3913671], [20.6185208, -103.22273591034522], [20.6720375, -103.338396], [20.6720375, -103.338396], [20.7211203, -103.3913671], [20.5347004, -104.06466098593745], [20.5509918, -103.4437644], [20.610062499999998, -103.70750330271915], [20.4357022, -103.9301557], [20.6185208, -103.22273591034522], [20.6397718, -103.3120428], [20.6397718, -103.3120428], [20.7211203, -103.3913671], [20.7211203, -103.3913671], [20.6720375, -103.338396], [20.7211203, -103.3913671], [20.7944341, -103.4914926], [20.2847, -103.428], [20.7211203, -103.3913671], [20.7211203, -103.3913671], [20.6397718, -103.3120428], [20.6720375, -103.338396], [20.5064341, -103.3650489], [20.6720375, -103.338396], [20.6720375, -103.338396], [20.7211203, -103.3913671], [20.6720375, -103.338396], [20.7211203, -103.3913671], [20.6720375, -103.338396], [20.4739, -103.447], [20.7211203, -103.3913671], [20.6720375, -103.338396], [20.6720375, -103.338396], [20.7211203, -103.3913671], [20.6397718, -103.3120428], [20.7211203, -103.3913671], [20.7211203, -103.3913671], [20.7211203, -103.3913671], [20.7211203, -103.3913671], [20.6720375, -103.338396], [20.6720375, -103.338396], [20.7211203, -103.3913671], [20.7211203, -103.3913671], [20.7211203, -103.3913671], [20.4739, -103.447], [20.610062499999998, -103.70750330271915], [20.6720375, -103.338396], [20.6720375, -103.338396], [20.6720375, -103.338396], [20.6720375, -103.338396], [20.7211203, -103.3913671], [20.3872033, -102.73361924832378], [20.7211203, -103.3913671], [20.4035811, -103.81742103058032], [20.6720375, -103.338396], [20.6720375, -103.338396], [20.7211203, -103.3913671], [20.6720375, -103.338396], [20.7211203, -103.3913671], [20.7211203, -103.3913671], [20.4739, -103.447], [20.7211203, -103.3913671], [20.6720375, -103.338396], [20.289346950000002, -103.43686457681868], [20.7211203, -103.3913671], [20.7211203, -103.3913671], [20.4739, -103.447], [20.7211203, -103.3913671], [20.7211203, -103.3913671], [20.7211203, -103.3913671], [20.7211203, -103.3913671], [20.7211203, -103.3913671], [20.6720375, -103.338396], [20.7211203, -103.3913671], [20.6720375, -103.338396], [20.6720375, -103.338396], [20.7211203, -103.3913671], [20.7211203, -103.3913671], [20.7211203, -103.3913671], [20.4739, -103.447], [20.4739, -103.447], [20.6720375, -103.338396], [20.6720375, -103.338396], [20.8821155, -103.8370907], [20.6720375, -103.338396], [20.7211203, -103.3913671], [20.7211203, -103.3913671], [20.6720375, -103.338396], [20.6185208, -103.22273591034522], [20.6720375, -103.338396], [20.7211203, -103.3913671], [20.6720375, -103.338396], [20.7211203, -103.3913671], [20.6720375, -103.338396], [20.539100050000002, -103.24037752852841], [20.6720375, -103.338396], [20.6720375, -103.338396], [20.7211203, -103.3913671], [20.7211203, -103.3913671], [20.7211203, -103.3913671], [20.7211203, -103.3913671], [20.6397718, -103.3120428], [20.6720375, -103.338396], [20.4739, -103.447], [20.6720375, -103.338396], [20.7211203, -103.3913671], [20.6720375, -103.338396], [20.6720375, -103.338396], [20.7211203, -103.3913671], [20.6720375, -103.338396], [20.7211203, -103.3913671], [20.7211203, -103.3913671], [20.6720375, -103.338396], [20.7211203, -103.3913671], [20.7211203, -103.3913671], [20.6720375, -103.338396], [20.6720375, -103.338396], [20.6720375, -103.338396], [20.7211203, -103.3913671], [20.6397718, -103.3120428], [20.6720375, -103.338396], [20.7211203, -103.3913671], [20.6720375, -103.338396], [20.7211203, -103.3913671], [20.6397718, -103.3120428], [20.6720375, -103.338396], [20.6397718, -103.3120428], [20.6720375, -103.338396], [20.6397718, -103.3120428], [20.6397718, -103.3120428], [20.6720375, -103.338396], [20.6720375, -103.338396], [20.6397718, -103.3120428], [20.6720375, -103.338396], [20.6720375, -103.338396], [20.6720375, -103.338396], [20.7211203, -103.3913671], [20.6720375, -103.338396], [20.6720375, -103.338396], [20.289346950000002, -103.43686457681868], [20.6720375, -103.338396], [20.6720375, -103.338396], [20.7211203, -103.3913671], [20.6720375, -103.338396], [20.4739, -103.447], [20.279764450000002, -103.22035855623801], [20.904594250000002, -103.24987805369719], [20.6720375, -103.338396], [20.7211203, -103.3913671], [20.7211203, -103.3913671], [20.7211203, -103.3913671], [20.7211203, -103.3913671], [20.6720375, -103.338396], [20.7211203, -103.3913671], [20.7211203, -103.3913671], [20.539100050000002, -103.24037752852841], [19.857163800000002, -103.60889569436725], [20.6720375, -103.338396], [20.6720375, -103.338396], [20.6720375, -103.338396], [20.4739, -103.447], [20.7211203, -103.3913671], [20.7211203, -103.3913671], [20.6720375, -103.338396], [20.7211203, -103.3913671], [20.6185208, -103.22273591034522], [20.6720375, -103.338396], [20.6720375, -103.338396], [20.7211203, -103.3913671], [20.7211203, -103.3913671], [20.6720375, -103.338396], [20.7211203, -103.3913671], [20.6397718, -103.3120428], [20.6720375, -103.338396], [20.6720375, -103.338396], [20.6720375, -103.338396], [20.7211203, -103.3913671], [20.7211203, -103.3913671], [20.6720375, -103.338396], [20.6396569, -103.05151855846849], [20.7211203, -103.3913671], [20.6720375, -103.338396], [19.7935613, -103.4749503], [20.7211203, -103.3913671], [20.7211203, -103.3913671], [19.7001632, -103.463935], [20.7211203, -103.3913671], [20.6720375, -103.338396], [20.6720375, -103.338396], [20.7211203, -103.3913671], [20.7211203, -103.3913671], [20.7211203, -103.3913671], [20.761220899999998, -104.13063108161292], [20.556930299999998, -103.35840323683036], [20.6720375, -103.338396], [20.6185208, -103.22273591034522], [20.6720375, -103.338396], [20.4357022, -103.9301557], [20.4739, -103.447], [20.6720375, -103.338396], [20.6185208, -103.22273591034522], [20.7211203, -103.3913671], [20.7211203, -103.3913671], [20.6720375, -103.338396], [20.7211203, -103.3913671], [20.6397718, -103.3120428], [20.6397718, -103.3120428], [20.6185208, -103.22273591034522], [20.6185208, -103.22273591034522], [20.6185208, -103.22273591034522], [20.6720375, -103.338396], [20.91062025, -104.11585399809384], [20.6720375, -103.338396], [20.7211203, -103.3913671], [20.7211203, -103.3913671], [20.6720375, -103.338396], [20.7211203, -103.3913671], [20.6397718, -103.3120428], [20.7211203, -103.3913671], [20.7211203, -103.3913671], [20.6720375, -103.338396], [20.6720375, -103.338396], [20.6720375, -103.338396], [20.6720375, -103.338396], [20.6720375, -103.338396], [20.6720375, -103.338396], [20.6720375, -103.338396], [20.6720375, -103.338396], [20.6720375, -103.338396], [20.7211203, -103.3913671], [20.289346950000002, -103.43686457681868], [20.7211203, -103.3913671], [20.6397718, -103.3120428], [20.6720375, -103.338396], [20.6720375, -103.338396], [20.6720375, -103.338396], [20.6720375, -103.338396], [20.7211203, -103.3913671], [20.6396569, -103.05151855846849], [20.4739, -103.447], [20.7211203, -103.3913671], [20.7211203, -103.3913671], [20.6185208, -103.22273591034522], [20.7211203, -103.3913671], [20.6720375, -103.338396], [20.6720375, -103.338396], [20.7211203, -103.3913671], [20.7211203, -103.3913671], [20.7211203, -103.3913671], [20.7211203, -103.3913671], [20.7211203, -103.3913671], [20.7211203, -103.3913671], [20.7211203, -103.3913671], [20.7211203, -103.3913671], [20.7211203, -103.3913671], [20.7211203, -103.3913671], [20.6397718, -103.3120428], [19.8146914, -102.98363356723414], [20.7211203, -103.3913671], [20.6720375, -103.338396], [20.6720375, -103.338396], [20.7211203, -103.3913671], [20.6720375, -103.338396], [20.7211203, -103.3913671], [20.7211203, -103.3913671], [20.7211203, -103.3913671], [20.6720375, -103.338396], [20.6720375, -103.338396], [20.94949235, -103.03142458044168], [20.6185208, -103.22273591034522], [20.6397718, -103.3120428], [20.6720375, -103.338396], [20.6720375, -103.338396], [20.7211203, -103.3913671], [20.6720375, -103.338396], [20.7211203, -103.3913671], [20.7211203, -103.3913671], [20.7211203, -103.3913671], [20.6720375, -103.338396], [20.6720375, -103.338396], [20.6397718, -103.3120428], [20.7211203, -103.3913671], [20.7349602, -103.424084], [20.6407176, -105.220306], [20.6720375, -103.338396], [20.7211203, -103.3913671], [20.7211203, -103.3913671], [20.7211203, -103.3913671], [20.6720375, -103.338396], [20.7211203, -103.3913671], [20.6720375, -103.338396], [20.7211203, -103.3913671], [20.7211203, -103.3913671], [20.6720375, -103.338396], [20.7211203, -103.3913671], [20.6720375, -103.338396], [20.7211203, -103.3913671], [20.7211203, -103.3913671], [20.6720375, -103.338396], [20.710353750000003, -103.97539438473574], [20.6185208, -103.22273591034522], [20.6720375, -103.338396], [20.6397718, -103.3120428], [20.7211203, -103.3913671], [20.6720375, -103.338396], [20.7211203, -103.3913671], [20.7211203, -103.3913671], [20.6720375, -103.338396], [20.6397718, -103.3120428], [20.7211203, -103.3913671], [20.7211203, -103.3913671], [20.6185208, -103.22273591034522], [20.7211203, -103.3913671], [20.6720375, -103.338396], [20.6720375, -103.338396], [20.6185208, -103.22273591034522], [20.38914285, -103.68552715478332], [20.7211203, -103.3913671], [20.6185208, -103.22273591034522], [20.4739, -103.447], [20.6185208, -103.22273591034522], [20.6720375, -103.338396], [20.7211203, -103.3913671], [20.6720375, -103.338396], [20.710353750000003, -103.97539438473574], [20.8821155, -103.8370907], [20.7211203, -103.3913671], [20.7211203, -103.3913671], [20.7211203, -103.3913671], [20.6720375, -103.338396], [20.6185208, -103.22273591034522], [20.6720375, -103.338396], [20.610062499999998, -103.70750330271915], [20.4739, -103.447], [20.4035811, -103.81742103058032], [20.7211203, -103.3913671], [20.7211203, -103.3913671], [20.7211203, -103.3913671], [20.7211203, -103.3913671], [20.7211203, -103.3913671], [20.7211203, -103.3913671], [20.6806057, -103.83278673516206], [20.6397718, -103.3120428], [20.6397718, -103.3120428], [20.4739, -103.447], [20.6185208, -103.22273591034522], [20.7211203, -103.3913671], [20.6720375, -103.338396], [20.6185208, -103.22273591034522], [20.7211203, -103.3913671], [20.7211203, -103.3913671], [20.6720375, -103.338396], [20.7211203, -103.3913671], [20.7211203, -103.3913671], [20.6720375, -103.338396], [20.6720375, -103.338396], [20.7211203, -103.3913671], [20.7211203, -103.3913671], [20.7211203, -103.3913671], [20.6720375, -103.338396], [20.6185208, -103.22273591034522], [20.7211203, -103.3913671], [20.7211203, -103.3913671], [20.7211203, -103.3913671], [20.7211203, -103.3913671], [20.7211203, -103.3913671], [20.6720375, -103.338396], [20.6720375, -103.338396], [20.6720375, -103.338396], [20.7211203, -103.3913671], [20.6720375, -103.338396], [20.6720375, -103.338396], [20.7211203, -103.3913671], [20.6185208, -103.22273591034522], [20.6720375, -103.338396], [20.6720375, -103.338396], [20.610062499999998, -103.70750330271915], [20.7211203, -103.3913671], [20.6720375, -103.338396], [20.6185208, -103.22273591034522], [20.6720375, -103.338396], [20.6720375, -103.338396], [20.6720375, -103.338396], [20.7211203, -103.3913671], [20.7211203, -103.3913671], [20.7211203, -103.3913671], [20.7211203, -103.3913671], [20.7211203, -103.3913671], [20.7211203, -103.3913671], [20.6720375, -103.338396], [20.7211203, -103.3913671], [20.7211203, -103.3913671], [20.7211203, -103.3913671], [20.6185208, -103.22273591034522], [20.7211203, -103.3913671], [20.7211203, -103.3913671], [20.7211203, -103.3913671], [20.7211203, -103.3913671], [20.7211203, -103.3913671], [20.7211203, -103.3913671], [20.7211203, -103.3913671], [20.7211203, -103.3913671], [20.7211203, -103.3913671], [20.7211203, -103.3913671], [20.6185208, -103.22273591034522], [20.6720375, -103.338396], [20.4739, -103.447], [20.7211203, -103.3913671], [20.7211203, -103.3913671], [20.7211203, -103.3913671], [20.6720375, -103.338396], [20.7211203, -103.3913671], [21.741153699999998, -103.67909826087623], [20.6720375, -103.338396], [20.7211203, -103.3913671], [20.7211203, -103.3913671], [20.7211203, -103.3913671], [20.4739, -103.447], [20.7211203, -103.3913671], [20.6720375, -103.338396], [20.7211203, -103.3913671], [20.6720375, -103.338396], [20.6185208, -103.22273591034522], [20.7211203, -103.3913671], [20.7211203, -103.3913671], [20.7211203, -103.3913671], [20.7211203, -103.3913671], [20.817055449999998, -102.6781613948367], [20.7211203, -103.3913671], [20.4739, -103.447], [20.6720375, -103.338396], [20.6720375, -103.338396], [20.7211203, -103.3913671], [20.6720375, -103.338396], [20.7211203, -103.3913671], [20.7211203, -103.3913671], [20.6185208, -103.22273591034522], [20.7211203, -103.3913671], [20.6720375, -103.338396], [20.6720375, -103.338396], [20.6720375, -103.338396], [20.6720375, -103.338396], [20.6397718, -103.3120428], [20.7211203, -103.3913671], [20.7211203, -103.3913671], [20.6720375, -103.338396], [20.6720375, -103.338396], [20.539100050000002, -103.24037752852841], [20.539100050000002, -103.24037752852841], [20.7211203, -103.3913671], [20.7211203, -103.3913671], [20.7211203, -103.3913671], [20.6720375, -103.338396], [20.7211203, -103.3913671], [20.6720375, -103.338396], [20.6720375, -103.338396], [20.7211203, -103.3913671], [20.7211203, -103.3913671], [20.7211203, -103.3913671], [20.6720375, -103.338396], [20.7211203, -103.3913671], [20.6720375, -103.338396], [20.6185208, -103.22273591034522], [20.6720375, -103.338396], [20.7211203, -103.3913671], [20.7211203, -103.3913671], [20.6720375, -103.338396], [20.7211203, -103.3913671], [20.6720375, -103.338396], [20.7211203, -103.3913671], [20.6720375, -103.338396], [20.7211203, -103.3913671], [20.4739, -103.447], [20.7211203, -103.3913671], [20.7211203, -103.3913671], [20.6720375, -103.338396], [20.6720375, -103.338396], [20.7211203, -103.3913671], [20.7211203, -103.3913671], [20.6720375, -103.338396], [20.7211203, -103.3913671], [20.7211203, -103.3913671], [20.7211203, -103.3913671], [20.7211203, -103.3913671], [20.7211203, -103.3913671], [20.6720375, -103.338396], [20.7211203, -103.3913671], [20.6720375, -103.338396], [20.7211203, -103.3913671], [20.7211203, -103.3913671], [20.6720375, -103.338396], [20.6185208, -103.22273591034522], [20.6720375, -103.338396], [20.6720375, -103.338396], [20.7211203, -103.3913671], [20.7211203, -103.3913671], [20.7211203, -103.3913671], [20.7211203, -103.3913671], [20.7211203, -103.3913671], [20.7211203, -103.3913671], [20.6397718, -103.3120428], [20.6397718, -103.3120428], [20.7211203, -103.3913671], [20.7211203, -103.3913671], [20.6720375, -103.338396], [20.6720375, -103.338396], [20.7211203, -103.3913671], [20.6720375, -103.338396], [20.6720375, -103.338396], [20.6720375, -103.338396], [20.6185208, -103.22273591034522], [20.6720375, -103.338396], [20.7211203, -103.3913671], [20.6720375, -103.338396], [20.7211203, -103.3913671], [20.7211203, -103.3913671], [20.4739, -103.447], [20.6185208, -103.22273591034522], [20.6397718, -103.3120428], [20.6397718, -103.3120428], [20.7211203, -103.3913671], [20.7211203, -103.3913671], [20.6185208, -103.22273591034522], [20.6720375, -103.338396], [20.6720375, -103.338396], [20.7211203, -103.3913671], [20.6720375, -103.338396], [20.7211203, -103.3913671], [20.6185208, -103.22273591034522], [20.6185208, -103.22273591034522], [20.6720375, -103.338396], [20.7211203, -103.3913671], [20.6185208, -103.22273591034522], [20.7211203, -103.3913671], [20.6720375, -103.338396], [20.7211203, -103.3913671], [20.6720375, -103.338396], [20.6720375, -103.338396], [20.7211203, -103.3913671], [20.4739, -103.447], [20.6720375, -103.338396], [20.6720375, -103.338396], [20.6397718, -103.3120428], [20.7211203, -103.3913671], [20.7211203, -103.3913671], [20.45051, -103.2533617], [20.7211203, -103.3913671], [20.6185208, -103.22273591034522], [20.6720375, -103.338396], [20.7211203, -103.3913671], [20.7211203, -103.3913671], [20.7211203, -103.3913671], [20.7211203, -103.3913671], [20.539100050000002, -103.24037752852841], [20.6720375, -103.338396], [20.4739, -103.447], [20.7211203, -103.3913671], [20.7211203, -103.3913671], [20.6397718, -103.3120428], [20.7211203, -103.3913671], [20.40302745, -103.20504879808468], [20.6720375, -103.338396], [20.7211203, -103.3913671], [20.6407176, -105.220306], [20.7211203, -103.3913671], [20.6720375, -103.338396], [20.7211203, -103.3913671], [20.6720375, -103.338396], [20.7211203, -103.3913671], [20.7211203, -103.3913671], [20.7211203, -103.3913671], [20.6720375, -103.338396], [20.7211203, -103.3913671], [20.6720375, -103.338396], [20.6185208, -103.22273591034522], [20.6720375, -103.338396], [20.6720375, -103.338396], [20.6720375, -103.338396], [20.7211203, -103.3913671], [20.4739, -103.447], [20.7211203, -103.3913671], [20.7211203, -103.3913671], [20.6720375, -103.338396], [20.7211203, -103.3913671], [20.7211203, -103.3913671], [20.556930299999998, -103.35840323683036], [20.556930299999998, -103.35840323683036], [14.908056, -92.260556], [20.7211203, -103.3913671], [20.6397718, -103.3120428], [20.7211203, -103.3913671], [20.7211203, -103.3913671], [20.6397718, -103.3120428], [20.6720375, -103.338396], [20.6185208, -103.22273591034522], [20.4739, -103.447], [20.6720375, -103.338396], [20.7211203, -103.3913671], [20.6185208, -103.22273591034522], [20.7211203, -103.3913671], [20.7211203, -103.3913671], [20.6720375, -103.338396], [20.6397718, -103.3120428], [21.046335650000003, -103.51239235477239], [20.7211203, -103.3913671], [20.7211203, -103.3913671], [20.7211203, -103.3913671], [20.6720375, -103.338396], [20.6720375, -103.338396], [20.7211203, -103.3913671], [20.7211203, -103.3913671], [20.7211203, -103.3913671], [20.6720375, -103.338396], [20.7211203, -103.3913671], [20.7211203, -103.3913671], [20.7211203, -103.3913671], [20.6720375, -103.338396], [20.6720375, -103.338396], [20.4739, -103.447], [20.6720375, -103.338396], [20.7211203, -103.3913671], [20.4739, -103.447], [20.610062499999998, -103.70750330271915], [20.7211203, -103.3913671], [20.6720375, -103.338396], [20.7211203, -103.3913671], [20.4739, -103.447], [20.6397718, -103.3120428], [20.7211203, -103.3913671], [20.7304835, -101.3739588], [20.6720375, -103.338396], [20.4739, -103.447], [20.6720375, -103.338396], [20.7211203, -103.3913671], [20.4739, -103.447], [20.6720375, -103.338396], [20.6720375, -103.338396], [20.6397718, -103.3120428], [20.6720375, -103.338396], [20.91062025, -104.11585399809384], [20.6397718, -103.3120428], [20.6720375, -103.338396], [22.098424299999998, -103.27431707479644], [20.6407176, -105.220306], [20.3156903, -102.9517846], [20.6720375, -103.338396], [20.7211203, -103.3913671], [20.4739, -103.447], [20.7211203, -103.3913671], [20.6397718, -103.3120428], [20.7211203, -103.3913671], [20.6720375, -103.338396], [20.6720375, -103.338396], [20.6720375, -103.338396], [20.7211203, -103.3913671], [20.6720375, -103.338396], [20.7211203, -103.3913671], [20.4739, -103.447], [20.6720375, -103.338396], [20.7211203, -103.3913671], [20.6720375, -103.338396], [20.7211203, -103.3913671], [20.7211203, -103.3913671], [20.6720375, -103.338396], [20.6720375, -103.338396], [20.6720375, -103.338396], [20.7211203, -103.3913671], [20.539100050000002, -103.24037752852841], [20.6397718, -103.3120428], [20.6720375, -103.338396], [20.289346950000002, -103.43686457681868], [19.6853653, -103.17006701011542], [20.7211203, -103.3913671], [20.7211203, -103.3913671], [20.7211203, -103.3913671], [20.7211203, -103.3913671], [20.7211203, -103.3913671], [20.6720375, -103.338396], [20.6185208, -103.22273591034522], [20.6720375, -103.338396], [20.7211203, -103.3913671], [20.7211203, -103.3913671], [21.254312650000003, -102.28137105849761], [20.7211203, -103.3913671], [20.6720375, -103.338396], [20.6720375, -103.338396], [20.7211203, -103.3913671], [20.7211203, -103.3913671], [20.38914285, -103.68552715478332], [20.7211203, -103.3913671], [20.6720375, -103.338396], [20.6720375, -103.338396], [20.7211203, -103.3913671], [20.4739, -103.447], [20.7211203, -103.3913671], [20.7211203, -103.3913671], [20.7211203, -103.3913671], [20.6397718, -103.3120428], [20.6720375, -103.338396], [20.7211203, -103.3913671], [20.7211203, -103.3913671], [20.6397718, -103.3120428], [20.6720375, -103.338396], [20.6720375, -103.338396], [20.7211203, -103.3913671], [20.6185208, -103.22273591034522], [20.7211203, -103.3913671], [20.6720375, -103.338396], [20.7211203, -103.3913671], [20.423970500000003, -103.6013031524341], [20.6397718, -103.3120428], [20.7211203, -103.3913671], [20.7211203, -103.3913671], [20.7211203, -103.3913671], [20.7211203, -103.3913671], [20.6185208, -103.22273591034522], [20.6720375, -103.338396], [20.4739, -103.447], [19.79554805, -104.17781649818409], [20.7211203, -103.3913671], [20.6720375, -103.338396], [20.6720375, -103.338396], [20.4739, -103.447], [20.5463888, -103.4668635], [20.6185208, -103.22273591034522], [20.6720375, -103.338396], [20.7211203, -103.3913671], [20.6185208, -103.22273591034522], [20.7211203, -103.3913671], [20.4739, -103.447], [20.6720375, -103.338396], [20.6185208, -103.22273591034522], [20.6720375, -103.338396], [20.7211203, -103.3913671], [20.6720375, -103.338396], [20.7211203, -103.3913671], [20.6185208, -103.22273591034522], [20.6397718, -103.3120428], [20.4739, -103.447], [20.7211203, -103.3913671], [20.6720375, -103.338396], [20.7211203, -103.3913671], [20.6720375, -103.338396], [20.7211203, -103.3913671], [20.6720375, -103.338396], [20.7211203, -103.3913671], [20.7211203, -103.3913671], [20.7211203, -103.3913671], [20.6397718, -103.3120428], [19.4374898, -103.41147046920722], [20.6720375, -103.338396], [20.7211203, -103.3913671], [20.6720375, -103.338396], [20.7211203, -103.3913671], [20.7211203, -103.3913671], [20.6397718, -103.3120428], [20.7211203, -103.3913671], [20.7211203, -103.3913671], [20.7211203, -103.3913671], [20.7211203, -103.3913671], [20.6720375, -103.338396], [20.6720375, -103.338396], [20.6720375, -103.338396], [20.7211203, -103.3913671], [20.4739, -103.447], [20.7211203, -103.3913671], [20.7211203, -103.3913671], [20.6720375, -103.338396], [20.7211203, -103.3913671], [20.6720375, -103.338396], [20.7211203, -103.3913671], [20.7211203, -103.3913671], [20.6720375, -103.338396], [20.7211203, -103.3913671], [20.7211203, -103.3913671], [20.4739, -103.447], [20.4739, -103.447], [20.7211203, -103.3913671], [20.6720375, -103.338396], [20.7211203, -103.3913671], [20.4739, -103.447], [20.6185208, -103.22273591034522], [20.6720375, -103.338396], [20.610062499999998, -103.70750330271915], [20.7211203, -103.3913671], [20.7211203, -103.3913671], [20.7211203, -103.3913671], [20.6720375, -103.338396], [20.6397718, -103.3120428], [20.7211203, -103.3913671], [20.6185208, -103.22273591034522], [20.6720375, -103.338396], [20.6720375, -103.338396], [20.6720375, -103.338396], [20.7211203, -103.3913671], [20.6720375, -103.338396], [20.6720375, -103.338396], [20.3931514, -103.1385074], [20.6185208, -103.22273591034522], [20.6720375, -103.338396], [20.7211203, -103.3913671], [20.6185208, -103.22273591034522], [20.7211203, -103.3913671], [20.6720375, -103.338396], [20.6185208, -103.22273591034522], [20.6720375, -103.338396], [20.004524349999997, -104.22767687376117], [20.7211203, -103.3913671], [20.7211203, -103.3913671], [20.7211203, -103.3913671], [20.7211203, -103.3913671], [20.7211203, -103.3913671], [20.6720375, -103.338396], [20.6185208, -103.22273591034522], [20.40302745, -103.20504879808468], [20.7211203, -103.3913671], [20.7211203, -103.3913671], [20.6720375, -103.338396], [20.539100050000002, -103.24037752852841], [20.6185208, -103.22273591034522], [20.7211203, -103.3913671], [20.6720375, -103.338396], [20.6720375, -103.338396], [20.7211203, -103.3913671], [20.6720375, -103.338396], [20.7211203, -103.3913671], [20.6407176, -105.220306], [20.6720375, -103.338396], [20.6720375, -103.338396], [20.4366325, -103.6347956], [20.4170786, -103.3905524], [20.6720375, -103.338396], [20.6397718, -103.3120428], [20.5099369, -103.2973653], [20.7211203, -103.3913671], [20.7211203, -103.3913671], [20.7211203, -103.3913671], [20.7211203, -103.3913671], [20.7211203, -103.3913671], [20.7211203, -103.3913671], [20.7211203, -103.3913671], [20.7211203, -103.3913671], [20.7211203, -103.3913671], [20.7211203, -103.3913671], [20.6397718, -103.3120428], [20.7211203, -103.3913671], [20.7211203, -103.3913671], [20.6720375, -103.338396], [20.7211203, -103.3913671], [20.7211203, -103.3913671], [20.6720375, -103.338396], [20.6720375, -103.338396], [20.7211203, -103.3913671], [20.3300424, -102.7890261], [30.417, 107.9125], [20.7211203, -103.3913671], [20.4739, -103.447], [20.7211203, -103.3913671], [20.6720375, -103.338396], [20.7211203, -103.3913671], [20.6397718, -103.3120428], [20.6720375, -103.338396], [20.4739, -103.447], [20.7211203, -103.3913671], [20.7211203, -103.3913671], [20.7211203, -103.3913671], [20.6720375, -103.338396], [20.6397718, -103.3120428], [20.6720375, -103.338396], [20.7211203, -103.3913671], [20.7211203, -103.3913671], [20.7211203, -103.3913671], [20.7211203, -103.3913671], [20.7211203, -103.3913671], [20.6397718, -103.3120428], [20.6397718, -103.3120428], [19.31905, -98.19982], [20.6720375, -103.338396], [20.6720375, -103.338396], [20.5347004, -104.06466098593745], [20.7211203, -103.3913671], [20.6720375, -103.338396], [20.904594250000002, -103.24987805369719], [20.7211203, -103.3913671], [20.7211203, -103.3913671], [20.7211203, -103.3913671], [20.6397718, -103.3120428], [20.6720375, -103.338396], [20.7211203, -103.3913671], [20.6185208, -103.22273591034522], [20.7211203, -103.3913671], [20.7211203, -103.3913671], [20.7211203, -103.3913671], [20.7211203, -103.3913671], [20.7211203, -103.3913671], [20.7211203, -103.3913671], [20.8821155, -103.8370907], [20.6185208, -103.22273591034522], [20.7211203, -103.3913671], [20.6720375, -103.338396], [20.8821155, -103.8370907], [20.7211203, -103.3913671], [20.7211203, -103.3913671], [20.4739, -103.447], [20.6720375, -103.338396], [20.6720375, -103.338396], [20.7211203, -103.3913671], [20.6720375, -103.338396], [20.6720375, -103.338396], [20.7211203, -103.3913671], [20.7211203, -103.3913671], [20.6720375, -103.338396], [20.6720375, -103.338396], [20.7211203, -103.3913671], [20.7211203, -103.3913671], [20.7211203, -103.3913671], [20.6720375, -103.338396], [20.7211203, -103.3913671], [20.6397718, -103.3120428], [20.6720375, -103.338396], [20.6397718, -103.3120428], [20.6720375, -103.338396], [20.6720375, -103.338396], [20.6720375, -103.338396], [20.7211203, -103.3913671], [20.6720375, -103.338396], [20.6720375, -103.338396], [20.6720375, -103.338396], [20.6720375, -103.338396], [20.6185208, -103.22273591034522], [20.6720375, -103.338396], [20.6720375, -103.338396], [20.6720375, -103.338396], [20.7211203, -103.3913671], [20.539100050000002, -103.24037752852841], [20.6720375, -103.338396], [20.7211203, -103.3913671], [20.6720375, -103.338396], [20.6720375, -103.338396], [20.7211203, -103.3913671], [20.6720375, -103.338396], [20.6720375, -103.338396], [20.6720375, -103.338396], [20.7211203, -103.3913671], [20.7211203, -103.3913671], [20.6720375, -103.338396], [20.6720375, -103.338396], [20.7211203, -103.3913671], [20.7211203, -103.3913671], [20.6720375, -103.338396], [20.7211203, -103.3913671], [20.6397718, -103.3120428], [20.7211203, -103.3913671], [20.7211203, -103.3913671], [20.6720375, -103.338396], [20.6720375, -103.338396], [20.4739, -103.447], [20.6720375, -103.338396], [20.6720375, -103.338396], [20.6720375, -103.338396], [20.6397718, -103.3120428], [20.7211203, -103.3913671], [20.7211203, -103.3913671], [20.6720375, -103.338396], [20.7211203, -103.3913671], [20.7211203, -103.3913671], [20.4739, -103.447], [20.539100050000002, -103.24037752852841], [20.7211203, -103.3913671], [20.6185208, -103.22273591034522], [20.7211203, -103.3913671], [20.7211203, -103.3913671], [19.7975, -99.874444], [20.6720375, -103.338396], [20.6720375, -103.338396], [20.7211203, -103.3913671], [20.7211203, -103.3913671], [20.6397718, -103.3120428], [20.7211203, -103.3913671], [20.6720375, -103.338396], [20.6720375, -103.338396], [20.6397718, -103.3120428], [20.6720375, -103.338396], [20.4739, -103.447], [20.6185208, -103.22273591034522], [20.7211203, -103.3913671], [20.7211203, -103.3913671], [20.588381, -103.3381413], [20.7211203, -103.3913671], [20.7211203, -103.3913671], [20.7211203, -103.3913671], [20.6720375, -103.338396], [20.7211203, -103.3913671], [20.7211203, -103.3913671], [20.4357022, -103.9301557], [20.7211203, -103.3913671], [20.817055449999998, -102.6781613948367], [20.7211203, -103.3913671], [20.6397718, -103.3120428], [20.7211203, -103.3913671], [20.7211203, -103.3913671], [20.6185208, -103.22273591034522], [20.7211203, -103.3913671], [20.7211203, -103.3913671], [20.7211203, -103.3913671], [20.7211203, -103.3913671], [20.7211203, -103.3913671], [19.7001632, -103.463935], [20.6407176, -105.220306], [20.6720375, -103.338396], [20.7211203, -103.3913671], [20.7211203, -103.3913671], [20.7211203, -103.3913671], [20.7211203, -103.3913671], [20.6720375, -103.338396], [20.7211203, -103.3913671], [20.7211203, -103.3913671], [20.6720375, -103.338396], [20.539100050000002, -103.24037752852841], [20.6720375, -103.338396], [20.6720375, -103.338396], [20.6720375, -103.338396], [20.7211203, -103.3913671], [17.058333, -96.683333], [20.817055449999998, -102.6781613948367], [20.7211203, -103.3913671], [20.7211203, -103.3913671], [20.4739, -103.447], [20.7211203, -103.3913671], [20.6185208, -103.22273591034522], [20.6720375, -103.338396], [20.6720375, -103.338396], [20.6397718, -103.3120428], [20.6720375, -103.338396], [20.6720375, -103.338396], [20.7211203, -103.3913671], [20.7211203, -103.3913671], [20.6720375, -103.338396], [20.7211203, -103.3913671], [20.6720375, -103.338396], [20.6720375, -103.338396], [20.6720375, -103.338396], [20.7211203, -103.3913671], [20.7211203, -103.3913671], [20.6720375, -103.338396], [20.7211203, -103.3913671], [20.6720375, -103.338396], [20.4739, -103.447], [20.6720375, -103.338396], [20.7211203, -103.3913671], [19.7929, -103.475], [20.7211203, -103.3913671], [20.6185208, -103.22273591034522], [20.7211203, -103.3913671], [20.7211203, -103.3913671], [20.7211203, -103.3913671], [20.6397718, -103.3120428], [20.7211203, -103.3913671], [20.5413692, -102.517566367728], [20.7211203, -103.3913671], [20.6720375, -103.338396], [22.0193796, -103.67905169408235], [20.6720375, -103.338396], [20.6720375, -103.338396], [20.7211203, -103.3913671], [20.4739, -103.447], [20.6720375, -103.338396], [20.6720375, -103.338396], [20.539100050000002, -103.24037752852841], [20.6720375, -103.338396], [20.6720375, -103.338396], [20.6720375, -103.338396], [20.6720375, -103.338396], [20.6397718, -103.3120428], [20.6720375, -103.338396], [20.6720375, -103.338396], [20.6720375, -103.338396], [20.6720375, -103.338396], [20.6185208, -103.22273591034522], [20.7211203, -103.3913671], [20.7211203, -103.3913671], [20.7211203, -103.3913671], [20.6720375, -103.338396], [20.7211203, -103.3913671], [20.6720375, -103.338396], [19.8146914, -102.98363356723414], [20.6397718, -103.3120428], [20.6720375, -103.338396], [20.7211203, -103.3913671], [20.6407176, -105.220306], [20.91062025, -104.11585399809384], [20.6720375, -103.338396], [20.6185208, -103.22273591034522], [20.4739, -103.447], [20.6185208, -103.22273591034522], [20.7211203, -103.3913671], [20.7211203, -103.3913671], [20.7211203, -103.3913671], [20.7211203, -103.3913671], [20.6720375, -103.338396], [20.7211203, -103.3913671], [20.7211203, -103.3913671], [20.35720795, -102.50327003201096], [20.4739, -103.447], [20.6720375, -103.338396], [20.6720375, -103.338396], [20.6407176, -105.220306], [20.7211203, -103.3913671], [20.6185208, -103.22273591034522], [20.7211203, -103.3913671], [20.6720375, -103.338396], [20.6185208, -103.22273591034522], [20.6720375, -103.338396], [20.6720375, -103.338396], [20.3494738, -102.2826117], [20.7211203, -103.3913671], [20.7211203, -103.3913671], [20.7211203, -103.3913671], [20.7211203, -103.3913671], [20.6185208, -103.22273591034522], [20.7211203, -103.3913671], [20.7211203, -103.3913671], [20.7211203, -103.3913671], [20.7211203, -103.3913671], [19.890584150000002, -103.08102044422532], [19.890584150000002, -103.08102044422532], [20.6720375, -103.338396], [20.6397718, -103.3120428], [20.6397718, -103.3120428], [20.6397718, -103.3120428], [20.6185208, -103.22273591034522], [20.6407176, -105.220306], [20.539100050000002, -103.24037752852841], [20.7211203, -103.3913671], [20.6720375, -103.338396], [20.6720375, -103.338396], [20.6806057, -103.83278673516206], [20.7211203, -103.3913671], [20.6720375, -103.338396], [20.7211203, -103.3913671], [20.6720375, -103.338396], [19.946663450000003, -103.77610588768835], [20.6720375, -103.338396], [20.7211203, -103.3913671], [20.4739, -103.447], [20.431111, -102.496389], [20.6720375, -103.338396], [20.6397718, -103.3120428], [20.6185208, -103.22273591034522], [20.7211203, -103.3913671], [20.7211203, -103.3913671], [20.7211203, -103.3913671], [20.6720375, -103.338396], [20.6720375, -103.338396], [20.6720375, -103.338396], [20.7211203, -103.3913671], [20.6720375, -103.338396], [20.7211203, -103.3913671], [20.6720375, -103.338396], [20.7211203, -103.3913671], [20.7211203, -103.3913671], [20.7211203, -103.3913671], [20.6185208, -103.22273591034522], [20.6720375, -103.338396], [20.7211203, -103.3913671], [20.7211203, -103.3913671], [20.7211203, -103.3913671], [20.6720375, -103.338396], [20.6397718, -103.3120428], [20.6720375, -103.338396], [20.7211203, -103.3913671], [20.6720375, -103.338396], [20.6720375, -103.338396], [20.7211203, -103.3913671], [20.4739, -103.447], [20.6720375, -103.338396], [20.7211203, -103.3913671], [20.6397718, -103.3120428], [20.585278, -103.282778], [20.6720375, -103.338396], [20.7211203, -103.3913671], [20.6185208, -103.22273591034522], [20.7211203, -103.3913671], [20.6720375, -103.338396], [20.6185208, -103.22273591034522], [20.6720375, -103.338396], [20.6397718, -103.3120428], [20.6806057, -103.83278673516206], [20.6720375, -103.338396], [20.7211203, -103.3913671], [20.7211203, -103.3913671], [20.6185208, -103.22273591034522], [20.7211203, -103.3913671], [20.6720375, -103.338396], [20.6720375, -103.338396], [19.7001632, -103.463935], [20.844348699999998, -103.71051993442961], [20.6720375, -103.338396], [19.7001632, -103.463935], [20.7211203, -103.3913671], [20.6720375, -103.338396], [20.6720375, -103.338396], [20.4739, -103.447], [20.6397718, -103.3120428], [20.6720375, -103.338396], [20.7211203, -103.3913671], [20.7211203, -103.3913671], [20.6185208, -103.22273591034522], [20.6185208, -103.22273591034522], [20.6397718, -103.3120428], [20.6091291, -103.155824], [20.7211203, -103.3913671], [20.7211203, -103.3913671], [20.7211203, -103.3913671], [20.6720375, -103.338396], [20.04062435, -104.47395781043053], [20.6720375, -103.338396], [20.7211203, -103.3913671], [20.6720375, -103.338396], [20.7211203, -103.3913671], [20.7211203, -103.3913671], [20.7211203, -103.3913671], [20.7211203, -103.3913671], [20.4035811, -103.81742103058032], [20.7211203, -103.3913671], [20.7211203, -103.3913671], [20.7211203, -103.3913671], [20.6720375, -103.338396], [20.7211203, -103.3913671], [20.6185208, -103.22273591034522], [20.7211203, -103.3913671], [20.6720375, -103.338396], [20.7211203, -103.3913671], [20.423970500000003, -103.6013031524341], [20.4739, -103.447], [20.6397718, -103.3120428], [20.4739, -103.447], [20.7211203, -103.3913671], [20.6397718, -103.3120428], [20.4739, -103.447], [20.6720375, -103.338396], [20.6407176, -105.220306], [20.6185208, -103.22273591034522], [20.6720375, -103.338396], [20.7211203, -103.3913671], [20.7211203, -103.3913671], [20.6720375, -103.338396], [20.7211203, -103.3913671], [20.6720375, -103.338396], [20.7211203, -103.3913671], [20.4739, -103.447], [20.6720375, -103.338396], [20.7211203, -103.3913671], [20.6397718, -103.3120428], [20.7211203, -103.3913671], [20.6720375, -103.338396], [20.6720375, -103.338396], [20.6720375, -103.338396], [20.7211203, -103.3913671], [20.4739, -103.447], [20.7211203, -103.3913671], [20.6720375, -103.338396], [20.7211203, -103.3913671], [20.7211203, -103.3913671], [20.7211203, -103.3913671], [20.7211203, -103.3913671], [20.6397718, -103.3120428], [20.6397718, -103.3120428], [20.6397718, -103.3120428], [20.6720375, -103.338396], [20.7211203, -103.3913671], [20.7211203, -103.3913671], [20.6720375, -103.338396], [20.6720375, -103.338396], [20.7211203, -103.3913671], [20.5806449, -102.3792814], [20.6720375, -103.338396], [20.6720375, -103.338396], [20.6185208, -103.22273591034522], [20.6720375, -103.338396], [20.6185208, -103.22273591034522], [20.6720375, -103.338396], [20.6720375, -103.338396], [20.6720375, -103.338396], [20.6720375, -103.338396], [20.7211203, -103.3913671], [20.7211203, -103.3913671], [20.7211203, -103.3913671], [20.6720375, -103.338396], [20.7211203, -103.3913671], [20.7211203, -103.3913671], [20.6720375, -103.338396], [20.6185208, -103.22273591034522], [20.6720375, -103.338396], [20.6720375, -103.338396], [20.7211203, -103.3913671], [20.6397718, -103.3120428], [20.6720375, -103.338396], [20.6720375, -103.338396], [20.6720375, -103.338396], [20.7211203, -103.3913671], [20.6720375, -103.338396], [20.6397718, -103.3120428], [20.6720375, -103.338396], [20.6720375, -103.338396], [20.6397718, -103.3120428], [20.6720375, -103.338396], [20.7211203, -103.3913671], [20.4739, -103.447], [20.6720375, -103.338396], [20.7211203, -103.3913671], [20.6720375, -103.338396], [20.7211203, -103.3913671], [20.7211203, -103.3913671], [20.4739, -103.447], [20.7211203, -103.3913671], [20.6397718, -103.3120428], [20.6720375, -103.338396], [20.7211203, -103.3913671], [20.6720375, -103.338396], [20.7211203, -103.3913671], [20.7211203, -103.3913671], [20.6720375, -103.338396], [20.6720375, -103.338396], [20.4739, -103.447], [20.7211203, -103.3913671], [20.7211203, -103.3913671], [20.64794705, -102.10757376228773], [19.7001632, -103.463935], [20.7211203, -103.3913671], [20.7211203, -103.3913671], [21.786351449999998, -101.67889736335897], [20.7211203, -103.3913671], [20.610062499999998, -103.70750330271915], [20.485749, -103.15072540651236], [19.8146914, -102.98363356723414], [20.6720375, -103.338396], [20.6720375, -103.338396], [20.6720375, -103.338396], [20.5347004, -104.06466098593745], [20.7211203, -103.3913671], [20.7211203, -103.3913671], [20.7211203, -103.3913671], [20.7211203, -103.3913671], [20.6720375, -103.338396], [20.6185208, -103.22273591034522], [20.6720375, -103.338396], [20.7211203, -103.3913671], [20.6720375, -103.338396], [20.7211203, -103.3913671], [20.6720375, -103.338396], [20.7211203, -103.3913671], [20.6720375, -103.338396], [20.4739, -103.447], [20.6720375, -103.338396], [20.6720375, -103.338396], [20.7211203, -103.3913671], [20.4739, -103.447], [20.7211203, -103.3913671], [20.7211203, -103.3913671], [20.6720375, -103.338396], [20.6720375, -103.338396], [20.7211203, -103.3913671], [20.7211203, -103.3913671], [20.7211203, -103.3913671], [20.7211203, -103.3913671], [20.7211203, -103.3913671], [20.6720375, -103.338396], [20.6720375, -103.338396], [20.7211203, -103.3913671], [20.7211203, -103.3913671], [20.6720375, -103.338396], [20.6720375, -103.338396], [20.200556, -103.981389], [20.6720375, -103.338396], [20.6720375, -103.338396], [20.6720375, -103.338396], [20.7211203, -103.3913671], [20.6720375, -103.338396], [20.6185208, -103.22273591034522], [20.7211203, -103.3913671], [20.7211203, -103.3913671], [20.7211203, -103.3913671], [20.4739, -103.447], [20.6720375, -103.338396], [20.6185208, -103.22273591034522], [20.7211203, -103.3913671], [20.6397718, -103.3120428], [20.7211203, -103.3913671], [20.6720375, -103.338396], [20.6185208, -103.22273591034522], [20.6397718, -103.3120428], [20.7211203, -103.3913671], [20.6720375, -103.338396], [20.7211203, -103.3913671], [20.6185208, -103.22273591034522], [20.6720375, -103.338396], [20.7211203, -103.3913671], [20.7211203, -103.3913671], [20.7211203, -103.3913671], [20.4739, -103.447], [20.7211203, -103.3913671], [20.6185208, -103.22273591034522], [20.7211203, -103.3913671], [20.4739, -103.447], [20.6720375, -103.338396], [20.6720375, -103.338396], [20.7211203, -103.3913671], [20.7211203, -103.3913671], [20.6185208, -103.22273591034522], [20.6397718, -103.3120428], [20.6720375, -103.338396], [20.6397718, -103.3120428], [20.7211203, -103.3913671], [20.6720375, -103.338396], [20.6720375, -103.338396], [20.6396569, -103.05151855846849], [20.7211203, -103.3913671], [20.7211203, -103.3913671], [20.6720375, -103.338396], [20.6185208, -103.22273591034522], [20.7211203, -103.3913671], [20.6720375, -103.338396], [20.6720375, -103.338396], [20.6397718, -103.3120428], [20.539100050000002, -103.24037752852841], [20.6720375, -103.338396], [20.279764450000002, -103.22035855623801], [20.6720375, -103.338396], [20.7211203, -103.3913671], [20.7211203, -103.3913671], [20.7211203, -103.3913671], [20.7211203, -103.3913671], [20.6720375, -103.338396], [20.6397718, -103.3120428], [20.6720375, -103.338396], [20.6720375, -103.338396], [20.6720375, -103.338396], [20.6185208, -103.22273591034522], [20.7211203, -103.3913671], [20.7211203, -103.3913671], [20.6185208, -103.22273591034522], [20.6720375, -103.338396], [20.7211203, -103.3913671], [20.539100050000002, -103.24037752852841], [20.7211203, -103.3913671], [20.623111, -103.3559123], [20.7211203, -103.3913671], [20.7211203, -103.3913671], [20.7211203, -103.3913671], [20.7211203, -103.3913671], [20.7211203, -103.3913671], [20.7211203, -103.3913671], [20.6720375, -103.338396], [20.6720375, -103.338396], [20.6397718, -103.3120428], [20.6185208, -103.22273591034522], [20.6720375, -103.338396], [20.7211203, -103.3913671], [20.7211203, -103.3913671], [20.7211203, -103.3913671], [20.7211203, -103.3913671], [20.539100050000002, -103.24037752852841], [20.6720375, -103.338396], [20.6720375, -103.338396], [20.6720375, -103.338396], [20.6720375, -103.338396], [20.004524349999997, -104.22767687376117], [20.7211203, -103.3913671], [19.2199014, -102.6780356], [20.6396569, -103.05151855846849], [20.7211203, -103.3913671], [20.6720375, -103.338396], [20.6720375, -103.338396], [20.7349602, -103.424084], [20.6720375, -103.338396], [20.7211203, -103.3913671], [20.7211203, -103.3913671], [20.6720375, -103.338396], [20.6720375, -103.338396], [20.8821155, -103.8370907], [20.7211203, -103.3913671], [20.6397718, -103.3120428], [20.7211203, -103.3913671], [20.6397718, -103.3120428], [20.904594250000002, -103.24987805369719], [20.6397718, -103.3120428], [22.0193796, -103.67905169408235], [20.6720375, -103.338396], [20.6720375, -103.338396], [20.6720375, -103.338396], [20.7211203, -103.3913671], [20.7211203, -103.3913671], [20.7211203, -103.3913671], [20.6397718, -103.3120428], [20.7211203, -103.3913671], [20.6720375, -103.338396], [20.7211203, -103.3913671], [20.6720375, -103.338396], [20.7211203, -103.3913671], [20.6720375, -103.338396], [20.7211203, -103.3913671], [20.7211203, -103.3913671], [20.7211203, -103.3913671], [20.7211203, -103.3913671], [20.6720375, -103.338396], [20.6720375, -103.338396], [20.6720375, -103.338396], [20.6720375, -103.338396], [20.4739, -103.447], [20.7211203, -103.3913671], [20.6720375, -103.338396], [20.6720375, -103.338396], [20.6720375, -103.338396], [20.6720375, -103.338396], [20.7211203, -103.3913671], [20.4739, -103.447], [20.7211203, -103.3913671], [20.6720375, -103.338396], [20.6720375, -103.338396], [20.6185208, -103.22273591034522], [20.6720375, -103.338396], [20.6397718, -103.3120428], [20.6720375, -103.338396], [20.6720375, -103.338396], [20.6720375, -103.338396], [20.7211203, -103.3913671], [20.7211203, -103.3913671], [20.6397718, -103.3120428], [20.6720375, -103.338396], [20.6720375, -103.338396], [20.4739, -103.447], [20.7211203, -103.3913671], [20.6720375, -103.338396], [20.6720375, -103.338396], [20.6720375, -103.338396], [20.6720375, -103.338396], [20.6720375, -103.338396], [20.6720375, -103.338396], [20.6720375, -103.338396], [20.6720375, -103.338396], [20.6720375, -103.338396], [20.76868135, -102.51481451130394], [20.7211203, -103.3913671], [20.7211203, -103.3913671], [20.6720375, -103.338396], [20.6397718, -103.3120428], [20.7211203, -103.3913671], [20.7211203, -103.3913671], [20.7211203, -103.3913671], [20.7211203, -103.3913671], [20.539100050000002, -103.24037752852841], [20.7211203, -103.3913671], [20.7211203, -103.3913671], [20.7211203, -103.3913671], [20.6720375, -103.338396], [20.7211203, -103.3913671], [20.7211203, -103.3913671], [20.6397718, -103.3120428], [20.6720375, -103.338396], [20.6185208, -103.22273591034522], [20.7211203, -103.3913671], [20.7211203, -103.3913671], [20.6720375, -103.338396], [20.6720375, -103.338396], [20.6720375, -103.338396], [20.7211203, -103.3913671], [20.7211203, -103.3913671], [20.7211203, -103.3913671], [20.7211203, -103.3913671], [20.7211203, -103.3913671], [20.7211203, -103.3913671], [20.6720375, -103.338396], [20.6720375, -103.338396], [20.6720375, -103.338396], [20.4739, -103.447], [20.6720375, -103.338396], [20.6720375, -103.338396], [20.6185208, -103.22273591034522], [20.7211203, -103.3913671], [20.7211203, -103.3913671], [20.7211203, -103.3913671], [20.6397718, -103.3120428], [20.6185208, -103.22273591034522], [20.6185208, -103.22273591034522], [20.6185208, -103.22273591034522], [20.7211203, -103.3913671], [20.6092471, -103.3532998], [20.6532095, -105.2218343], [20.7211203, -103.3913671], [20.6720375, -103.338396], [20.7211203, -103.3913671], [20.7211203, -103.3913671], [20.7211203, -103.3913671], [20.7211203, -103.3913671], [20.7211203, -103.3913671], [20.7211203, -103.3913671], [20.7211203, -103.3913671], [20.7211203, -103.3913671], [20.7211203, -103.3913671], [20.7211203, -103.3913671], [20.7211203, -103.3913671], [20.6720375, -103.338396], [20.94949235, -103.03142458044168], [20.6397718, -103.3120428], [20.710353750000003, -103.97539438473574], [20.710353750000003, -103.97539438473574], [20.6720375, -103.338396], [20.6720375, -103.338396], [20.6720375, -103.338396], [19.7944045, -102.88716124937912], [20.7211203, -103.3913671], [20.6720375, -103.338396], [20.539100050000002, -103.24037752852841], [20.7211203, -103.3913671], [20.7211203, -103.3913671], [20.6185208, -103.22273591034522], [20.7211203, -103.3913671], [20.6720375, -103.338396], [20.7211203, -103.3913671], [20.7211203, -103.3913671], [20.7211203, -103.3913671], [20.6720375, -103.338396], [20.7211203, -103.3913671], [20.7211203, -103.3913671], [20.7211203, -103.3913671], [20.6185208, -103.22273591034522], [20.7211203, -103.3913671], [19.4374898, -103.41147046920722], [20.6720375, -103.338396], [20.6720375, -103.338396], [20.6720375, -103.338396], [20.6720375, -103.338396], [20.6720375, -103.338396], [20.7211203, -103.3913671], [20.7211203, -103.3913671], [20.6185208, -103.22273591034522], [20.539100050000002, -103.24037752852841], [20.7211203, -103.3913671], [20.7211203, -103.3913671], [20.7211203, -103.3913671], [20.38914285, -103.68552715478332], [20.7211203, -103.3913671], [20.6720375, -103.338396], [20.6720375, -103.338396], [20.6185208, -103.22273591034522], [20.7211203, -103.3913671], [20.7211203, -103.3913671], [20.7211203, -103.3913671], [20.6720375, -103.338396], [20.6720375, -103.338396], [20.7211203, -103.3913671], [20.4739, -103.447], [20.6720375, -103.338396], [20.7211203, -103.3913671], [20.7211203, -103.3913671], [20.6720375, -103.338396], [20.6397718, -103.3120428], [20.7211203, -103.3913671], [20.7211203, -103.3913671], [20.610062499999998, -103.70750330271915], [20.4739, -103.447], [20.6397718, -103.3120428], [20.7211203, -103.3913671], [20.7211203, -103.3913671], [20.7211203, -103.3913671], [20.6720375, -103.338396], [20.6397718, -103.3120428], [20.6720375, -103.338396], [20.6720375, -103.338396], [20.6720375, -103.338396], [20.7211203, -103.3913671], [20.6720375, -103.338396], [20.6185208, -103.22273591034522], [20.6720375, -103.338396], [20.7211203, -103.3913671], [20.7211203, -103.3913671], [20.7082042, -103.3619351], [20.6397718, -103.3120428], [20.4739, -103.447], [20.7211203, -103.3913671], [20.7211203, -103.3913671], [20.6720375, -103.338396], [20.506667, -105.344444], [20.6397718, -103.3120428], [20.6720375, -103.338396], [20.7211203, -103.3913671], [20.7211203, -103.3913671], [20.7211203, -103.3913671], [20.7211203, -103.3913671], [20.6720375, -103.338396], [20.6720375, -103.338396], [20.4739, -103.447], [20.7211203, -103.3913671], [20.6720375, -103.338396], [20.7211203, -103.3913671], [20.7211203, -103.3913671], [20.6720375, -103.338396], [20.539100050000002, -103.24037752852841], [20.539100050000002, -103.24037752852841], [20.6720375, -103.338396], [20.6720375, -103.338396], [20.7211203, -103.3913671], [20.7211203, -103.3913671], [20.6397718, -103.3120428], [20.7211203, -103.3913671], [20.4739, -103.447], [20.6720375, -103.338396], [20.6720375, -103.338396], [20.6720375, -103.338396], [20.6720375, -103.338396], [20.6720375, -103.338396], [20.6720375, -103.338396], [20.6720375, -103.338396], [20.7211203, -103.3913671], [20.6185208, -103.22273591034522], [20.7211203, -103.3913671], [20.7211203, -103.3913671], [20.7211203, -103.3913671], [20.6720375, -103.338396], [20.4739, -103.447], [20.6720375, -103.338396], [20.4739, -103.447], [20.6720375, -103.338396], [20.7211203, -103.3913671], [20.7211203, -103.3913671], [20.6720375, -103.338396], [20.4739, -103.447], [20.7211203, -103.3913671], [20.7211203, -103.3913671], [20.7211203, -103.3913671], [20.6185208, -103.22273591034522], [20.6185208, -103.22273591034522], [20.7211203, -103.3913671], [20.6720375, -103.338396], [20.6720375, -103.338396], [20.7211203, -103.3913671], [20.6720375, -103.338396], [20.7211203, -103.3913671], [20.7211203, -103.3913671], [20.6720375, -103.338396], [20.7211203, -103.3913671], [20.7211203, -103.3913671], [20.6720375, -103.338396], [20.6720375, -103.338396], [20.6720375, -103.338396], [20.6185208, -103.22273591034522], [20.7211203, -103.3913671], [20.7211203, -103.3913671], [20.7211203, -103.3913671], [20.6397718, -103.3120428], [20.6185208, -103.22273591034522], [20.7211203, -103.3913671], [20.7211203, -103.3913671], [20.6720375, -103.338396], [20.7211203, -103.3913671], [20.7211203, -103.3913671], [20.6720375, -103.338396], [20.7211203, -103.3913671], [20.6720375, -103.338396], [20.7211203, -103.3913671], [20.7211203, -103.3913671], [20.6185208, -103.22273591034522], [20.7211203, -103.3913671], [20.7211203, -103.3913671], [20.6185208, -103.22273591034522], [20.610062499999998, -103.70750330271915], [20.7211203, -103.3913671], [20.7211203, -103.3913671], [20.7211203, -103.3913671], [20.4739, -103.447], [20.7211203, -103.3913671], [20.7211203, -103.3913671], [20.6720375, -103.338396], [20.6185208, -103.22273591034522], [20.7211203, -103.3913671], [20.10729135, -103.09838165939337], [20.6720375, -103.338396], [20.6720375, -103.338396], [20.6720375, -103.338396], [20.7211203, -103.3913671], [20.6397718, -103.3120428], [20.539100050000002, -103.24037752852841], [20.6720375, -103.338396], [20.6720375, -103.338396], [20.6720375, -103.338396], [20.7211203, -103.3913671], [20.6720375, -103.338396], [20.4739, -103.447], [20.6397718, -103.3120428], [20.6720375, -103.338396], [20.6720375, -103.338396], [20.6720375, -103.338396], [19.6853653, -103.17006701011542], [19.6853653, -103.17006701011542], [20.7211203, -103.3913671], [20.7211203, -103.3913671], [20.7211203, -103.3913671], [20.6720375, -103.338396], [20.6185208, -103.22273591034522], [20.3289105, -103.1288962], [20.7211203, -103.3913671], [20.6185208, -103.22273591034522], [20.7211203, -103.3913671], [20.7211203, -103.3913671], [20.6720375, -103.338396], [20.7211203, -103.3913671], [20.7211203, -103.3913671], [20.6720375, -103.338396], [20.4739, -103.447], [20.6720375, -103.338396], [20.6720375, -103.338396], [20.6397718, -103.3120428], [20.7211203, -103.3913671], [20.6720375, -103.338396], [20.7211203, -103.3913671], [20.7211203, -103.3913671], [20.7211203, -103.3913671], [20.6720375, -103.338396], [20.6397718, -103.3120428], [20.7211203, -103.3913671], [19.890584150000002, -103.08102044422532], [20.6720375, -103.338396], [20.7211203, -103.3913671], [20.7211203, -103.3913671], [20.7211203, -103.3913671], [20.7211203, -103.3913671], [20.6720375, -103.338396], [20.6720375, -103.338396], [20.5347004, -104.06466098593745], [20.7211203, -103.3913671], [20.7211203, -103.3913671], [20.7211203, -103.3913671], [20.7211203, -103.3913671], [20.6397718, -103.3120428], [20.7211203, -103.3913671], [20.6720375, -103.338396], [20.6720375, -103.338396], [20.7211203, -103.3913671], [20.6397718, -103.3120428], [20.6720375, -103.338396], [20.7211203, -103.3913671], [20.6185208, -103.22273591034522], [20.6185208, -103.22273591034522], [20.6720375, -103.338396], [20.6720375, -103.338396], [20.7211203, -103.3913671], [20.7211203, -103.3913671], [20.7211203, -103.3913671], [20.6720375, -103.338396], [20.6720375, -103.338396], [20.7211203, -103.3913671], [20.4739, -103.447], [20.6720375, -103.338396], [20.419167, -103.188889], [20.7211203, -103.3913671], [20.7211203, -103.3913671], [20.6720375, -103.338396], [20.539100050000002, -103.24037752852841], [20.8799903, -102.7692794], [20.7211203, -103.3913671], [20.6397718, -103.3120428], [20.6185208, -103.22273591034522], [20.6720375, -103.338396], [20.7211203, -103.3913671], [20.539100050000002, -103.24037752852841], [20.7211203, -103.3913671], [20.7211203, -103.3913671], [20.7211203, -103.3913671], [20.6720375, -103.338396], [20.6720375, -103.338396], [20.7211203, -103.3913671], [20.6720375, -103.338396], [20.6720375, -103.338396], [20.5347004, -104.06466098593745], [20.7211203, -103.3913671], [20.6397718, -103.3120428], [20.6720375, -103.338396], [20.7211203, -103.3913671], [20.7211203, -103.3913671], [20.6720375, -103.338396], [20.6720375, -103.338396], [20.7211203, -103.3913671], [20.6397718, -103.3120428], [19.4374898, -103.41147046920722], [20.7211203, -103.3913671], [20.6407176, -105.220306], [20.7211203, -103.3913671], [20.7211203, -103.3913671], [20.7211203, -103.3913671], [20.7211203, -103.3913671], [20.4739, -103.447], [20.289346950000002, -103.43686457681868], [20.7211203, -103.3913671], [20.6720375, -103.338396], [20.6720375, -103.338396], [20.91062025, -104.11585399809384], [20.6185208, -103.22273591034522], [20.6720375, -103.338396], [20.4282709, -102.6544245], [20.6720375, -103.338396], [20.6720375, -103.338396], [20.6720375, -103.338396], [20.4739, -103.447], [20.6720375, -103.338396], [20.7211203, -103.3913671], [20.7211203, -103.3913671], [20.7211203, -103.3913671], [20.275808599999998, -103.98225523369862], [20.7211203, -103.3913671], [20.6720375, -103.338396], [20.6407176, -105.220306], [20.279764450000002, -103.22035855623801], [20.7211203, -103.3913671], [20.7211203, -103.3913671], [20.76878345, -102.92039700254298], [20.7211203, -103.3913671], [20.7211203, -103.3913671], [20.7211203, -103.3913671], [20.6720375, -103.338396], [20.6720375, -103.338396], [20.7211203, -103.3913671], [20.7211203, -103.3913671], [20.244094949999997, -103.59310626655152], [20.6397718, -103.3120428], [20.7211203, -103.3913671], [20.7211203, -103.3913671], [20.7211203, -103.3913671], [20.6720375, -103.338396], [20.4739, -103.447], [20.7211203, -103.3913671], [20.6185208, -103.22273591034522], [20.817055449999998, -102.6781613948367], [20.6397718, -103.3120428], [20.4739, -103.447], [20.4739, -103.447], [20.7211203, -103.3913671], [20.94949235, -103.03142458044168], [20.7211203, -103.3913671], [20.7211203, -103.3913671], [20.4739, -103.447], [20.610062499999998, -103.70750330271915], [20.7211203, -103.3913671], [20.7211203, -103.3913671], [20.7211203, -103.3913671], [20.6397718, -103.3120428], [20.6185208, -103.22273591034522], [20.6720375, -103.338396], [20.7211203, -103.3913671], [20.35720795, -102.50327003201096], [20.7211203, -103.3913671], [20.7211203, -103.3913671], [20.6397718, -103.3120428], [20.7211203, -103.3913671], [20.6185208, -103.22273591034522], [20.7211203, -103.3913671], [20.7211203, -103.3913671], [20.6720375, -103.338396], [20.7211203, -103.3913671], [20.7211203, -103.3913671], [20.7211203, -103.3913671], [20.6185208, -103.22273591034522], [20.710353750000003, -103.97539438473574], [20.7211203, -103.3913671], [20.6720375, -103.338396], [20.7211203, -103.3913671], [20.6720375, -103.338396], [20.6720375, -103.338396], [20.6397718, -103.3120428], [20.7211203, -103.3913671], [20.6720375, -103.338396], [20.539100050000002, -103.24037752852841], [20.7211203, -103.3913671], [20.7211203, -103.3913671], [20.7211203, -103.3913671], [20.6396569, -103.05151855846849], [20.6396569, -103.05151855846849], [20.6396569, -103.05151855846849], [20.6396569, -103.05151855846849], [20.6396569, -103.05151855846849], [20.6396569, -103.05151855846849], [20.6720375, -103.338396], [20.6396569, -103.05151855846849], [20.6720375, -103.338396], [21.201131750000002, -102.51069605240619], [20.7211203, -103.3913671], [20.6720375, -103.338396], [20.6720375, -103.338396], [20.7211203, -103.3913671], [20.6185208, -103.22273591034522], [20.6397718, -103.3120428], [20.539100050000002, -103.24037752852841], [20.7211203, -103.3913671], [20.6720375, -103.338396], [20.7211203, -103.3913671], [20.6397718, -103.3120428], [20.6720375, -103.338396], [20.7211203, -103.3913671], [20.7211203, -103.3913671], [20.7211203, -103.3913671], [20.74931205, -102.3142822111025], [20.7211203, -103.3913671], [20.7211203, -103.3913671], [20.6720375, -103.338396], [20.7211203, -103.3913671], [20.7211203, -103.3913671], [20.7211203, -103.3913671], [20.7211203, -103.3913671], [20.7211203, -103.3913671], [20.7211203, -103.3913671], [20.6720375, -103.338396], [20.7211203, -103.3913671], [20.6720375, -103.338396], [20.7211203, -103.3913671], [20.6720375, -103.338396], [20.7211203, -103.3913671], [20.6396569, -103.05151855846849], [20.6720375, -103.338396], [20.6720375, -103.338396], [20.6720375, -103.338396], [20.7211203, -103.3913671], [20.7211203, -103.3913671], [20.6720375, -103.338396], [20.6397718, -103.3120428], [20.7211203, -103.3913671], [20.7211203, -103.3913671], [20.7211203, -103.3913671], [20.6397718, -103.3120428], [19.7001632, -103.463935], [20.6185208, -103.22273591034522], [20.7211203, -103.3913671], [20.7211203, -103.3913671], [20.7211203, -103.3913671], [20.7211203, -103.3913671], [20.6397718, -103.3120428], [20.7211203, -103.3913671], [20.539100050000002, -103.24037752852841], [20.7211203, -103.3913671], [20.7211203, -103.3913671], [20.6185208, -103.22273591034522], [20.7211203, -103.3913671], [20.6720375, -103.338396], [20.6720375, -103.338396], [20.4739, -103.447], [20.6720375, -103.338396], [20.539100050000002, -103.24037752852841], [20.263965300000002, -102.88279855436468], [20.7211203, -103.3913671], [20.7211203, -103.3913671], [20.6407176, -105.220306], [20.7211203, -103.3913671], [20.7211203, -103.3913671], [20.7211203, -103.3913671], [20.539100050000002, -103.24037752852841], [20.6720375, -103.338396], [20.6396569, -103.05151855846849], [20.6185208, -103.22273591034522], [20.6720375, -103.338396], [20.6185208, -103.22273591034522], [20.7211203, -103.3913671], [20.6397718, -103.3120428], [20.6720375, -103.338396], [20.7211203, -103.3913671], [20.281944, -102.331944], [20.5347004, -104.06466098593745], [20.6185208, -103.22273591034522], [20.4739, -103.447], [20.7211203, -103.3913671], [20.7211203, -103.3913671], [20.6720375, -103.338396], [20.6185208, -103.22273591034522], [20.7211203, -103.3913671], [20.6185208, -103.22273591034522], [20.7211203, -103.3913671], [20.6720375, -103.338396], [20.7211203, -103.3913671], [20.7211203, -103.3913671], [20.7211203, -103.3913671], [20.6720375, -103.338396], [20.7211203, -103.3913671], [20.5347004, -104.06466098593745], [20.6720375, -103.338396], [20.6185208, -103.22273591034522], [20.7211203, -103.3913671], [20.7211203, -103.3913671], [20.7211203, -103.3913671], [20.7211203, -103.3913671], [20.7211203, -103.3913671], [20.7211203, -103.3913671], [20.6720375, -103.338396], [20.1189, -102.566], [20.7211203, -103.3913671], [20.6720375, -103.338396], [20.7211203, -103.3913671], [20.7211203, -103.3913671], [20.7211203, -103.3913671], [20.904594250000002, -103.24987805369719], [20.4739, -103.447], [20.7211203, -103.3913671], [20.5413692, -102.517566367728], [20.7211203, -103.3913671], [20.6720375, -103.338396], [20.6720375, -103.338396], [20.7211203, -103.3913671], [20.696709300000002, -104.41541268197736], [20.7211203, -103.3913671], [20.7211203, -103.3913671], [20.7211203, -103.3913671], [20.7211203, -103.3913671], [20.6720375, -103.338396], [20.6720375, -103.338396], [20.7211203, -103.3913671], [21.5134, -103.408], [20.7211203, -103.3913671], [20.2986583, -104.9524361256174], [20.7211203, -103.3913671], [20.6720375, -103.338396], [20.7211203, -103.3913671], [20.6720375, -103.338396], [20.6720375, -103.338396], [20.7211203, -103.3913671], [20.6396569, -103.05151855846849], [22.19050555, -103.18899010736042], [20.6720375, -103.338396], [20.6720375, -103.338396], [20.7211203, -103.3913671], [20.4739, -103.447], [20.7211203, -103.3913671], [20.4739, -103.447], [20.6720375, -103.338396], [20.7211203, -103.3913671], [20.7211203, -103.3913671], [20.6720375, -103.338396], [20.6720375, -103.338396], [20.6720375, -103.338396], [20.6720375, -103.338396], [20.7211203, -103.3913671], [20.7211203, -103.3913671], [20.7211203, -103.3913671], [20.7211203, -103.3913671], [20.6720375, -103.338396], [20.4739, -103.447], [20.6720375, -103.338396], [20.4739, -103.447], [20.6185208, -103.22273591034522], [20.5413692, -102.517566367728], [20.6185208, -103.22273591034522], [20.7211203, -103.3913671], [20.539100050000002, -103.24037752852841], [20.7211203, -103.3913671], [20.4739, -103.447], [20.6397718, -103.3120428], [20.6720375, -103.338396], [20.539100050000002, -103.24037752852841], [20.289346950000002, -103.43686457681868], [20.6720375, -103.338396], [20.7211203, -103.3913671], [20.7211203, -103.3913671], [20.7211203, -103.3913671], [20.6397718, -103.3120428], [20.7211203, -103.3913671], [20.7211203, -103.3913671], [20.7211203, -103.3913671], [20.7211203, -103.3913671], [20.6720375, -103.338396], [20.6396569, -103.05151855846849], [20.7211203, -103.3913671], [20.6720375, -103.338396], [20.6720375, -103.338396], [20.6720375, -103.338396], [20.7211203, -103.3913671], [19.857163800000002, -103.60889569436725], [20.6720375, -103.338396], [20.6720375, -103.338396], [20.7211203, -103.3913671], [20.7211203, -103.3913671], [20.7211203, -103.3913671], [20.7211203, -103.3913671], [20.6720375, -103.338396], [20.6720375, -103.338396], [20.7211203, -103.3913671], [20.7211203, -103.3913671], [20.7211203, -103.3913671], [20.7211203, -103.3913671], [20.7211203, -103.3913671], [20.6720375, -103.338396], [20.7211203, -103.3913671], [20.7211203, -103.3913671], [20.4739, -103.447], [20.6720375, -103.338396], [20.6720375, -103.338396], [20.7211203, -103.3913671], [20.6720375, -103.338396], [20.7211203, -103.3913671], [20.6720375, -103.338396], [20.7211203, -103.3913671], [20.6720375, -103.338396], [20.4739, -103.447], [20.4739, -103.447], [21.123410999999997, -102.95137191169567], [20.7211203, -103.3913671], [20.993872, -102.15835703145814], [20.7211203, -103.3913671], [20.7211203, -103.3913671], [20.7211203, -103.3913671], [20.7211203, -103.3913671], [20.6407176, -105.220306], [20.7211203, -103.3913671], [20.7211203, -103.3913671], [20.7211203, -103.3913671], [20.817055449999998, -102.6781613948367], [20.7211203, -103.3913671], [20.76878345, -102.92039700254298], [20.6185208, -103.22273591034522], [20.6720375, -103.338396], [20.6185208, -103.22273591034522], [20.6185208, -103.22273591034522], [20.6720375, -103.338396], [20.6720375, -103.338396], [20.7211203, -103.3913671], [20.6720375, -103.338396], [20.6720375, -103.338396], [20.6720375, -103.338396], [20.7211203, -103.3913671], [20.7211203, -103.3913671], [20.6720375, -103.338396], [20.6185208, -103.22273591034522], [20.7211203, -103.3913671], [20.6397718, -103.3120428], [20.6397718, -103.3120428], [20.6720375, -103.338396], [20.40302745, -103.20504879808468], [20.6720375, -103.338396], [20.817055449999998, -102.6781613948367], [20.7211203, -103.3913671], [20.7211203, -103.3913671], [20.4739, -103.447], [20.91062025, -104.11585399809384], [20.6397718, -103.3120428], [20.7211203, -103.3913671], [20.4739, -103.447], [20.6720375, -103.338396], [20.4739, -103.447], [20.6720375, -103.338396], [20.6185208, -103.22273591034522], [20.7211203, -103.3913671], [20.6720375, -103.338396], [20.6185208, -103.22273591034522], [20.7211203, -103.3913671], [20.7211203, -103.3913671], [20.6185208, -103.22273591034522], [20.6397718, -103.3120428], [20.6720375, -103.338396], [20.6720375, -103.338396], [20.6185208, -103.22273591034522], [20.7211203, -103.3913671], [20.7211203, -103.3913671], [20.4739, -103.447], [20.6720375, -103.338396], [20.7211203, -103.3913671], [20.6720375, -103.338396], [20.7211203, -103.3913671], [20.7211203, -103.3913671], [20.7211203, -103.3913671], [20.6397718, -103.3120428], [20.7211203, -103.3913671], [20.6720375, -103.338396], [20.4739, -103.447], [20.6720375, -103.338396], [20.6720375, -103.338396], [20.6720375, -103.338396], [20.7211203, -103.3913671], [20.7211203, -103.3913671], [20.7211203, -103.3913671], [20.6397718, -103.3120428], [20.6720375, -103.338396], [20.7211203, -103.3913671], [20.4739, -103.447], [20.6397718, -103.3120428], [20.7923909, -102.891726], [20.7211203, -103.3913671], [20.7211203, -103.3913671], [20.539100050000002, -103.24037752852841], [20.74931205, -102.3142822111025], [20.7211203, -103.3913671], [20.6720375, -103.338396], [20.6720375, -103.338396], [20.6185208, -103.22273591034522], [20.6720375, -103.338396], [20.7211203, -103.3913671], [20.7211203, -103.3913671], [20.4739, -103.447], [20.7211203, -103.3913671], [20.6720375, -103.338396], [20.6720375, -103.338396], [20.6397718, -103.3120428], [20.7211203, -103.3913671], [20.6185208, -103.22273591034522], [20.7211203, -103.3913671], [20.7211203, -103.3913671], [20.7211203, -103.3913671], [20.7211203, -103.3913671], [20.6720375, -103.338396], [20.6720375, -103.338396], [20.6720375, -103.338396], [20.6720375, -103.338396], [20.7211203, -103.3913671], [20.7211203, -103.3913671], [20.6720375, -103.338396], [20.7211203, -103.3913671], [20.7211203, -103.3913671], [20.7211203, -103.3913671], [20.4739, -103.447], [20.7211203, -103.3913671], [20.7211203, -103.3913671], [20.6720375, -103.338396], [20.6720375, -103.338396], [20.6720375, -103.338396], [20.4739, -103.447], [20.7211203, -103.3913671], [20.7211203, -103.3913671], [20.6720375, -103.338396], [20.6720375, -103.338396], [20.485749, -103.15072540651236], [20.7211203, -103.3913671], [20.6720375, -103.338396], [20.6720375, -103.338396], [20.6185208, -103.22273591034522], [20.61048, -103.28322], [20.7211203, -103.3913671], [20.7211203, -103.3913671], [20.7211203, -103.3913671], [20.7211203, -103.3913671], [20.6720375, -103.338396], [20.6720375, -103.338396], [20.7211203, -103.3913671], [20.7211203, -103.3913671], [20.6397718, -103.3120428], [20.7211203, -103.3913671], [20.6720375, -103.338396], [20.7211203, -103.3913671], [20.7211203, -103.3913671], [20.4739, -103.447], [20.7211203, -103.3913671], [20.6720375, -103.338396], [20.7211203, -103.3913671], [19.7114821, -101.1717083], [20.7211203, -103.3913671], [20.6720375, -103.338396], [20.7211203, -103.3913671], [20.904594250000002, -103.24987805369719], [20.6185208, -103.22273591034522], [20.7211203, -103.3913671], [20.4739, -103.447], [20.7211203, -103.3913671], [20.4739, -103.447], [20.7211203, -103.3913671], [20.6397718, -103.3120428], [20.46680925, -102.92302911944518], [20.6720375, -103.338396], [20.7211203, -103.3913671], [20.6720375, -103.338396], [20.6185208, -103.22273591034522], [20.6720375, -103.338396], [20.7211203, -103.3913671], [20.6720375, -103.338396], [20.7211203, -103.3913671], [20.7211203, -103.3913671], [20.6720375, -103.338396], [20.7211203, -103.3913671], [20.7211203, -103.3913671], [20.7211203, -103.3913671], [20.7211203, -103.3913671], [20.6185208, -103.22273591034522], [19.503478700000002, -103.74883288487334], [20.7211203, -103.3913671], [20.7211203, -103.3913671], [20.7211203, -103.3913671], [20.7211203, -103.3913671], [20.7594946, -102.5891453], [20.7211203, -103.3913671], [20.6720375, -103.338396], [20.817055449999998, -102.6781613948367], [20.6720375, -103.338396], [20.7211203, -103.3913671], [20.6720375, -103.338396], [20.7211203, -103.3913671], [20.6185208, -103.22273591034522], [20.6720375, -103.338396], [20.7211203, -103.3913671], [20.7211203, -103.3913671], [20.7211203, -103.3913671], [20.7211203, -103.3913671], [20.6720375, -103.338396], [20.289346950000002, -103.43686457681868], [20.7211203, -103.3913671], [20.6397718, -103.3120428], [20.7211203, -103.3913671], [20.6720375, -103.338396], [20.6720375, -103.338396], [20.8821155, -103.8370907], [20.7211203, -103.3913671], [20.7211203, -103.3913671], [20.6720375, -103.338396], [20.6720375, -103.338396], [20.6720375, -103.338396], [20.6720375, -103.338396], [20.7211203, -103.3913671], [20.6720375, -103.338396], [20.6397718, -103.3120428], [20.6720375, -103.338396], [20.6720375, -103.338396], [20.539100050000002, -103.24037752852841], [20.6397718, -103.3120428], [16.8646266, -99.901852], [20.6720375, -103.338396], [20.7211203, -103.3913671], [20.7211203, -103.3913671], [20.7211203, -103.3913671], [20.7211203, -103.3913671], [20.6720375, -103.338396], [20.4739, -103.447], [20.3001977, -103.2619347], [20.6720375, -103.338396], [20.7211203, -103.3913671], [20.4739, -103.447], [20.6185208, -103.22273591034522], [20.7211203, -103.3913671], [20.6185208, -103.22273591034522], [20.7211203, -103.3913671], [20.7211203, -103.3913671], [20.7211203, -103.3913671], [20.6720375, -103.338396], [20.7211203, -103.3913671], [20.6720375, -103.338396], [20.7211203, -103.3913671], [20.7211203, -103.3913671], [20.7211203, -103.3913671], [20.6720375, -103.338396], [20.6397718, -103.3120428], [20.7211203, -103.3913671], [20.7211203, -103.3913671], [20.6397718, -103.3120428], [20.7211203, -103.3913671], [20.6185208, -103.22273591034522], [20.7211203, -103.3913671], [20.7211203, -103.3913671], [20.6185208, -103.22273591034522], [20.7211203, -103.3913671], [20.6720375, -103.338396], [20.6185208, -103.22273591034522], [20.6720375, -103.338396], [20.7211203, -103.3913671], [20.4739, -103.447], [20.7211203, -103.3913671], [20.7211203, -103.3913671], [20.4739, -103.447], [19.7001632, -103.463935], [20.7211203, -103.3913671], [20.6720375, -103.338396], [20.6720375, -103.338396], [20.7211203, -103.3913671], [20.7211203, -103.3913671], [20.7211203, -103.3913671], [20.6720375, -103.338396], [20.274167, -97.955], [20.6407176, -105.220306], [20.6720375, -103.338396], [20.7211203, -103.3913671], [20.7211203, -103.3913671], [20.6720375, -103.338396], [20.6720375, -103.338396], [20.6720375, -103.338396], [20.7211203, -103.3913671], [20.6720375, -103.338396], [20.6185208, -103.22273591034522], [20.7211203, -103.3913671], [20.6720375, -103.338396], [20.6185208, -103.22273591034522], [20.40302745, -103.20504879808468], [20.539100050000002, -103.24037752852841], [20.7211203, -103.3913671], [20.7211203, -103.3913671], [20.7211203, -103.3913671], [20.7211203, -103.3913671], [20.6720375, -103.338396], [20.6720375, -103.338396], [20.7211203, -103.3913671], [20.3872033, -102.73361924832378], [20.539100050000002, -103.24037752852841], [20.7211203, -103.3913671], [20.7211203, -103.3913671], [20.7211203, -103.3913671], [20.6720375, -103.338396], [20.7211203, -103.3913671], [20.7211203, -103.3913671], [20.7211203, -103.3913671], [20.6720375, -103.338396], [20.6720375, -103.338396], [20.7211203, -103.3913671], [20.7211203, -103.3913671], [20.6720375, -103.338396], [20.4739, -103.447], [20.6185208, -103.22273591034522], [20.7211203, -103.3913671], [19.857163800000002, -103.60889569436725], [20.7211203, -103.3913671], [20.279764450000002, -103.22035855623801], [20.6720375, -103.338396], [20.6720375, -103.338396], [20.3001977, -103.2619347], [20.6397718, -103.3120428], [20.4739, -103.447], [20.7211203, -103.3913671], [20.6185208, -103.22273591034522], [20.4739, -103.447], [20.6397718, -103.3120428], [20.7211203, -103.3913671], [20.6720375, -103.338396], [20.5413692, -102.517566367728], [20.6720375, -103.338396], [20.4739, -103.447], [20.7211203, -103.3913671], [20.6720375, -103.338396], [20.6720375, -103.338396], [20.7211203, -103.3913671], [20.6720375, -103.338396], [20.6397718, -103.3120428], [20.6185208, -103.22273591034522], [20.7211203, -103.3913671], [20.7211203, -103.3913671], [20.5064341, -103.3650489], [20.6720375, -103.338396], [19.946663450000003, -103.77610588768835], [20.7211203, -103.3913671], [20.3872033, -102.73361924832378], [20.6720375, -103.338396], [20.6720375, -103.338396], [20.7211203, -103.3913671], [20.6720375, -103.338396], [20.6806057, -103.83278673516206], [20.6720375, -103.338396], [20.6397718, -103.3120428], [20.6720375, -103.338396], [20.710353750000003, -103.97539438473574], [20.817055449999998, -102.6781613948367], [20.7211203, -103.3913671], [20.6720375, -103.338396], [20.7211203, -103.3913671], [20.7211203, -103.3913671], [20.7211203, -103.3913671], [20.6720375, -103.338396], [20.7211203, -103.3913671], [20.6720375, -103.338396], [20.6185208, -103.22273591034522], [20.6720375, -103.338396], [20.6720375, -103.338396], [19.4233927, -103.4098578], [20.6397718, -103.3120428], [20.6720375, -103.338396], [20.7211203, -103.3913671], [20.4739, -103.447], [20.6720375, -103.338396], [20.6720375, -103.338396], [20.7211203, -103.3913671], [20.7211203, -103.3913671], [20.7211203, -103.3913671], [20.4739, -103.447], [20.7211203, -103.3913671], [20.610062499999998, -103.70750330271915], [20.7211203, -103.3913671], [20.6397718, -103.3120428], [20.7211203, -103.3913671], [20.7211203, -103.3913671], [20.6720375, -103.338396], [20.7211203, -103.3913671], [20.7211203, -103.3913671], [20.6720375, -103.338396], [20.64794705, -102.10757376228773], [20.7211203, -103.3913671], [20.7211203, -103.3913671], [20.6185208, -103.22273591034522], [20.6185208, -103.22273591034522], [20.7211203, -103.3913671], [20.7211203, -103.3913671], [20.6720375, -103.338396], [20.7211203, -103.3913671], [20.7211203, -103.3913671], [20.7211203, -103.3913671], [20.4739, -103.447], [20.7211203, -103.3913671], [20.6185208, -103.22273591034522], [20.3702677, -102.6627865], [20.7211203, -103.3913671], [20.7211203, -103.3913671], [20.38914285, -103.68552715478332], [20.6720375, -103.338396], [20.7211203, -103.3913671], [20.7211203, -103.3913671], [20.6720375, -103.338396], [21.0584771, -104.050605], [20.8821155, -103.8370907], [20.817055449999998, -102.6781613948367], [20.6397718, -103.3120428], [20.7211203, -103.3913671], [20.6720375, -103.338396], [20.7211203, -103.3913671], [20.6185208, -103.22273591034522], [20.6720375, -103.338396], [20.7211203, -103.3913671], [20.6720375, -103.338396], [20.6720375, -103.338396], [20.6397718, -103.3120428], [20.6720375, -103.338396], [20.7211203, -103.3913671], [20.7211203, -103.3913671], [20.7211203, -103.3913671], [20.6720375, -103.338396], [20.04062435, -104.47395781043053], [20.6396569, -103.05151855846849], [20.6720375, -103.338396], [20.7211203, -103.3913671], [20.6720375, -103.338396], [20.6720375, -103.338396], [20.6720375, -103.338396], [20.7211203, -103.3913671], [22.19050555, -103.18899010736042], [20.7211203, -103.3913671], [20.6185208, -103.22273591034522], [20.817055449999998, -102.6781613948367], [20.7211203, -103.3913671], [20.7211203, -103.3913671], [20.7211203, -103.3913671], [20.7211203, -103.3913671], [20.7211203, -103.3913671], [21.3621377, -101.9409428], [20.7211203, -103.3913671], [20.904594250000002, -103.24987805369719], [20.7211203, -103.3913671], [20.7211203, -103.3913671], [20.7211203, -103.3913671], [20.539100050000002, -103.24037752852841], [20.7211203, -103.3913671], [20.6720375, -103.338396], [19.890584150000002, -103.08102044422532], [20.817055449999998, -102.6781613948367], [20.10729135, -103.09838165939337], [20.7211203, -103.3913671], [20.6720375, -103.338396], [20.7211203, -103.3913671], [20.7211203, -103.3913671], [20.7211203, -103.3913671], [20.6720375, -103.338396], [20.6720375, -103.338396], [20.4739, -103.447], [20.6720375, -103.338396], [20.539100050000002, -103.24037752852841], [20.7211203, -103.3913671], [20.7211203, -103.3913671], [20.7211203, -103.3913671], [20.47223855, -102.3641292878145], [20.6185208, -103.22273591034522], [20.7211203, -103.3913671], [20.6720375, -103.338396], [20.47223855, -102.3641292878145], [20.7211203, -103.3913671], [20.91062025, -104.11585399809384], [20.7211203, -103.3913671], [20.7211203, -103.3913671], [20.6720375, -103.338396], [20.6720375, -103.338396], [20.6720375, -103.338396], [20.7211203, -103.3913671], [20.7211203, -103.3913671], [20.6720375, -103.338396], [20.6720375, -103.338396], [20.6397718, -103.3120428], [20.7211203, -103.3913671], [20.6720375, -103.338396], [20.6720375, -103.338396], [20.6720375, -103.338396], [20.7211203, -103.3913671], [20.7211203, -103.3913671], [20.7211203, -103.3913671], [20.6720375, -103.338396], [20.6397718, -103.3120428], [20.7211203, -103.3913671], [20.8136991, -103.9923066295169], [20.6720375, -103.338396], [22.2313494, -104.1102847617064], [20.7211203, -103.3913671], [20.7211203, -103.3913671], [20.6720375, -103.338396], [20.7211203, -103.3913671], [20.76878345, -102.92039700254298], [20.6720375, -103.338396], [20.6720375, -103.338396], [20.7211203, -103.3913671], [20.7211203, -103.3913671], [20.7211203, -103.3913671], [20.7211203, -103.3913671], [20.6720375, -103.338396], [20.35720795, -102.50327003201096], [20.4739, -103.447], [21.254312650000003, -102.28137105849761], [20.6720375, -103.338396], [20.6720375, -103.338396], [20.7211203, -103.3913671], [20.7211203, -103.3913671], [20.6185208, -103.22273591034522], [20.4739, -103.447], [20.7211203, -103.3913671], [20.6720375, -103.338396], [20.7083627, -103.4468134], [19.9480312, -102.3149795], [20.4739, -103.447], [20.6720375, -103.338396], [20.7211203, -103.3913671], [20.6720375, -103.338396], [20.7211203, -103.3913671], [20.6185208, -103.22273591034522], [20.7211203, -103.3913671], [20.6720375, -103.338396], [20.7211203, -103.3913671], [20.7211203, -103.3913671], [20.6720375, -103.338396], [20.6397718, -103.3120428], [20.6720375, -103.338396], [20.6397718, -103.3120428], [20.6720375, -103.338396], [20.6720375, -103.338396], [20.6185208, -103.22273591034522], [20.6720375, -103.338396], [20.7211203, -103.3913671], [20.7211203, -103.3913671], [20.7211203, -103.3913671], [20.7211203, -103.3913671], [20.7211203, -103.3913671], [20.7211203, -103.3913671], [20.6720375, -103.338396], [20.539100050000002, -103.24037752852841], [20.7211203, -103.3913671], [20.4739, -103.447], [20.4739, -103.447], [20.7211203, -103.3913671], [20.7211203, -103.3913671], [20.7211203, -103.3913671], [20.6397718, -103.3120428], [20.7211203, -103.3913671], [20.5413692, -102.517566367728], [20.7211203, -103.3913671], [20.7211203, -103.3913671], [20.7211203, -103.3913671], [20.7211203, -103.3913671], [20.6720375, -103.338396], [20.7211203, -103.3913671], [20.4739, -103.447], [20.6397718, -103.3120428], [20.4739, -103.447], [20.4739, -103.447], [20.3333, -102.533], [20.7211203, -103.3913671], [20.6720375, -103.338396], [20.7211203, -103.3913671], [20.7211203, -103.3913671], [20.7211203, -103.3913671], [20.7211203, -103.3913671], [20.6720375, -103.338396], [20.7211203, -103.3913671], [20.7211203, -103.3913671], [20.7211203, -103.3913671], [20.7211203, -103.3913671], [20.6185208, -103.22273591034522], [20.7211203, -103.3913671], [20.6720375, -103.338396], [20.7211203, -103.3913671], [20.7211203, -103.3913671], [20.6720375, -103.338396], [20.6720375, -103.338396], [20.7211203, -103.3913671], [20.423970500000003, -103.6013031524341], [20.7211203, -103.3913671], [20.6720375, -103.338396], [20.6720375, -103.338396], [20.7211203, -103.3913671], [20.7211203, -103.3913671], [20.4739, -103.447], [20.4739, -103.447], [20.6720375, -103.338396], [20.7211203, -103.3913671], [20.6720375, -103.338396], [20.7211203, -103.3913671], [20.4739, -103.447], [20.7211203, -103.3913671], [20.6185208, -103.22273591034522], [20.6720375, -103.338396], [20.4739, -103.447], [20.6720375, -103.338396], [20.6720375, -103.338396], [19.75703, -104.31834015548738], [20.7211203, -103.3913671], [20.279764450000002, -103.22035855623801], [20.6720375, -103.338396], [19.263284849999998, -104.60497365939882], [20.7211203, -103.3913671], [20.7211203, -103.3913671], [20.6720375, -103.338396], [20.6720375, -103.338396], [20.6720375, -103.338396], [20.7211203, -103.3913671], [20.7211203, -103.3913671], [20.7211203, -103.3913671], [20.6720375, -103.338396], [20.7211203, -103.3913671], [20.7211203, -103.3913671], [20.4739, -103.447], [20.817055449999998, -102.6781613948367], [20.7211203, -103.3913671], [20.7211203, -103.3913671], [20.6720375, -103.338396], [20.6185208, -103.22273591034522], [20.7211203, -103.3913671], [20.4739, -103.447], [20.6397718, -103.3120428], [19.7182209, -98.9645163], [20.761220899999998, -104.13063108161292], [20.7211203, -103.3913671], [20.7211203, -103.3913671], [20.7211203, -103.3913671], [20.6397718, -103.3120428], [20.6720375, -103.338396], [20.7211203, -103.3913671], [20.6720375, -103.338396], [20.7211203, -103.3913671], [20.539100050000002, -103.24037752852841], [20.7211203, -103.3913671], [20.7211203, -103.3913671], [20.7211203, -103.3913671], [20.6292273, -105.2164695], [19.857163800000002, -103.60889569436725], [20.6185208, -103.22273591034522], [20.74931205, -102.3142822111025], [20.6397718, -103.3120428], [20.7211203, -103.3913671], [20.7211203, -103.3913671], [20.7211203, -103.3913671], [20.7211203, -103.3913671], [20.6720375, -103.338396], [20.7211203, -103.3913671], [20.6720375, -103.338396], [20.6720375, -103.338396], [19.7001632, -103.463935], [20.6720375, -103.338396], [20.6720375, -103.338396], [20.4739, -103.447], [20.6720375, -103.338396], [20.6720375, -103.338396], [20.6720375, -103.338396], [20.7211203, -103.3913671], [20.7211203, -103.3913671], [19.857163800000002, -103.60889569436725], [20.7211203, -103.3913671], [20.7211203, -103.3913671], [20.7211203, -103.3913671], [20.6720375, -103.338396], [19.857163800000002, -103.60889569436725], [20.7211203, -103.3913671], [20.6720375, -103.338396], [20.6720375, -103.338396], [20.6720375, -103.338396], [20.94949235, -103.03142458044168], [20.7211203, -103.3913671], [20.6185208, -103.22273591034522], [20.904594250000002, -103.24987805369719], [20.6720375, -103.338396], [20.6397718, -103.3120428], [20.6720375, -103.338396], [20.6185208, -103.22273591034522], [20.6185208, -103.22273591034522], [20.7211203, -103.3913671], [20.6185208, -103.22273591034522], [20.7211203, -103.3913671], [20.7211203, -103.3913671], [20.6720375, -103.338396], [20.6720375, -103.338396], [20.4739, -103.447], [20.6720375, -103.338396], [20.7211203, -103.3913671], [20.539100050000002, -103.24037752852841], [20.7211203, -103.3913671], [20.6720375, -103.338396], [20.7211203, -103.3913671], [20.6185208, -103.22273591034522], [20.7211203, -103.3913671], [20.7211203, -103.3913671], [19.82320785, -104.73273779114446], [20.6397718, -103.3120428], [20.7211203, -103.3913671], [20.7211203, -103.3913671], [20.6720375, -103.338396], [20.7211203, -103.3913671], [20.7211203, -103.3913671], [20.6407176, -105.220306], [20.6720375, -103.338396], [20.6185208, -103.22273591034522], [20.7211203, -103.3913671], [20.7211203, -103.3913671], [20.7211203, -103.3913671], [20.6720375, -103.338396], [20.6720375, -103.338396], [20.7211203, -103.3913671], [20.7211203, -103.3913671], [20.289346950000002, -103.43686457681868], [20.7211203, -103.3913671], [20.6720375, -103.338396], [20.7211203, -103.3913671], [20.6397718, -103.3120428], [20.6397718, -103.3120428], [20.6720375, -103.338396], [20.4739, -103.447], [20.6720375, -103.338396], [20.7211203, -103.3913671], [20.6720375, -103.338396], [20.6720375, -103.338396], [20.7211203, -103.3913671], [20.6720375, -103.338396], [20.7211203, -103.3913671], [20.7211203, -103.3913671], [20.7211203, -103.3913671], [20.7211203, -103.3913671], [20.279764450000002, -103.22035855623801], [20.7211203, -103.3913671], [20.10729135, -103.09838165939337], [20.4739, -103.447], [20.7211203, -103.3913671], [20.6185208, -103.22273591034522], [20.7211203, -103.3913671], [20.6397718, -103.3120428], [20.7211203, -103.3913671], [20.7211203, -103.3913671], [20.7211203, -103.3913671], [20.6720375, -103.338396], [20.7211203, -103.3913671], [20.4739, -103.447], [20.7211203, -103.3913671], [20.7211203, -103.3913671], [20.6720375, -103.338396], [20.6720375, -103.338396], [20.6720375, -103.338396], [20.7211203, -103.3913671], [20.6720375, -103.338396], [20.6185208, -103.22273591034522], [20.7211203, -103.3913671], [20.7211203, -103.3913671], [20.7211203, -103.3913671], [20.6720375, -103.338396], [20.7211203, -103.3913671], [20.7211203, -103.3913671], [20.7211203, -103.3913671], [20.6397718, -103.3120428], [20.7211203, -103.3913671], [20.4739, -103.447], [20.7211203, -103.3913671], [20.7211203, -103.3913671], [20.610062499999998, -103.70750330271915], [20.6397718, -103.3120428], [20.6720375, -103.338396], [20.7211203, -103.3913671], [20.7211203, -103.3913671], [20.7211203, -103.3913671], [20.7211203, -103.3913671], [20.6396569, -103.05151855846849], [20.5413692, -102.517566367728], [20.7211203, -103.3913671], [20.6720375, -103.338396], [20.6397718, -103.3120428], [19.25465, -99.10356], [20.7211203, -103.3913671], [20.7211203, -103.3913671], [20.7211203, -103.3913671], [20.7211203, -103.3913671], [20.4739, -103.447], [20.6720375, -103.338396], [20.7211203, -103.3913671], [20.6720375, -103.338396], [20.6720375, -103.338396], [20.6185208, -103.22273591034522], [20.6720375, -103.338396], [20.6397718, -103.3120428], [20.7211203, -103.3913671], [20.6720375, -103.338396], [20.6720375, -103.338396], [20.539100050000002, -103.24037752852841], [20.6720375, -103.338396], [20.279764450000002, -103.22035855623801], [20.7211203, -103.3913671], [20.7211203, -103.3913671], [20.7211203, -103.3913671], [20.6720375, -103.338396], [20.6720375, -103.338396], [20.7211203, -103.3913671], [20.6806057, -103.83278673516206], [20.7211203, -103.3913671], [20.6185208, -103.22273591034522], [20.6720375, -103.338396], [20.539100050000002, -103.24037752852841], [20.6720375, -103.338396], [20.7211203, -103.3913671], [20.7211203, -103.3913671], [20.7211203, -103.3913671], [20.6397718, -103.3120428], [20.6720375, -103.338396], [20.6720375, -103.338396], [20.5396776, -103.0513766], [20.7211203, -103.3913671], [20.7211203, -103.3913671], [20.6720375, -103.338396], [20.7211203, -103.3913671], [20.539100050000002, -103.24037752852841], [20.6720375, -103.338396], [20.6397718, -103.3120428], [20.6720375, -103.338396], [20.6720375, -103.338396], [20.7211203, -103.3913671], [19.9207681, -105.3183541], [20.4739, -103.447], [20.7211203, -103.3913671], [20.7211203, -103.3913671], [20.76878345, -102.92039700254298], [20.7211203, -103.3913671], [20.6185208, -103.22273591034522], [20.6396569, -103.05151855846849], [20.6720375, -103.338396], [20.7756507, -103.3454871], [20.7211203, -103.3913671], [20.4739, -103.447], [20.7211203, -103.3913671], [20.7211203, -103.3913671], [20.7211203, -103.3913671], [20.6720375, -103.338396], [20.7211203, -103.3913671], [20.4739, -103.447], [20.279764450000002, -103.22035855623801], [20.5533013, -104.76338164381983], [20.6720375, -103.338396], [20.6720375, -103.338396], [20.7211203, -103.3913671], [20.6720375, -103.338396], [20.6185208, -103.22273591034522], [20.7211203, -103.3913671], [20.5347004, -104.06466098593745], [20.6720375, -103.338396], [20.4739, -103.447], [20.3872033, -102.73361924832378], [20.7211203, -103.3913671], [20.7211203, -103.3913671], [20.7211203, -103.3913671], [20.7211203, -103.3913671], [20.4739, -103.447], [20.7211203, -103.3913671], [20.7211203, -103.3913671], [20.6720375, -103.338396], [20.7211203, -103.3913671], [20.6720375, -103.338396], [20.7211203, -103.3913671], [20.7211203, -103.3913671], [20.7211203, -103.3913671], [20.6720375, -103.338396], [20.6185208, -103.22273591034522], [20.6720375, -103.338396], [20.6185208, -103.22273591034522], [20.7211203, -103.3913671], [20.6185208, -103.22273591034522], [20.6720375, -103.338396], [20.7211203, -103.3913671], [20.7211203, -103.3913671], [20.7211203, -103.3913671], [20.6720375, -103.338396], [20.6720375, -103.338396], [20.6720375, -103.338396], [20.7211203, -103.3913671], [20.6720375, -103.338396], [20.6185208, -103.22273591034522], [20.7211203, -103.3913671], [20.6720375, -103.338396], [20.6720375, -103.338396], [20.6720375, -103.338396], [20.6720375, -103.338396], [20.6720375, -103.338396], [20.6720375, -103.338396], [20.6720375, -103.338396], [20.6720375, -103.338396], [20.4739, -103.447], [20.7211203, -103.3913671], [20.7211203, -103.3913671], [20.7211203, -103.3913671], [20.6720375, -103.338396], [20.7211203, -103.3913671], [20.7211203, -103.3913671], [20.7211203, -103.3913671], [20.6185208, -103.22273591034522], [20.7211203, -103.3913671], [20.7211203, -103.3913671], [20.7211203, -103.3913671], [20.6720375, -103.338396], [20.7211203, -103.3913671], [20.7211203, -103.3913671], [20.6720375, -103.338396], [20.7211203, -103.3913671], [20.6397718, -103.3120428], [20.539100050000002, -103.24037752852841], [20.7211203, -103.3913671], [20.7211203, -103.3913671], [20.7211203, -103.3913671], [20.6397718, -103.3120428], [20.6720375, -103.338396], [20.7211203, -103.3913671], [20.6720375, -103.338396], [20.35720795, -102.50327003201096], [20.3872033, -102.73361924832378], [20.6720375, -103.338396], [20.6397718, -103.3120428], [20.7211203, -103.3913671], [20.7211203, -103.3913671], [20.7211203, -103.3913671], [20.38914285, -103.68552715478332], [20.6720375, -103.338396], [20.6720375, -103.338396], [20.7211203, -103.3913671], [20.7211203, -103.3913671], [20.7211203, -103.3913671], [20.38914285, -103.68552715478332], [20.7211203, -103.3913671], [20.6720375, -103.338396], [19.9144306, -102.7901964], [20.7211203, -103.3913671], [20.7211203, -103.3913671], [20.7211203, -103.3913671], [20.6720375, -103.338396], [27.35362, -110.45337], [20.7211203, -103.3913671], [20.7211203, -103.3913671], [20.6720375, -103.338396], [20.7211203, -103.3913671], [20.7211203, -103.3913671], [20.7211203, -103.3913671], [20.4739, -103.447], [20.7211203, -103.3913671], [20.7211203, -103.3913671], [20.6397718, -103.3120428], [20.585278, -103.282778], [20.817055449999998, -102.6781613948367], [20.6720375, -103.338396], [20.7211203, -103.3913671], [20.6185208, -103.22273591034522], [20.7211203, -103.3913671], [20.6720375, -103.338396], [20.7211203, -103.3913671], [20.6720375, -103.338396], [20.6720375, -103.338396], [20.539100050000002, -103.24037752852841], [20.7211203, -103.3913671], [20.7211203, -103.3913671], [20.7211203, -103.3913671], [20.7211203, -103.3913671], [20.7211203, -103.3913671], [20.7211203, -103.3913671], [20.904594250000002, -103.24987805369719], [20.6407176, -105.220306], [20.7211203, -103.3913671], [20.7211203, -103.3913671], [20.7211203, -103.3913671], [20.7211203, -103.3913671], [20.817055449999998, -102.6781613948367], [20.7211203, -103.3913671], [20.6397718, -103.3120428], [20.7211203, -103.3913671], [20.710353750000003, -103.97539438473574], [20.4739, -103.447], [20.539100050000002, -103.24037752852841], [20.7211203, -103.3913671], [20.6397718, -103.3120428], [20.6720375, -103.338396], [20.7211203, -103.3913671], [19.263284849999998, -104.60497365939882], [20.6720375, -103.338396], [20.99270025, -102.39359813114054], [20.817055449999998, -102.6781613948367], [20.7211203, -103.3913671], [20.4739, -103.447], [20.7211203, -103.3913671], [20.6720375, -103.338396], [20.6720375, -103.338396], [20.7211203, -103.3913671], [20.6720375, -103.338396], [19.946663450000003, -103.77610588768835], [20.6185208, -103.22273591034522], [20.004524349999997, -104.22767687376117], [20.6720375, -103.338396], [20.6720375, -103.338396], [20.7211203, -103.3913671], [21.0584771, -104.050605], [20.7211203, -103.3913671], [20.7211203, -103.3913671], [20.4739, -103.447], [20.6397718, -103.3120428], [20.4739, -103.447], [20.6720375, -103.338396], [20.6720375, -103.338396], [20.6720375, -103.338396], [20.7211203, -103.3913671], [20.279764450000002, -103.22035855623801], [20.263965300000002, -102.88279855436468], [20.6720375, -103.338396], [20.6720375, -103.338396], [20.7211203, -103.3913671], [20.6720375, -103.338396], [20.6720375, -103.338396], [20.6720375, -103.338396], [20.6185208, -103.22273591034522], [20.4739, -103.447], [20.4739, -103.447], [20.6720375, -103.338396], [20.6720375, -103.338396], [20.4739, -103.447], [20.7211203, -103.3913671], [20.7211203, -103.3913671], [20.6720375, -103.338396], [20.7211203, -103.3913671], [20.4739, -103.447], [20.6185208, -103.22273591034522], [21.123410999999997, -102.95137191169567], [20.6720375, -103.338396], [20.6720375, -103.338396], [20.539100050000002, -103.24037752852841], [20.6185208, -103.22273591034522], [22.098424299999998, -103.27431707479644], [20.6185208, -103.22273591034522], [20.6185208, -103.22273591034522], [20.6720375, -103.338396], [20.7211203, -103.3913671], [20.6720375, -103.338396], [20.7211203, -103.3913671], [20.7211203, -103.3913671], [20.6720375, -103.338396], [20.7211203, -103.3913671], [20.7211203, -103.3913671], [20.7211203, -103.3913671], [20.6720375, -103.338396], [20.7211203, -103.3913671], [20.7211203, -103.3913671], [20.7211203, -103.3913671], [20.7211203, -103.3913671], [20.4739, -103.447], [20.6720375, -103.338396], [20.6185208, -103.22273591034522], [20.7211203, -103.3913671], [20.7211203, -103.3913671], [20.6720375, -103.338396], [20.7211203, -103.3913671], [20.6720375, -103.338396], [20.6396569, -103.05151855846849], [20.6720375, -103.338396], [20.6720375, -103.338396], [20.6720375, -103.338396], [20.6185208, -103.22273591034522], [19.781944, -103.711111], [20.7211203, -103.3913671], [20.6720375, -103.338396], [20.7211203, -103.3913671], [20.7211203, -103.3913671], [20.6720375, -103.338396], [20.279764450000002, -103.22035855623801], [20.7211203, -103.3913671], [20.7211203, -103.3913671], [20.7211203, -103.3913671], [19.7001632, -103.463935], [20.7211203, -103.3913671], [20.904594250000002, -103.24987805369719], [20.7211203, -103.3913671], [20.7211203, -103.3913671], [19.4374898, -103.41147046920722], [20.817055449999998, -102.6781613948367], [20.6397718, -103.3120428], [22.07278, -104.19083], [20.7211203, -103.3913671], [20.7211203, -103.3913671], [20.6720375, -103.338396], [20.6397718, -103.3120428], [20.3380245, -103.3761834], [20.7211203, -103.3913671], [20.6185208, -103.22273591034522], [20.7211203, -103.3913671], [20.7211203, -103.3913671], [20.6720375, -103.338396], [20.6720375, -103.338396], [20.7211203, -103.3913671], [20.6397718, -103.3120428], [20.7211203, -103.3913671], [20.6720375, -103.338396], [20.7211203, -103.3913671], [20.7211203, -103.3913671], [20.7211203, -103.3913671], [20.6720375, -103.338396], [20.6396569, -103.05151855846849], [20.6720375, -103.338396], [20.7211203, -103.3913671], [20.7211203, -103.3913671], [20.4739, -103.447], [20.6720375, -103.338396], [20.7211203, -103.3913671], [20.7211203, -103.3913671], [20.7211203, -103.3913671], [20.7211203, -103.3913671], [20.7211203, -103.3913671], [20.7211203, -103.3913671], [20.7211203, -103.3913671], [20.6720375, -103.338396], [20.7211203, -103.3913671], [20.6720375, -103.338396], [20.6396569, -103.05151855846849], [20.7211203, -103.3913671], [20.7211203, -103.3913671], [20.7211203, -103.3913671], [20.6720375, -103.338396], [20.7211203, -103.3913671], [20.7211203, -103.3913671], [20.4739, -103.447], [20.7211203, -103.3913671], [20.6397718, -103.3120428], [20.6720375, -103.338396], [20.4739, -103.447], [20.7211203, -103.3913671], [20.6720375, -103.338396], [20.7211203, -103.3913671], [20.7211203, -103.3913671], [20.6396569, -103.05151855846849], [20.6185208, -103.22273591034522], [20.7211203, -103.3913671], [20.6397718, -103.3120428], [20.7211203, -103.3913671], [20.7211203, -103.3913671], [20.6720375, -103.338396], [20.6720375, -103.338396], [20.6397718, -103.3120428], [20.7211203, -103.3913671], [20.6720375, -103.338396], [20.6720375, -103.338396], [20.6720375, -103.338396], [20.7211203, -103.3913671], [20.7211203, -103.3913671], [20.7211203, -103.3913671], [20.7211203, -103.3913671], [20.6720375, -103.338396], [20.7211203, -103.3913671], [20.4739, -103.447], [20.293352650000003, -102.68652379075318], [21.046335650000003, -103.51239235477239], [20.7211203, -103.3913671], [20.539100050000002, -103.24037752852841], [20.6720375, -103.338396], [20.6720375, -103.338396], [20.6397718, -103.3120428], [20.7211203, -103.3913671], [20.7211203, -103.3913671], [20.6720375, -103.338396], [20.6720375, -103.338396], [20.7211203, -103.3913671], [20.7211203, -103.3913671], [20.7211203, -103.3913671], [20.7211203, -103.3913671], [20.6720375, -103.338396], [20.7211203, -103.3913671], [20.6720375, -103.338396], [20.6720375, -103.338396], [20.7211203, -103.3913671], [20.6720375, -103.338396], [20.7211203, -103.3913671], [20.7211203, -103.3913671], [20.7211203, -103.3913671], [20.6720375, -103.338396], [20.7211203, -103.3913671], [20.6720375, -103.338396], [20.7211203, -103.3913671], [20.7211203, -103.3913671], [20.7211203, -103.3913671], [20.6720375, -103.338396], [20.6720375, -103.338396], [20.7211203, -103.3913671], [20.7211203, -103.3913671], [20.7211203, -103.3913671], [20.6720375, -103.338396], [20.7211203, -103.3913671], [20.3938983, -103.9492395], [20.6720375, -103.338396], [20.4739, -103.447]],\n",
              "                {&quot;blur&quot;: 15, &quot;maxZoom&quot;: 18, &quot;minOpacity&quot;: 0.5, &quot;radius&quot;: 15}\n",
              "            ).addTo(map_0499eb446fbab29c928d6e912062020f);\n",
              "        \n",
              "    \n",
              "            var marker_b8ff6235dbce9bb2e1932c2388d61ced = L.marker(\n",
              "                [20.62638252600345, -103.43335530002135],\n",
              "                {&quot;radius&quot;: 20}\n",
              "            ).addTo(map_0499eb446fbab29c928d6e912062020f);\n",
              "        \n",
              "    \n",
              "        var popup_64e0ed309126749406174a62b48db26d = L.popup({&quot;maxWidth&quot;: &quot;100%&quot;});\n",
              "\n",
              "        \n",
              "            var html_6f898fa520d03605f412bb5f6ffc3dd4 = $(`&lt;div id=&quot;html_6f898fa520d03605f412bb5f6ffc3dd4&quot; style=&quot;width: 100.0%; height: 100.0%;&quot;&gt;Estación: Pir_sol &lt;br&gt; Latitud: 20.62638252600345 &lt;br&gt; Longitud -103.43335530002135&lt;/div&gt;`)[0];\n",
              "            popup_64e0ed309126749406174a62b48db26d.setContent(html_6f898fa520d03605f412bb5f6ffc3dd4);\n",
              "        \n",
              "\n",
              "        marker_b8ff6235dbce9bb2e1932c2388d61ced.bindPopup(popup_64e0ed309126749406174a62b48db26d)\n",
              "        ;\n",
              "\n",
              "        \n",
              "    \n",
              "    \n",
              "            var marker_dd6c5f0e01c8522f0107d97fdcccafc6 = L.marker(\n",
              "                [20.674609, -103.384118],\n",
              "                {&quot;radius&quot;: 20}\n",
              "            ).addTo(map_0499eb446fbab29c928d6e912062020f);\n",
              "        \n",
              "    \n",
              "        var popup_da3c40131ddb8afe70bc5d255a751f4b = L.popup({&quot;maxWidth&quot;: &quot;100%&quot;});\n",
              "\n",
              "        \n",
              "            var html_eac762b7d2710a3ba5801a67814095dc = $(`&lt;div id=&quot;html_eac762b7d2710a3ba5801a67814095dc&quot; style=&quot;width: 100.0%; height: 100.0%;&quot;&gt;Estación: IAM &lt;br&gt; Latitud: 20.674609 &lt;br&gt; Longitud -103.384118&lt;/div&gt;`)[0];\n",
              "            popup_da3c40131ddb8afe70bc5d255a751f4b.setContent(html_eac762b7d2710a3ba5801a67814095dc);\n",
              "        \n",
              "\n",
              "        marker_dd6c5f0e01c8522f0107d97fdcccafc6.bindPopup(popup_da3c40131ddb8afe70bc5d255a751f4b)\n",
              "        ;\n",
              "\n",
              "        \n",
              "    \n",
              "    \n",
              "            var marker_8059d3854d0950335814952e73261018 = L.marker(\n",
              "                [20.66682, -103.39182],\n",
              "                {&quot;radius&quot;: 20}\n",
              "            ).addTo(map_0499eb446fbab29c928d6e912062020f);\n",
              "        \n",
              "    \n",
              "        var popup_097a37aec8d47773b0b1e880f568c2f2 = L.popup({&quot;maxWidth&quot;: &quot;100%&quot;});\n",
              "\n",
              "        \n",
              "            var html_2369875a33b2c526b7647c5caa397948 = $(`&lt;div id=&quot;html_2369875a33b2c526b7647c5caa397948&quot; style=&quot;width: 100.0%; height: 100.0%;&quot;&gt;Estación: Guadalajara &lt;br&gt; Latitud: 20.66682 &lt;br&gt; Longitud -103.39182&lt;/div&gt;`)[0];\n",
              "            popup_097a37aec8d47773b0b1e880f568c2f2.setContent(html_2369875a33b2c526b7647c5caa397948);\n",
              "        \n",
              "\n",
              "        marker_8059d3854d0950335814952e73261018.bindPopup(popup_097a37aec8d47773b0b1e880f568c2f2)\n",
              "        ;\n",
              "\n",
              "        \n",
              "    \n",
              "    \n",
              "            var marker_40749938f0a263838e8237171b856ea1 = L.marker(\n",
              "                [20.63019, -103.46544],\n",
              "                {&quot;radius&quot;: 20}\n",
              "            ).addTo(map_0499eb446fbab29c928d6e912062020f);\n",
              "        \n",
              "    \n",
              "        var popup_36de392609a8c3e4005f3babe36c98ba = L.popup({&quot;maxWidth&quot;: &quot;100%&quot;});\n",
              "\n",
              "        \n",
              "            var html_7fe26d74f038aa8c060e5ac57012370d = $(`&lt;div id=&quot;html_7fe26d74f038aa8c060e5ac57012370d&quot; style=&quot;width: 100.0%; height: 100.0%;&quot;&gt;Estación: Prepa 20 &lt;br&gt; Latitud: 20.63019 &lt;br&gt; Longitud -103.46544&lt;/div&gt;`)[0];\n",
              "            popup_36de392609a8c3e4005f3babe36c98ba.setContent(html_7fe26d74f038aa8c060e5ac57012370d);\n",
              "        \n",
              "\n",
              "        marker_40749938f0a263838e8237171b856ea1.bindPopup(popup_36de392609a8c3e4005f3babe36c98ba)\n",
              "        ;\n",
              "\n",
              "        \n",
              "    \n",
              "    \n",
              "            var marker_ccc6b45daf995754bb764f1ee20a0546 = L.marker(\n",
              "                [20.68703, -103.39194],\n",
              "                {&quot;radius&quot;: 20}\n",
              "            ).addTo(map_0499eb446fbab29c928d6e912062020f);\n",
              "        \n",
              "    \n",
              "        var popup_ac5275973fc88787a19eed6f3ca33c43 = L.popup({&quot;maxWidth&quot;: &quot;100%&quot;});\n",
              "\n",
              "        \n",
              "            var html_95c6004510a778a0fe95c54bc23d0c48 = $(`&lt;div id=&quot;html_95c6004510a778a0fe95c54bc23d0c48&quot; style=&quot;width: 100.0%; height: 100.0%;&quot;&gt;Estación: UAG &lt;br&gt; Latitud: 20.68703 &lt;br&gt; Longitud -103.39194&lt;/div&gt;`)[0];\n",
              "            popup_ac5275973fc88787a19eed6f3ca33c43.setContent(html_95c6004510a778a0fe95c54bc23d0c48);\n",
              "        \n",
              "\n",
              "        marker_ccc6b45daf995754bb764f1ee20a0546.bindPopup(popup_ac5275973fc88787a19eed6f3ca33c43)\n",
              "        ;\n",
              "\n",
              "        \n",
              "    \n",
              "    \n",
              "            var marker_dcf689e6ce6a53477d2afd1a1a24520e = L.marker(\n",
              "                [20.662216168559688, -103.27287521774362],\n",
              "                {&quot;radius&quot;: 20}\n",
              "            ).addTo(map_0499eb446fbab29c928d6e912062020f);\n",
              "        \n",
              "    \n",
              "        var popup_f402dd679f8e007706a1ad6e068b671d = L.popup({&quot;maxWidth&quot;: &quot;100%&quot;});\n",
              "\n",
              "        \n",
              "            var html_513945b0e1071204a721ca9703c824fb = $(`&lt;div id=&quot;html_513945b0e1071204a721ca9703c824fb&quot; style=&quot;width: 100.0%; height: 100.0%;&quot;&gt;Estación: Tetlan &lt;br&gt; Latitud: 20.662216168559688 &lt;br&gt; Longitud -103.27287521774362&lt;/div&gt;`)[0];\n",
              "            popup_f402dd679f8e007706a1ad6e068b671d.setContent(html_513945b0e1071204a721ca9703c824fb);\n",
              "        \n",
              "\n",
              "        marker_dcf689e6ce6a53477d2afd1a1a24520e.bindPopup(popup_f402dd679f8e007706a1ad6e068b671d)\n",
              "        ;\n",
              "\n",
              "        \n",
              "    \n",
              "    \n",
              "            var marker_7029af9dce5107a40a9e0a5326344c9a = L.marker(\n",
              "                [20.64091, -103.29327],\n",
              "                {&quot;radius&quot;: 20}\n",
              "            ).addTo(map_0499eb446fbab29c928d6e912062020f);\n",
              "        \n",
              "    \n",
              "        var popup_6e4d39ba45a699ac1207883923c1af43 = L.popup({&quot;maxWidth&quot;: &quot;100%&quot;});\n",
              "\n",
              "        \n",
              "            var html_60f3d31539af3cdb0967ab97785721b7 = $(`&lt;div id=&quot;html_60f3d31539af3cdb0967ab97785721b7&quot; style=&quot;width: 100.0%; height: 100.0%;&quot;&gt;Estación: Tlaquepaque &lt;br&gt; Latitud: 20.64091 &lt;br&gt; Longitud -103.29327&lt;/div&gt;`)[0];\n",
              "            popup_6e4d39ba45a699ac1207883923c1af43.setContent(html_60f3d31539af3cdb0967ab97785721b7);\n",
              "        \n",
              "\n",
              "        marker_7029af9dce5107a40a9e0a5326344c9a.bindPopup(popup_6e4d39ba45a699ac1207883923c1af43)\n",
              "        ;\n",
              "\n",
              "        \n",
              "    \n",
              "    \n",
              "            var marker_e2575e088bb7fc061f424bc6839ca842 = L.marker(\n",
              "                [20.7252, -103.38905],\n",
              "                {&quot;radius&quot;: 20}\n",
              "            ).addTo(map_0499eb446fbab29c928d6e912062020f);\n",
              "        \n",
              "    \n",
              "        var popup_a7bd22278935b32f7f10198f4d7907d9 = L.popup({&quot;maxWidth&quot;: &quot;100%&quot;});\n",
              "\n",
              "        \n",
              "            var html_11dc4f6bd31627a89e225493dfa607b7 = $(`&lt;div id=&quot;html_11dc4f6bd31627a89e225493dfa607b7&quot; style=&quot;width: 100.0%; height: 100.0%;&quot;&gt;Estación: Zapopan &lt;br&gt; Latitud: 20.7252 &lt;br&gt; Longitud -103.38905&lt;/div&gt;`)[0];\n",
              "            popup_a7bd22278935b32f7f10198f4d7907d9.setContent(html_11dc4f6bd31627a89e225493dfa607b7);\n",
              "        \n",
              "\n",
              "        marker_e2575e088bb7fc061f424bc6839ca842.bindPopup(popup_a7bd22278935b32f7f10198f4d7907d9)\n",
              "        ;\n",
              "\n",
              "        \n",
              "    \n",
              "    \n",
              "            var marker_ace23a05110c651acfb1ea6f936485bb = L.marker(\n",
              "                [20.61913, -103.06633],\n",
              "                {&quot;radius&quot;: 20}\n",
              "            ).addTo(map_0499eb446fbab29c928d6e912062020f);\n",
              "        \n",
              "    \n",
              "        var popup_f86299e94f082299ce2801e3e9d0e138 = L.popup({&quot;maxWidth&quot;: &quot;100%&quot;});\n",
              "\n",
              "        \n",
              "            var html_41ee6b5e7c252571c8ca37995af08318 = $(`&lt;div id=&quot;html_41ee6b5e7c252571c8ca37995af08318&quot; style=&quot;width: 100.0%; height: 100.0%;&quot;&gt;Estación: Zapotlanejo &lt;br&gt; Latitud: 20.61913 &lt;br&gt; Longitud -103.06633&lt;/div&gt;`)[0];\n",
              "            popup_f86299e94f082299ce2801e3e9d0e138.setContent(html_41ee6b5e7c252571c8ca37995af08318);\n",
              "        \n",
              "\n",
              "        marker_ace23a05110c651acfb1ea6f936485bb.bindPopup(popup_f86299e94f082299ce2801e3e9d0e138)\n",
              "        ;\n",
              "\n",
              "        \n",
              "    \n",
              "    \n",
              "            var marker_3f809dbd9e769d5e7f5c58e0dfdbc59a = L.marker(\n",
              "                [20.62449, -103.24089],\n",
              "                {&quot;radius&quot;: 20}\n",
              "            ).addTo(map_0499eb446fbab29c928d6e912062020f);\n",
              "        \n",
              "    \n",
              "        var popup_b396a84cdf800ef7eb92134298b57041 = L.popup({&quot;maxWidth&quot;: &quot;100%&quot;});\n",
              "\n",
              "        \n",
              "            var html_a214258072ffa97e2f49d71dcdd9eb69 = $(`&lt;div id=&quot;html_a214258072ffa97e2f49d71dcdd9eb69&quot; style=&quot;width: 100.0%; height: 100.0%;&quot;&gt;Estación: Tonala &lt;br&gt; Latitud: 20.62449 &lt;br&gt; Longitud -103.24089&lt;/div&gt;`)[0];\n",
              "            popup_b396a84cdf800ef7eb92134298b57041.setContent(html_a214258072ffa97e2f49d71dcdd9eb69);\n",
              "        \n",
              "\n",
              "        marker_3f809dbd9e769d5e7f5c58e0dfdbc59a.bindPopup(popup_b396a84cdf800ef7eb92134298b57041)\n",
              "        ;\n",
              "\n",
              "        \n",
              "    \n",
              "    \n",
              "            var marker_19cbb46b1fe6db83633ebbd1e967ed8d = L.marker(\n",
              "                [20.80566, -103.45767],\n",
              "                {&quot;radius&quot;: 20}\n",
              "            ).addTo(map_0499eb446fbab29c928d6e912062020f);\n",
              "        \n",
              "    \n",
              "        var popup_f2b8b87ed9b19610c5ec5e3a79efbde8 = L.popup({&quot;maxWidth&quot;: &quot;100%&quot;});\n",
              "\n",
              "        \n",
              "            var html_8ca2a302a041ba4f26200396545b21d2 = $(`&lt;div id=&quot;html_8ca2a302a041ba4f26200396545b21d2&quot; style=&quot;width: 100.0%; height: 100.0%;&quot;&gt;Estación: Molinos &lt;br&gt; Latitud: 20.80566 &lt;br&gt; Longitud -103.45767&lt;/div&gt;`)[0];\n",
              "            popup_f2b8b87ed9b19610c5ec5e3a79efbde8.setContent(html_8ca2a302a041ba4f26200396545b21d2);\n",
              "        \n",
              "\n",
              "        marker_19cbb46b1fe6db83633ebbd1e967ed8d.bindPopup(popup_f2b8b87ed9b19610c5ec5e3a79efbde8)\n",
              "        ;\n",
              "\n",
              "        \n",
              "    \n",
              "    \n",
              "            var marker_285ff339ebe3b921b00c82a8b0ab3264 = L.marker(\n",
              "                [20.4231, -103.5892],\n",
              "                {&quot;radius&quot;: 20}\n",
              "            ).addTo(map_0499eb446fbab29c928d6e912062020f);\n",
              "        \n",
              "    \n",
              "        var popup_feceadbad389d3d887ee78f3f8141306 = L.popup({&quot;maxWidth&quot;: &quot;100%&quot;});\n",
              "\n",
              "        \n",
              "            var html_91540972dd9c8c08f67d6d2d298042c9 = $(`&lt;div id=&quot;html_91540972dd9c8c08f67d6d2d298042c9&quot; style=&quot;width: 100.0%; height: 100.0%;&quot;&gt;Estación: Acatlán de Juárez &lt;br&gt; Latitud: 20.4231 &lt;br&gt; Longitud -103.5892&lt;/div&gt;`)[0];\n",
              "            popup_feceadbad389d3d887ee78f3f8141306.setContent(html_91540972dd9c8c08f67d6d2d298042c9);\n",
              "        \n",
              "\n",
              "        marker_285ff339ebe3b921b00c82a8b0ab3264.bindPopup(popup_feceadbad389d3d887ee78f3f8141306)\n",
              "        ;\n",
              "\n",
              "        \n",
              "    \n",
              "    \n",
              "\n",
              "        function geo_json_83830c293c32bf3aca40980484d2e32f_onEachFeature(feature, layer) {\n",
              "            layer.on({\n",
              "            });\n",
              "        };\n",
              "        var geo_json_83830c293c32bf3aca40980484d2e32f = L.geoJson(null, {\n",
              "                onEachFeature: geo_json_83830c293c32bf3aca40980484d2e32f_onEachFeature,\n",
              "            \n",
              "        });\n",
              "\n",
              "        function geo_json_83830c293c32bf3aca40980484d2e32f_add (data) {\n",
              "            geo_json_83830c293c32bf3aca40980484d2e32f\n",
              "                .addData(data)\n",
              "                .addTo(map_0499eb446fbab29c928d6e912062020f);\n",
              "        }\n",
              "            geo_json_83830c293c32bf3aca40980484d2e32f_add({&quot;bbox&quot;: [-103.47762113463523, 20.614923971458847, -103.260731155767, 20.698488595538585], &quot;features&quot;: [{&quot;bbox&quot;: [-103.44552883499861, 20.614923971458847, -103.42118432589463, 20.637842432069302], &quot;geometry&quot;: {&quot;coordinates&quot;: [[[-103.44416453163797, 20.631656849930984], [-103.44356326691982, 20.63262899156934], [-103.44286364834383, 20.633540951860613], [-103.4420724186003, 20.63438394131212], [-103.44119720420522, 20.635149835779693], [-103.44024644180116, 20.63583125492658], [-103.4392292966061, 20.636421633467624], [-103.43815557380688, 20.63691528450591], [-103.4370356237639, 20.637307454347944], [-103.43588024195351, 20.637594368267564], [-103.43470056462739, 20.637773266778506], [-103.4335079612067, 20.637842432069302], [-103.43231392446235, 20.637801204351533], [-103.43112995955087, 20.637649987971248], [-103.42996747298535, 20.637390247234258], [-103.42883766262008, 20.637024491996172], [-103.42775140971398, 20.63655625316776], [-103.4267191741164, 20.635990048384254], [-103.42575089358553, 20.63533133818112], [-103.42485588820688, 20.63458647311146], [-103.42404277082738, 20.633762632324743], [-103.42331936436078, 20.63286775420905], [-103.4226926267505, 20.631910459772993], [-103.4221685843014, 20.63089996951136], [-103.42175227400905, 20.629846014559877], [-103.42144769542813, 20.628758742995974], [-103.4212577725289, 20.62764862218731], [-103.42118432589463, 20.626526338125952], [-103.42122805551391, 20.625402692711507], [-103.42138853432171, 20.624288499965388], [-103.42166421253944, 20.623194482166483], [-103.42205243276464, 20.622131166897262], [-103.42254945565794, 20.621108785980404], [-103.42315049597656, 20.620137177266802], [-103.42384976860632, 20.6192256902081], [-103.42464054415136, 20.618383096110925], [-103.42551521355041, 20.617617503926223], [-103.4264653611047, 20.616936282374123], [-103.42748184522459, 20.61634598914637], [-103.42855488612801, 20.61585230786134], [-103.42967415965948, 20.61545999337485], [-103.4308288963405, 20.615172825971683], [-103.43200798471146, 20.61499357487936], [-103.43320007798434, 20.614923971458847], [-103.43439370299296, 20.614964692335615], [-103.4355773704036, 20.615115352641286], [-103.43673968513589, 20.615374509439626], [-103.43786945593902, 20.615739675315478], [-103.43895580307445, 20.61620734200693], [-103.43998826307163, 20.6167730138657], [-103.44095688954874, 20.617431250836297], [-103.4418523491259, 20.61817572055162], [-103.44266601150149, 20.618999259055517], [-103.44339003281785, 20.61989393957641], [-103.44401743150324, 20.620851148699195], [-103.4445421558481, 20.62186166920761], [-103.44495914265197, 20.62291576880354], [-103.44526436636217, 20.624003293850986], [-103.44545487821654, 20.625113767241007], [-103.44552883499861, 20.62623648943207], [-103.445485517115, 20.627360641687503], [-103.44532533580809, 20.628475390508218], [-103.4450498294236, 20.62956999224575], [-103.44466164876054, 20.630633896877175], [-103.44416453163797, 20.631656849930984]]], &quot;type&quot;: &quot;Polygon&quot;}, &quot;id&quot;: &quot;0&quot;, &quot;properties&quot;: {}, &quot;type&quot;: &quot;Feature&quot;}, {&quot;bbox&quot;: [-103.3962908679294, 20.66315475108039, -103.3719476987444, 20.686064596227364], &quot;geometry&quot;: {&quot;coordinates&quot;: [[[-103.39491705466476, 20.6798982159286], [-103.39431411130015, 20.680869026847535], [-103.39361292824874, 20.681779525750713], [-103.3928202632851, 20.682620937225963], [-103.3919437567641, 20.68338515233471], [-103.390991857788, 20.684064806923974], [-103.38997374253461, 20.684653352714204], [-103.38889922554482, 20.685145120471823], [-103.38777866483643, 20.685535374653746], [-103.38662286177292, 20.685820358995954], [-103.38544295666543, 20.68599733260783], [-103.38425032112804, 20.686064596227364], [-103.38305644823674, 20.686021508390407], [-103.38187284156268, 20.685868491365213], [-103.38071090415866, 20.685607026804803], [-103.3795818285773, 20.68523964116966], [-103.3784964889862, 20.68476988107316], [-103.37746533642265, 20.684202278799443], [-103.37649829819733, 20.683542308338378], [-103.37560468241422, 20.68279633237337], [-103.37479308852079, 20.68197154074362], [-103.374071324743, 20.68107588098383], [-103.37344633319024, 20.680117981618125], [-103.37292412334004, 20.679107068954263], [-103.37250971453011, 20.678052878182584], [-103.37220708799687, 20.676965559638166], [-103.37201914890869, 20.67585558112852], [-103.3719476987444, 20.67473362726358], [-103.37199341826975, 20.673610496752854], [-103.37215586126317, 20.672496998650786], [-103.37243345904025, 20.67140384854044], [-103.37282353572502, 20.670341565644392], [-103.37332233411425, 20.669320371842137], [-103.37392505188257, 20.66835009355366], [-103.37462588777831, 20.667440067422078], [-103.37541809736788, 20.666599050691204], [-103.37629405779626, 20.665835137129836], [-103.37724534094717, 20.665155679302647], [-103.3782627943086, 20.664567217927715], [-103.37933662877585, 20.664075418994614], [-103.38045651256003, 20.66368501924444], [-103.38161167031149, 20.663399780535325], [-103.38279098651809, 20.66322245353315], [-103.38398311219692, 20.66315475108039], [-103.3851765738655, 20.66319733150538], [-103.3863598837557, 20.66334979203945], [-103.38752165022011, 20.663610672415142], [-103.3886506872751, 20.663977468621923], [-103.38973612223366, 20.664446656697788], [-103.39076750039358, 20.665013726341048], [-103.3917348857746, 20.66567322403055], [-103.39262895693174, 20.66641880525119], [-103.39344109691781, 20.667243295333545], [-103.3941634765208, 20.668138758331306], [-103.39478912996552, 20.669096573281728], [-103.3953120223382, 20.670107517121068], [-103.39572710807228, 20.671161853461022], [-103.39603037991749, 20.67224942637232], [-103.39621890790652, 20.673359758272284], [-103.3962908679294, 20.67448215097042], [-103.39624555962676, 20.675605788893087], [-103.39608341341716, 20.67671984348629], [-103.39580598657975, 20.67781357778133], [-103.3954159484214, 20.678876450105736], [-103.39491705466476, 20.6798982159286]]], &quot;type&quot;: &quot;Polygon&quot;}, &quot;id&quot;: &quot;1&quot;, &quot;properties&quot;: {}, &quot;type&quot;: &quot;Feature&quot;}, {&quot;bbox&quot;: [-103.40399292205943, 20.65536510560728, -103.37964964368174, 20.678276242370814], &quot;geometry&quot;: {&quot;coordinates&quot;: [[[-103.4026206291485, 20.67210682650083], [-103.40201795569268, 20.67307784589137], [-103.40131702478853, 20.67398857428052], [-103.40052459177952, 20.674830234045036], [-103.39964829478394, 20.67559471385375], [-103.3986965808837, 20.676274647002792], [-103.397678624472, 20.676863482528077], [-103.39660423855803, 20.677355548403636], [-103.39548377989581, 20.67774610621326], [-103.39432804886505, 20.678031396766716], [-103.39314818508275, 20.67820867622231], [-103.39195555976504, 20.678276242370814], [-103.39076166589015, 20.67823345083291], [-103.38957800723247, 20.678080721021992], [-103.38841598734695, 20.67781953182411], [-103.38728679958268, 20.67745240704726], [-103.38620131918995, 20.676982890792466], [-103.38516999856465, 20.676415512995746], [-103.38420276663872, 20.675755745485823], [-103.38330893338438, 20.675009948992603], [-103.3824971003462, 20.67418531162827], [-103.38177507805567, 20.67328977944348], [-103.38114981111416, 20.672331979735695], [-103.38062731165323, 20.671321137854967], [-103.38021260180115, 20.670266988311994], [-103.3799096656945, 20.669179681047016], [-103.37972141148352, 20.668069683760883], [-103.37964964368174, 20.666947681246217], [-103.37969504611333, 20.665824472682687], [-103.37985717560932, 20.664710867877737], [-103.38013446650287, 20.66361758344298], [-103.38052424587143, 20.66255513989524], [-103.38102275937277, 20.661533760661303], [-103.38162520742249, 20.660563273946703], [-103.38232579136377, 20.659653018401208], [-103.38311776918671, 20.658811753476932], [-103.38399352026556, 20.658047575331537], [-103.38494461849776, 20.657367839076116], [-103.38596191314981, 20.656779088108305], [-103.38703561664362, 20.656286991204485], [-103.38815539845015, 20.65589628797335], [-103.38931048420088, 20.655610743193566], [-103.39048975907663, 20.655433110476576], [-103.39168187449258, 20.65536510560728], [-103.39287535706569, 20.655407389824806], [-103.39405871882775, 20.65555956321175], [-103.39522056763327, 20.655820168265144], [-103.39634971670775, 20.65618670362536], [-103.39743529228762, 20.656655647842285], [-103.39846683831912, 20.657222492963044], [-103.39943441720797, 20.657881787629304], [-103.40032870564838, 20.658627189282317], [-103.4011410846033, 20.65945152498335], [-103.40186372256187, 20.660346860274537], [-103.40248965126302, 20.661304575424875], [-103.40301283314406, 20.66231544833387], [-103.40342821985179, 20.663369743298347], [-103.4037318012384, 20.66445730478967], [-103.40392064435588, 20.665567655337192], [-103.40399292205943, 20.666690096572598], [-103.40394793092959, 20.66781381245653], [-103.40378609832923, 20.668927973685413], [-103.40350897851567, 20.67002184226463], [-103.40311923783699, 20.671084875229006], [-103.4026206291485, 20.67210682650083]]], &quot;type&quot;: &quot;Polygon&quot;}, &quot;id&quot;: &quot;2&quot;, &quot;properties&quot;: {}, &quot;type&quot;: &quot;Feature&quot;}, {&quot;bbox&quot;: [-103.47762113463523, 20.61872458139709, -103.45326142538005, 20.64165677136779], &quot;geometry&quot;: {&quot;coordinates&quot;: [[[-103.47625842470971, 20.635463177470307], [-103.4756572212888, 20.63643614771856], [-103.47495757485413, 20.637348939694245], [-103.47416622835992, 20.63819275589038], [-103.47329080944338, 20.63895946419567], [-103.47233975671519, 20.63964167643039], [-103.47132223818919, 20.640232819666082], [-103.4702480626491, 20.640727199636128], [-103.46912758481842, 20.64112005562217], [-103.46797160526077, 20.64140760628579], [-103.46679126598998, 20.641587086004836], [-103.46559794280867, 20.64165677136779], [-103.46440313542678, 20.641615997575794], [-103.46321835643022, 20.64146516460256], [-103.4620550201801, 20.64120573306185], [-103.46092433272143, 20.640840209832763], [-103.45983718376733, 20.640372123594144], [-103.45880404180328, 20.63980599051481], [-103.45783485332187, 20.63914727044377], [-103.4569389471571, 20.638402314033815], [-103.45612494483404, 20.637578301319166], [-103.45540067779064, 20.63668317234901], [-103.45477311225811, 20.63572555055318], [-103.45424828251313, 20.63471465958444], [-103.45383123313044, 20.633660234442388], [-103.45352597077822, 20.632572427736942], [-103.4533354260062, 20.631461711993172], [-103.45326142538005, 20.630338778935396], [-103.45330467421644, 20.629214436715195], [-103.45346475007267, 20.628099506065443], [-103.4537401070429, 20.627004716371093], [-103.45412809081073, 20.625940602647052], [-103.45462496430659, 20.624917404403302], [-103.45522594371987, 20.623944967358746], [-103.45592524451737, 20.623032648938274], [-103.45671613702753, 20.622189228450406], [-103.45759101105946, 20.621422822799477], [-103.45854144894217, 20.620740808534517], [-103.45955830628989, 20.620149750976072], [-103.46063179972761, 20.619655341098177], [-103.46175160074475, 20.61926234076856], [-103.46290693478714, 20.61897453687274], [-103.46408668464782, 20.61879470476435], [-103.46527949717483, 20.61872458139709], [-103.46647389228241, 20.618764848402073], [-103.46765837322815, 20.618915125281074], [-103.46882153710477, 20.619173972790804], [-103.46995218449158, 20.6195389064961], [-103.47103942721533, 20.62000642037321], [-103.47207279318705, 20.620572020248822], [-103.47304232730566, 20.621230266764666], [-103.4739386874545, 20.62197482746641], [-103.47475323466213, 20.622798537526695], [-103.47547811655107, 20.62369346852711], [-103.47610634326185, 20.62465100464575], [-103.4766318551091, 20.62566192552235], [-103.47704958130531, 20.626716495007944], [-103.47735548917275, 20.627804554945605], [-103.47754662335484, 20.62891562307872], [-103.47762113463523, 20.630038994140772], [-103.47757829807315, 20.631163843147966], [-103.4774185202678, 20.632279329891922], [-103.47714333567106, 20.63337470361722], [-103.47675539197516, 20.63443940686502], [-103.47625842470971, 20.635463177470307]]], &quot;type&quot;: &quot;Polygon&quot;}, &quot;id&quot;: &quot;3&quot;, &quot;properties&quot;: {}, &quot;type&quot;: &quot;Feature&quot;}, {&quot;bbox&quot;: [-103.40411706340866, 20.675572751585044, -103.37976550403053, 20.698488595538585], &quot;geometry&quot;: {&quot;coordinates&quot;: [[[-103.4027421366733, 20.692321727591263], [-103.40213887122017, 20.69329272822073], [-103.40143733948189, 20.6942033908123], [-103.40064430259231, 20.695044938376167], [-103.39976740448986, 20.695809260662113], [-103.39881509805052, 20.696488992484124], [-103.39779656337917, 20.697077584818352], [-103.3967216190592, 20.69756936798273], [-103.39560062722754, 20.697959606285853], [-103.39444439340333, 20.698244543616962], [-103.39326406204997, 20.698421439538834], [-103.39207100889001, 20.698488595538585], [-103.39087673102486, 20.698445371189575], [-103.38969273592846, 20.698292190076096], [-103.38853043039673, 20.698030535432864], [-103.3874010105293, 20.69766293555246], [-103.38631535381045, 20.697192939113144], [-103.38528391433177, 20.69662508067664], [-103.38431662216678, 20.695964836701194], [-103.38342278786378, 20.695218572505578], [-103.3826110129729, 20.69439348070585], [-103.38188910746068, 20.693497511728296], [-103.38126401479857, 20.69253929707556], [-103.38074174543452, 20.691528066092], [-103.38032731927568, 20.69047355703346], [-103.38002471772181, 20.68938592330001], [-103.37983684569697, 20.688275635733902], [-103.37976550403053, 20.687153381920588], [-103.37981137244013, 20.68602996345709], [-103.37997400326744, 20.6849161921697], [-103.38025182601677, 20.683822786270923], [-103.38064216264387, 20.68276026744526], [-103.38114125344117, 20.68173885984273], [-103.38174429326685, 20.680768391940894], [-103.38244547776817, 20.679858202207537], [-103.38323805915546, 20.679017049460764], [-103.38411441099488, 20.67825302877827], [-103.38506610140314, 20.677573493755546], [-103.38608397394906, 20.676984985853576], [-103.38715823549434, 20.676493171509758], [-103.38827855014071, 20.676102787613683], [-103.38943413839286, 20.675817595871138], [-103.39061388059642, 20.67564034649631], [-103.39180642366948, 20.675572751585044], [-103.39300029011304, 20.675615468431065], [-103.39418398826379, 20.67576809295322], [-103.39534612273735, 20.67602916330622], [-103.39647550400773, 20.676396173651426], [-103.3975612560739, 20.676865597966124], [-103.39859292118004, 20.677432923675028], [-103.39956056058205, 20.678092694792273], [-103.40045485038739, 20.678838564170803], [-103.40126717154129, 20.679663354367097], [-103.40198969308454, 20.68055912654539], [-103.4026154478721, 20.681517256765904], [-103.4031384000108, 20.682528518928915], [-103.4035535033549, 20.683583173580406], [-103.40385675048074, 20.68467106172527], [-103.40404521165537, 20.68578170274434], [-103.40411706340866, 20.686904395469153], [-103.40407160642063, 20.688028321435613], [-103.40390927253897, 20.689142649314334], [-103.40363162084782, 20.690236639503315], [-103.40324132281782, 20.691299747864136], [-103.4027421366733, 20.692321727591263]]], &quot;type&quot;: &quot;Polygon&quot;}, &quot;id&quot;: &quot;4&quot;, &quot;properties&quot;: {}, &quot;type&quot;: &quot;Feature&quot;}, {&quot;bbox&quot;: [-103.28502184932245, 20.650785666752732, -103.260731155767, 20.67364801328916], &quot;geometry&quot;: {&quot;coordinates&quot;: [[[-103.28364240581683, 20.66750954496651], [-103.28303922776293, 20.6684774780847], [-103.2823381192827, 20.669385086787216], [-103.28154583744828, 20.670223623512342], [-103.28067001893547, 20.670985007024704], [-103.27971910622632, 20.671661900459835], [-103.27870226600075, 20.6722477821485], [-103.2776293005153, 20.67273700853214], [-103.27651055283565, 20.67312486855962], [-103.27535680684977, 20.673407629039048], [-103.27417918303871, 20.673582570509453], [-103.27298903102364, 20.67364801328916], [-103.2717978199376, 20.673603333455976], [-103.27061702769005, 20.673448968612693], [-103.26945803020176, 20.673186413391573], [-103.2683319916853, 20.67281820475208], [-103.2672497570341, 20.67234789722545], [-103.26622174736008, 20.671780028356576], [-103.26525785968651, 20.671120074688705], [-103.26436737176033, 20.67037439872729], [-103.26355885289522, 20.669550187404553], [-103.26284008169728, 20.668655382647724], [-103.26221797145547, 20.66769860472802], [-103.26169850390392, 20.666689069134716], [-103.26128667198068, 20.665636497779126], [-103.2609864321205, 20.6645510253854], [-103.26080066652607, 20.66344310196897], [-103.260731155767, 20.66232339233841], [-103.26077856195695, 20.66120267358377], [-103.26094242265772, 20.66009173153027], [-103.26122115555916, 20.659001257145814], [-103.2616120738805, 20.657941743888944], [-103.2621114123386, 20.656923386974146], [-103.26271436342995, 20.655955985511973], [-103.26341512367551, 20.655048848454143], [-103.26420694938584, 20.65421070523731], [-103.26508222141351, 20.653449621974612], [-103.26603251827761, 20.65277292399204], [-103.26704869696492, 20.65218712544769], [-103.26812098064137, 20.651697866704964], [-103.26923905244283, 20.6513098600585], [-103.27039215445497, 20.651026844334673], [-103.27156919094428, 20.650851548803434], [-103.27275883485999, 20.650785666752732], [-103.27394963659509, 20.650829838985693], [-103.27513013397125, 20.650983647406395], [-103.2762889623994, 20.65124561876554], [-103.27741496416392, 20.651613238541138], [-103.2784972957837, 20.65208297483166], [-103.27952553242034, 20.652650312044557], [-103.28048976832854, 20.653309794067756], [-103.2813807123789, 20.654055076520862], [-103.28218977772917, 20.654878987593975], [-103.28290916477208, 20.655773596898293], [-103.28353193655214, 20.656730291673696], [-103.28405208591266, 20.657739859626076], [-103.28446459371402, 20.65879257760067], [-103.2847654775479, 20.659878305238767], [-103.2849518304641, 20.660986582716045], [-103.28502184932245, 20.662106731617587], [-103.28497485248342, 20.663227957972392], [-103.28481128665406, 20.664339456448456], [-103.28453272281276, 20.6654305146949], [-103.28414184124345, 20.66649061681566], [-103.28364240581683, 20.66750954496651]]], &quot;type&quot;: &quot;Polygon&quot;}, &quot;id&quot;: &quot;5&quot;, &quot;properties&quot;: {}, &quot;type&quot;: &quot;Feature&quot;}, {&quot;bbox&quot;: [-103.30541664602192, 20.629477863252806, -103.2811259210561, 20.652343481481033], &quot;geometry&quot;: {&quot;coordinates&quot;: [[[-103.30404131952938, 20.64619688099775], [-103.3034388762511, 20.647165367518095], [-103.30273845568517, 20.648073586876126], [-103.30194680827107, 20.648912785626383], [-103.3010715645676, 20.649674876154165], [-103.30012116151417, 20.650352514781545], [-103.29910476087625, 20.650939172657633], [-103.2980321606717, 20.651429198743248], [-103.29691370044434, 20.651817874279963], [-103.29576016131101, 20.652101458216436], [-103.29458266175942, 20.652277223155803], [-103.29339255021415, 20.652343481481033], [-103.29220129542009, 20.652299601411325], [-103.2910203757106, 20.652146012843783], [-103.28986116823829, 20.651884202932035], [-103.28873483924339, 20.65151670145624], [-103.28765223642309, 20.651047056136804], [-103.286623784442, 20.65047979814178], [-103.28565938459037, 20.64982039813317], [-103.28476831955525, 20.649075213287105], [-103.28395916421545, 20.64825142580981], [-103.28323970331358, 20.64735697355115], [-103.28261685678699, 20.64640047339264], [-103.28209661346573, 20.645391138154118], [-103.28168397376312, 20.64433868782299], [-103.28138290189592, 20.643253255963657], [-103.28119628808078, 20.642145292206592], [-103.2811259210561, 20.641025461753905], [-103.28117247118016, 20.6399045428636], [-103.28133548425616, 20.638793323291836], [-103.2816133861328, 20.637702496681868], [-103.28200349802702, 20.636642559885928], [-103.28250206241587, 20.635623712197884], [-103.28310427924349, 20.634655757454045], [-103.28380435209485, 20.633748009932813], [-103.28459554389293, 20.632909204947204], [-103.28547024158806, 20.632147414979777], [-103.2864200292235, 20.63146997215807], [-103.28743576868409, 20.630883397808287], [-103.28850768736052, 20.63039333975976], [-103.2896254718998, 20.63000451799918], [-103.29077836715133, 20.62972067919725], [-103.29195527937154, 20.629544560545078], [-103.29314488270657, 20.629477863252806], [-103.2943357279418, 20.629521235970376], [-103.29551635248295, 20.629674268298036], [-103.2966753905206, 20.629935494458085], [-103.29780168232581, 20.630302407103635], [-103.29888438163051, 20.63077148114271], [-103.29991306006234, 20.631338207361207], [-103.30087780762855, 20.631997135533044], [-103.30176932827973, 20.63274192661448], [-103.30257902962794, 20.63356541353144], [-103.30329910594774, 20.63445966998446], [-103.3039226136517, 20.635416086616654], [-103.30444353850098, 20.636425453818152], [-103.30485685389164, 20.6374780503731], [-103.30515856964055, 20.638563737097936], [-103.30534577078704, 20.639672054567743], [-103.30541664602192, 20.6407923239875], [-103.30537050545671, 20.64191375022989], [-103.30520778754902, 20.643025526041512], [-103.30493005510709, 20.64411693640316], [-103.3045399804026, 20.64517746202933], [-103.30404131952938, 20.64619688099775]]], &quot;type&quot;: &quot;Polygon&quot;}, &quot;id&quot;: &quot;6&quot;, &quot;properties&quot;: {}, &quot;type&quot;: &quot;Feature&quot;}], &quot;type&quot;: &quot;FeatureCollection&quot;});\n",
              "\n",
              "        \n",
              "    \n",
              "\n",
              "        function geo_json_521ce77f293c06acdc1e787287ae7a4e_onEachFeature(feature, layer) {\n",
              "            layer.on({\n",
              "            });\n",
              "        };\n",
              "        var geo_json_521ce77f293c06acdc1e787287ae7a4e = L.geoJson(null, {\n",
              "                onEachFeature: geo_json_521ce77f293c06acdc1e787287ae7a4e_onEachFeature,\n",
              "            \n",
              "        });\n",
              "\n",
              "        function geo_json_521ce77f293c06acdc1e787287ae7a4e_add (data) {\n",
              "            geo_json_521ce77f293c06acdc1e787287ae7a4e\n",
              "                .addData(data)\n",
              "                .addTo(map_0499eb446fbab29c928d6e912062020f);\n",
              "        }\n",
              "            geo_json_521ce77f293c06acdc1e787287ae7a4e_add({&quot;bbox&quot;: [-103.61961833339933, 20.39443674600802, -103.03610697062955, 20.834376055495696], &quot;features&quot;: [{&quot;bbox&quot;: [-103.4195153880795, 20.696549851021185, -103.35860067919195, 20.753858557565668], &quot;geometry&quot;: {&quot;coordinates&quot;: [[[-103.41606666743672, 20.738454061065514], [-103.41455524171373, 20.74088227103782], [-103.41279790135479, 20.743159298564795], [-103.41081160180238, 20.74526317203512], [-103.40861551326924, 20.747173594439943], [-103.40623083454028, 20.74887214021224], [-103.40368058692256, 20.750342433719755], [-103.40098939040072, 20.751570307652578], [-103.39818322423595, 20.75254393975376], [-103.39528917440263, 20.753253966564547], [-103.3923351703862, 20.753693573093592], [-103.38934971396728, 20.753858557565668], [-103.38636160269094, 20.753747370660633], [-103.38339965076237, 20.75336112891172], [-103.38049241012534, 20.75270360219315], [-103.37766789446425, 20.75178117548507], [-103.3749533088273, 20.750602785358364], [-103.37237478749734, 20.749179831869057], [-103.36995714263955, 20.747526066789206], [-103.36772362613368, 20.74565745932702], [-103.36569570685386, 20.74359204069991], [-103.36389286549438, 20.741349729120596], [-103.36233240885628, 20.73895213693353], [-103.36102930531007, 20.73642236179919], [-103.35999604293707, 20.733784763963154], [-103.35924251162686, 20.731064731765766], [-103.35877591017599, 20.72828843764618], [-103.35860067919195, 20.725482586970962], [-103.35871846036339, 20.722674162072394], [-103.35912808241038, 20.71989016391385], [-103.35982557378293, 20.717157353811956], [-103.36080420193103, 20.714501997635683], [-103.36205453872886, 20.711949614871344], [-103.36356455140108, 20.709524734893087], [-103.3653197180708, 20.707250662707853], [-103.36730316682916, 20.70514925635476], [-103.36949583701767, 20.703240718032703], [-103.37187666121653, 20.70154340090445], [-103.37442276624611, 20.700073633386065], [-103.37710969131923, 20.698845562573936], [-103.3799116213241, 20.697871018291], [-103.38280163307968, 20.697159399050587], [-103.38575195228181, 20.696717581040236], [-103.38873421875529, 20.696549851021185], [-103.39171975754284, 20.696657863823486], [-103.39467985329868, 20.697040624892892], [-103.39758602541067, 20.697694498115816], [-103.40041030125718, 20.698613238913968], [-103.40312548500583, 20.699788052363893], [-103.4057054193886, 20.701207675859305], [-103.4081252379373, 20.702858485597904], [-103.41036160523842, 20.704724625943577], [-103.41239294286328, 20.706788160488788], [-103.41419963875246, 20.709029243424958], [-103.4157642379776, 20.711426309623675], [-103.41707161297084, 20.713956281637817], [-103.41810911150178, 20.716594791655826], [-103.41886668088767, 20.719316416282666], [-103.41933696715115, 20.722094921883105], [-103.4195153880795, 20.724903518104547], [-103.4194001793964, 20.72771511710498], [-103.41899241352253, 20.730502595942156], [-103.4182959906761, 20.733239059538928], [-103.41731760234427, 20.735898101624603], [-103.41606666743672, 20.738454061065514]]], &quot;type&quot;: &quot;Polygon&quot;}, &quot;id&quot;: &quot;7&quot;, &quot;properties&quot;: {}, &quot;type&quot;: &quot;Feature&quot;}, {&quot;bbox&quot;: [-103.09656911192857, 20.590672601982188, -103.03610697062955, 20.647595745267566], &quot;geometry&quot;: {&quot;coordinates&quot;: [[[-103.09310251495376, 20.63237147160104], [-103.09159454702588, 20.634778969964135], [-103.08984298487118, 20.637035606111418], [-103.08786472847956, 20.639119605111652], [-103.0856788706992, 20.64101086167468], [-103.08330651177967, 20.642691135131862], [-103.08077055427108, 20.64414422613643], [-103.07809548032749, 20.64535613334102], [-103.07530711364136, 20.64631518851864], [-103.07243236838978, 20.647012168814634], [-103.06949898770138, 20.647440385053144], [-103.06653527425256, 20.647595745267566], [-103.06356981567271, 20.647476792877693], [-103.06063120748183, 20.647084719192772], [-103.05774777629529, 20.646423350179283], [-103.0549473060155, 20.645499107688607], [-103.05225676968715, 20.64432094559178], [-103.0497020696187, 20.642900261514423], [-103.04730778827827, 20.641250785100222], [-103.04509695234908, 20.6393884439545], [-103.04309081218528, 20.63733120862964], [-103.04130863874582, 20.63509891820765], [-103.03976753990048, 20.632713088210913], [-103.03848229780414, 20.630196702731027], [-103.03746522882311, 20.627573992802958], [-103.03672606727493, 20.624870203168907], [-103.0362718740105, 20.62211134967384], [-103.03610697062955, 20.619323969608708], [-103.03623289987814, 20.616534867371584], [-103.03664841253192, 20.613770857848653], [-103.03734948082491, 20.611058509928164], [-103.03832933824137, 20.608423892549467], [-103.03957854524853, 20.605892325659816], [-103.0410850803164, 20.603488138399104], [-103.04283445534321, 20.6012344367642], [-103.04480985438903, 20.599152882914648], [-103.04699229441185, 20.59726348817481], [-103.04936080650454, 20.595584421664416], [-103.05189263594842, 20.594131836347955], [-103.05456345922875, 20.592919714139374], [-103.05734761600374, 20.59195973152813], [-103.06021835388093, 20.591261147009682], [-103.06314808373294, 20.590830711409193], [-103.06610864318313, 20.590672601982188], [-103.06907156580846, 20.590788380959587], [-103.07200835354433, 20.591176978984674], [-103.07489074973445, 20.59183470365863], [-103.07769101025058, 20.592755273180078], [-103.08038217010908, 20.59392987482817], [-103.08293830303953, 20.595347247803293], [-103.08533477150951, 20.596993789705607], [-103.08754846478557, 20.598853685701396], [-103.08955802270734, 20.600909059203907], [-103.09134404297323, 20.60314014267997], [-103.09288926988212, 20.605525466989366], [-103.09417876264006, 20.60804206747375], [-103.09520004153029, 20.610665704835593], [-103.0959432104509, 20.61337109869196], [-103.09640105455007, 20.616132171548504], [-103.09656911192857, 20.61892230082548], [-103.09644571863407, 20.62171457647421], [-103.09603202643568, 20.624482061656117], [-103.09533199314029, 20.627198053915393], [-103.09435234548916, 20.629836344262802], [-103.09310251495376, 20.63237147160104]]], &quot;type&quot;: &quot;Polygon&quot;}, &quot;id&quot;: &quot;8&quot;, &quot;properties&quot;: {}, &quot;type&quot;: &quot;Feature&quot;}, {&quot;bbox&quot;: [-103.27122513347062, 20.59594322465341, -103.21057091370052, 20.653045169818437], &quot;geometry&quot;: {&quot;coordinates&quot;: [[[-103.26778518855171, 20.637706748975837], [-103.26627915843886, 20.640125600417388], [-103.2645283330441, 20.642393718930386], [-103.26254960509337, 20.644489218842374], [-103.26036207185176, 20.646391883925595], [-103.25798684962884, 20.648083363452965], [-103.25544686852628, 20.649547349965257], [-103.25276664947665, 20.65076973699741], [-103.24997206580336, 20.65173875521903], [-103.24709009168589, 20.65244508566682], [-103.24414854004381, 20.652881948982778], [-103.24117579245411, 20.653045169818437], [-103.2382005237888, 20.65293321581889], [-103.23525142430277, 20.65254721085865], [-103.23235692191633, 20.651890922460133], [-103.22954490742117, 20.650970723584116], [-103.22684246529558, 20.64979552923389], [-103.22427561274297, 20.64837670856168], [-103.22186904947236, 20.64672797340207], [-103.21964592061656, 20.64486524438192], [-103.217627595041, 20.642806495966813], [-103.21583346113138, 20.640571581999026], [-103.21428074196612, 20.638182043458873], [-103.21298433158016, 20.63566090034118], [-103.211956653815, 20.63303242967614], [-103.21120754502662, 20.630321931843614], [-103.21074416169004, 20.627555487426758], [-103.21057091370052, 20.62475970692655], [-103.2106894239287, 20.62196147571382], [-103.2110985143415, 20.619187696627808], [-103.2117942187553, 20.616465032641493], [-103.21276982204482, 20.613819652004906], [-103.21401592539128, 20.611276978246725], [-103.21552053691988, 20.60886144736459], [-103.21726918684864, 20.606596274464334], [-103.21924506605349, 20.604503232020136], [-103.22142918674501, 20.60260244182064], [-103.22380056375592, 20.600912182542103], [-103.22633641475399, 20.59944871475027], [-103.22901237752426, 20.598226124976005], [-103.23180274230985, 20.597256190340943], [-103.23468069706092, 20.596548265025586], [-103.23761858331994, 20.596109189677872], [-103.2405881603687, 20.59594322465341], [-103.24356087517732, 20.596052007764765], [-103.24650813563424, 20.596434536992955], [-103.24940158449199, 20.597087178386037], [-103.25221337144527, 20.59800369913563], [-103.2549164207601, 20.59917532558686], [-103.25748469189898, 20.600590825699822], [-103.25989343063723, 20.602236615247193], [-103.26211940824001, 20.60409688680028], [-103.26414114636613, 20.60615376033253], [-103.26593912548735, 20.608387454052366], [-103.26749597475597, 20.610776473872804], [-103.26879664141966, 20.613297819733116], [-103.26982853807054, 20.61592720681184], [-103.27058166622335, 20.61863929951173], [-103.27104871494127, 20.621407955959864], [-103.27122513347062, 20.624206480648166], [-103.27110917709871, 20.627007882748213], [-103.27070192571541, 20.629785137565403], [-103.27000727483141, 20.632511448556397], [-103.26903189908543, 20.635160507318865], [-103.26778518855171, 20.637706748975837]]], &quot;type&quot;: &quot;Polygon&quot;}, &quot;id&quot;: &quot;9&quot;, &quot;properties&quot;: {}, &quot;type&quot;: &quot;Feature&quot;}, {&quot;bbox&quot;: [-103.48821296372189, 20.776952350567747, -103.42714313046557, 20.834376055495696], &quot;geometry&quot;: {&quot;coordinates&quot;: [[[-103.48474916885539, 20.81895172840861], [-103.48323277090087, 20.821384175885605], [-103.48146990341186, 20.8236650371508], [-103.47947757508865, 20.825772303605], [-103.47727501426503, 20.827685645502182], [-103.47488348214794, 20.82938660910644], [-103.47232606616294, 20.830858795458422], [-103.46962745546828, 20.83208801898907], [-103.46681370088262, 20.833062444427135], [-103.46391196162625, 20.833772700670636], [-103.46095024140737, 20.8342119705296], [-103.45795711648488, 20.834376055495696], [-103.45496145841386, 20.834263414948605], [-103.4519921542225, 20.833875179469285], [-103.44907782678358, 20.833215138190333], [-103.44624655812876, 20.8322897003733], [-103.4435256184099, 20.83110783165705], [-103.44094120314006, 20.829680965669684], [-103.43851818125026, 20.82802289193325], [-103.43627985637488, 20.826149621217706], [-103.43424774363399, 20.824079229711007], [-103.43244136401646, 20.821831683569833], [-103.43087805828165, 20.819428645592268], [-103.42957282209991, 20.81689326591463], [-103.42853816393607, 20.81424995877394], [-103.42778398695683, 20.811524167496984], [-103.42731749600773, 20.808742119974763], [-103.42714313046557, 20.80593057695761], [-103.42726252352662, 20.803116575560757], [-103.42767448824506, 20.800327170403836], [-103.42837503038751, 20.797589174818196], [-103.4293573879264, 20.79492890454708], [-103.43061209675174, 20.79237192633287], [-103.43212708194648, 20.78994281373527], [-103.43388777374173, 20.78766491245337], [-103.43587724704788, 20.78556011733581], [-103.43807638324776, 20.78364866315652], [-103.44046405274075, 20.781948931107365], [-103.44301731653982, 20.78047727281973], [-103.44571164505291, 20.779247853569377], [-103.44852115202335, 20.778272516148956], [-103.45141884146435, 20.777560666707362], [-103.45437686530006, 20.77711918366031], [-103.45736678932155, 20.776952350567747], [-103.46035986498268, 20.77706181365897], [-103.46332730449582, 20.777446564460927], [-103.46624055664668, 20.778102947755265], [-103.46907158072631, 20.779024694854794], [-103.47179311598161, 20.780202981952854], [-103.47437894401327, 20.781626513060967], [-103.4768041415985, 20.78328162681456], [-103.47904532149214, 20.785152426194205], [-103.48108085885718, 20.78722092998392], [-103.48289110109847, 20.789467244570865], [-103.48445855901811, 20.791869754484857], [-103.48576807737972, 20.794405329882725], [-103.4868069831568, 20.79704954900602], [-103.48756520994935, 20.79977693348091], [-103.48803539727987, 20.802561194190716], [-103.48821296372189, 20.805375485333613], [-103.48809615307027, 20.80819266418547], [-103.48768605303047, 20.810985554018842], [-103.48698658617714, 20.81372720758832], [-103.48600447321515, 20.816391168576423], [-103.48474916885539, 20.81895172840861]]], &quot;type&quot;: &quot;Polygon&quot;}, &quot;id&quot;: &quot;10&quot;, &quot;properties&quot;: {}, &quot;type&quot;: &quot;Feature&quot;}, {&quot;bbox&quot;: [-103.61961833339933, 20.39443674600802, -103.55879753122146, 20.451771797256566], &quot;geometry&quot;: {&quot;coordinates&quot;: [[[-103.61630068891947, 20.436138409869123], [-103.61481405604961, 20.43858042028892], [-103.61308046137336, 20.44087319443081], [-103.61111663107948, 20.44299460887404], [-103.60894151841194, 20.444924197447424], [-103.60657611958332, 20.446643349706683], [-103.60404326969746, 20.448135491219336], [-103.60136742071836, 20.449386243880184], [-103.5985744037057, 20.45038356468681], [-103.59569117769375, 20.451117861626727], [-103.5927455677237, 20.451582085563516], [-103.58976599464161, 20.451771797256566], [-103.58678119935072, 20.451685208901562], [-103.58381996425193, 20.451323199839194], [-103.58091083462355, 20.450689306338077], [-103.57808184267832, 20.4497896856187], [-103.57536023699518, 20.44863305453756], [-103.57277221995469, 20.447230603600683], [-103.57034269571189, 20.445595887212626], [-103.56809503112167, 20.443744691294008], [-103.56605083188963, 20.441694879613586], [-103.5642297360575, 20.439466220377895], [-103.56264922675302, 20.43708019480086], [-103.56132446593412, 20.43455978953762], [-103.56026815064797, 20.43192927500758], [-103.55949039310084, 20.429213971753445], [-103.55899862560406, 20.426440007081993], [-103.55879753122146, 20.42363406431174], [-103.558889000701, 20.420823127008553], [-103.55927211602726, 20.418034220625945], [-103.55994316068617, 20.415294153980103], [-103.56089565648786, 20.412629262982637], [-103.56212042655434, 20.410065159024953], [-103.56360568384248, 20.407626484360733], [-103.56533714434393, 20.405336676763728], [-103.56729816388497, 20.403217745652025], [-103.56946989723718, 20.401290061763735], [-103.57183147805318, 20.399572162347074], [-103.57436021795327, 20.39808057368848], [-103.57703182291787, 20.396829652647217], [-103.57982062498255, 20.395831448696423], [-103.58269982709122, 20.395095587787342], [-103.58564175883913, 20.394629179158812], [-103.58861814073236, 20.39443674600802], [-103.59160035450336, 20.394520180723312], [-103.59455971695756, 20.394878725156754], [-103.59746775478133, 20.39550897618346], [-103.60029647771933, 20.39640491656126], [-103.60301864753029, 20.397557970867176], [-103.60560804015445, 20.398957086048597], [-103.60803969857378, 20.400588835892226], [-103.61029017391802, 20.40243754848004], [-103.61233775246582, 20.404485455476248], [-103.61416266631024, 20.406712861870215], [-103.61574728559951, 20.40909833459396], [-103.61707629043124, 20.41161890823816], [-103.61813682066344, 20.414250305912574], [-103.61891860211189, 20.416967173135767], [-103.61941404782907, 20.419743322498498], [-103.61961833339933, 20.422551986725814], [-103.6195294454393, 20.425366077667828], [-103.6191482027579, 20.428158448678484], [-103.61847824990465, 20.43090215779794], [-103.61752602311182, 20.43357072913644], [-103.61630068891947, 20.436138409869123]]], &quot;type&quot;: &quot;Polygon&quot;}, &quot;id&quot;: &quot;11&quot;, &quot;properties&quot;: {}, &quot;type&quot;: &quot;Feature&quot;}], &quot;type&quot;: &quot;FeatureCollection&quot;});\n",
              "\n",
              "        \n",
              "&lt;/script&gt;\n",
              "&lt;/html&gt;\" style=\"position:absolute;width:100%;height:100%;left:0;top:0;border:none !important;\" allowfullscreen webkitallowfullscreen mozallowfullscreen></iframe></div></div>"
            ]
          },
          "metadata": {},
          "execution_count": 64
        }
      ]
    },
    {
      "cell_type": "code",
      "source": [],
      "metadata": {
        "id": "tiRWpzyWl9VP"
      },
      "execution_count": null,
      "outputs": []
    },
    {
      "cell_type": "markdown",
      "source": [
        "## Intentaré hacerlo sumando lo que hizo Gudiño, con alguna información de LOCRESI"
      ],
      "metadata": {
        "id": "p8djPlYgMVCp"
      }
    },
    {
      "cell_type": "code",
      "source": [
        "confirmados_2=confirmados  #Hacemos una copia para ver si funciona, si funciona lo aplicamos a todo jeje"
      ],
      "metadata": {
        "id": "UN5OTjozNo3a"
      },
      "execution_count": null,
      "outputs": []
    },
    {
      "cell_type": "code",
      "source": [
        "confirmados_2['ESTACIONES']=np.zeros(len(confirmados_2))\n",
        "\n",
        "\n",
        "confirmados_2['ESTACIONES'].loc[confirmados_2['LOCRESI']=='ZAPOPAN']='Zapopan'\n",
        "confirmados_2['ESTACIONES'].loc[confirmados_2['LOCRESI']=='ZAPOTLANEJO']='Zapotlanejo'\n",
        "confirmados_2['ESTACIONES'].loc[confirmados_2['LOCRESI']=='TEPATITLAN DE MORELOS']='Tepatitlan'\n",
        "confirmados_2['ESTACIONES'].loc[confirmados_2['LOCRESI']=='TLAJOMULCO DE ZU?IGA']='Prepa 20'\n",
        "confirmados_2['ESTACIONES'].loc[confirmados_2['LOCRESI']=='TONALA']='Tonala'\n",
        "confirmados_2['ESTACIONES'].loc[confirmados_2['LOCRESI']=='TLAQUEPAQUE']='Tlaquepaque'\n",
        "confirmados_2"
      ],
      "metadata": {
        "colab": {
          "base_uri": "https://localhost:8080/",
          "height": 516
        },
        "id": "nODQOi1nSz0f",
        "outputId": "c6efd43b-1e1e-4019-bec4-5aa1d4ff0abb"
      },
      "execution_count": null,
      "outputs": [
        {
          "output_type": "stream",
          "name": "stderr",
          "text": [
            "/usr/local/lib/python3.8/dist-packages/pandas/core/indexing.py:1732: SettingWithCopyWarning: \n",
            "A value is trying to be set on a copy of a slice from a DataFrame\n",
            "\n",
            "See the caveats in the documentation: https://pandas.pydata.org/pandas-docs/stable/user_guide/indexing.html#returning-a-view-versus-a-copy\n",
            "  self._setitem_single_block(indexer, value, name)\n"
          ]
        },
        {
          "output_type": "execute_result",
          "data": {
            "text/plain": [
              "                   FECHREG                   LOCRESI    LATLOCA  LONGLOCA  \\\n",
              "3      2020-06-16 00:00:00               GUADALAJARA  20.676389       NaN   \n",
              "8      2020-12-16 00:00:00               GUADALAJARA  20.676389       NaN   \n",
              "12     2020-09-15 00:00:00         ACATLAN DE JUAREZ  20.420556       NaN   \n",
              "13     2020-07-21 00:00:00               GUADALAJARA  20.676389       NaN   \n",
              "14     2020-07-21 00:00:00               GUADALAJARA  20.676389       NaN   \n",
              "...                    ...                       ...        ...       ...   \n",
              "11856  2022-01-16 00:00:00               GUADALAJARA  20.676389       NaN   \n",
              "11860  2022-02-12 00:00:00                   ZAPOPAN  20.720278       NaN   \n",
              "11870  2022-01-24 00:00:00  SANTA CRUZ DE LAS FLORES  20.480000       NaN   \n",
              "11872  2022-02-08 00:00:00               GUADALAJARA  20.676389       NaN   \n",
              "11878  2022-02-03 00:00:00      TLAJOMULCO DE ZU?IGA  20.472778       NaN   \n",
              "\n",
              "          CP    RESDEFIN ESTACIONES  \n",
              "3      45509  SARS-CoV-2        0.0  \n",
              "8      44320  SARS-CoV-2        0.0  \n",
              "12     45700  SARS-CoV-2        0.0  \n",
              "13     44790  SARS-CoV-2        0.0  \n",
              "14     44790  SARS-CoV-2        0.0  \n",
              "...      ...         ...        ...  \n",
              "11856  45079  SARS-CoV-2        0.0  \n",
              "11860  45100  SARS-CoV-2    Zapopan  \n",
              "11870  45640  SARS-CoV-2        0.0  \n",
              "11872  44730  SARS-CoV-2        0.0  \n",
              "11878  45650  SARS-CoV-2   Prepa 20  \n",
              "\n",
              "[3775 rows x 7 columns]"
            ],
            "text/html": [
              "\n",
              "  <div id=\"df-daeb0cbb-32f0-4859-b841-9d773124cb01\">\n",
              "    <div class=\"colab-df-container\">\n",
              "      <div>\n",
              "<style scoped>\n",
              "    .dataframe tbody tr th:only-of-type {\n",
              "        vertical-align: middle;\n",
              "    }\n",
              "\n",
              "    .dataframe tbody tr th {\n",
              "        vertical-align: top;\n",
              "    }\n",
              "\n",
              "    .dataframe thead th {\n",
              "        text-align: right;\n",
              "    }\n",
              "</style>\n",
              "<table border=\"1\" class=\"dataframe\">\n",
              "  <thead>\n",
              "    <tr style=\"text-align: right;\">\n",
              "      <th></th>\n",
              "      <th>FECHREG</th>\n",
              "      <th>LOCRESI</th>\n",
              "      <th>LATLOCA</th>\n",
              "      <th>LONGLOCA</th>\n",
              "      <th>CP</th>\n",
              "      <th>RESDEFIN</th>\n",
              "      <th>ESTACIONES</th>\n",
              "    </tr>\n",
              "  </thead>\n",
              "  <tbody>\n",
              "    <tr>\n",
              "      <th>3</th>\n",
              "      <td>2020-06-16 00:00:00</td>\n",
              "      <td>GUADALAJARA</td>\n",
              "      <td>20.676389</td>\n",
              "      <td>NaN</td>\n",
              "      <td>45509</td>\n",
              "      <td>SARS-CoV-2</td>\n",
              "      <td>0.0</td>\n",
              "    </tr>\n",
              "    <tr>\n",
              "      <th>8</th>\n",
              "      <td>2020-12-16 00:00:00</td>\n",
              "      <td>GUADALAJARA</td>\n",
              "      <td>20.676389</td>\n",
              "      <td>NaN</td>\n",
              "      <td>44320</td>\n",
              "      <td>SARS-CoV-2</td>\n",
              "      <td>0.0</td>\n",
              "    </tr>\n",
              "    <tr>\n",
              "      <th>12</th>\n",
              "      <td>2020-09-15 00:00:00</td>\n",
              "      <td>ACATLAN DE JUAREZ</td>\n",
              "      <td>20.420556</td>\n",
              "      <td>NaN</td>\n",
              "      <td>45700</td>\n",
              "      <td>SARS-CoV-2</td>\n",
              "      <td>0.0</td>\n",
              "    </tr>\n",
              "    <tr>\n",
              "      <th>13</th>\n",
              "      <td>2020-07-21 00:00:00</td>\n",
              "      <td>GUADALAJARA</td>\n",
              "      <td>20.676389</td>\n",
              "      <td>NaN</td>\n",
              "      <td>44790</td>\n",
              "      <td>SARS-CoV-2</td>\n",
              "      <td>0.0</td>\n",
              "    </tr>\n",
              "    <tr>\n",
              "      <th>14</th>\n",
              "      <td>2020-07-21 00:00:00</td>\n",
              "      <td>GUADALAJARA</td>\n",
              "      <td>20.676389</td>\n",
              "      <td>NaN</td>\n",
              "      <td>44790</td>\n",
              "      <td>SARS-CoV-2</td>\n",
              "      <td>0.0</td>\n",
              "    </tr>\n",
              "    <tr>\n",
              "      <th>...</th>\n",
              "      <td>...</td>\n",
              "      <td>...</td>\n",
              "      <td>...</td>\n",
              "      <td>...</td>\n",
              "      <td>...</td>\n",
              "      <td>...</td>\n",
              "      <td>...</td>\n",
              "    </tr>\n",
              "    <tr>\n",
              "      <th>11856</th>\n",
              "      <td>2022-01-16 00:00:00</td>\n",
              "      <td>GUADALAJARA</td>\n",
              "      <td>20.676389</td>\n",
              "      <td>NaN</td>\n",
              "      <td>45079</td>\n",
              "      <td>SARS-CoV-2</td>\n",
              "      <td>0.0</td>\n",
              "    </tr>\n",
              "    <tr>\n",
              "      <th>11860</th>\n",
              "      <td>2022-02-12 00:00:00</td>\n",
              "      <td>ZAPOPAN</td>\n",
              "      <td>20.720278</td>\n",
              "      <td>NaN</td>\n",
              "      <td>45100</td>\n",
              "      <td>SARS-CoV-2</td>\n",
              "      <td>Zapopan</td>\n",
              "    </tr>\n",
              "    <tr>\n",
              "      <th>11870</th>\n",
              "      <td>2022-01-24 00:00:00</td>\n",
              "      <td>SANTA CRUZ DE LAS FLORES</td>\n",
              "      <td>20.480000</td>\n",
              "      <td>NaN</td>\n",
              "      <td>45640</td>\n",
              "      <td>SARS-CoV-2</td>\n",
              "      <td>0.0</td>\n",
              "    </tr>\n",
              "    <tr>\n",
              "      <th>11872</th>\n",
              "      <td>2022-02-08 00:00:00</td>\n",
              "      <td>GUADALAJARA</td>\n",
              "      <td>20.676389</td>\n",
              "      <td>NaN</td>\n",
              "      <td>44730</td>\n",
              "      <td>SARS-CoV-2</td>\n",
              "      <td>0.0</td>\n",
              "    </tr>\n",
              "    <tr>\n",
              "      <th>11878</th>\n",
              "      <td>2022-02-03 00:00:00</td>\n",
              "      <td>TLAJOMULCO DE ZU?IGA</td>\n",
              "      <td>20.472778</td>\n",
              "      <td>NaN</td>\n",
              "      <td>45650</td>\n",
              "      <td>SARS-CoV-2</td>\n",
              "      <td>Prepa 20</td>\n",
              "    </tr>\n",
              "  </tbody>\n",
              "</table>\n",
              "<p>3775 rows × 7 columns</p>\n",
              "</div>\n",
              "      <button class=\"colab-df-convert\" onclick=\"convertToInteractive('df-daeb0cbb-32f0-4859-b841-9d773124cb01')\"\n",
              "              title=\"Convert this dataframe to an interactive table.\"\n",
              "              style=\"display:none;\">\n",
              "        \n",
              "  <svg xmlns=\"http://www.w3.org/2000/svg\" height=\"24px\"viewBox=\"0 0 24 24\"\n",
              "       width=\"24px\">\n",
              "    <path d=\"M0 0h24v24H0V0z\" fill=\"none\"/>\n",
              "    <path d=\"M18.56 5.44l.94 2.06.94-2.06 2.06-.94-2.06-.94-.94-2.06-.94 2.06-2.06.94zm-11 1L8.5 8.5l.94-2.06 2.06-.94-2.06-.94L8.5 2.5l-.94 2.06-2.06.94zm10 10l.94 2.06.94-2.06 2.06-.94-2.06-.94-.94-2.06-.94 2.06-2.06.94z\"/><path d=\"M17.41 7.96l-1.37-1.37c-.4-.4-.92-.59-1.43-.59-.52 0-1.04.2-1.43.59L10.3 9.45l-7.72 7.72c-.78.78-.78 2.05 0 2.83L4 21.41c.39.39.9.59 1.41.59.51 0 1.02-.2 1.41-.59l7.78-7.78 2.81-2.81c.8-.78.8-2.07 0-2.86zM5.41 20L4 18.59l7.72-7.72 1.47 1.35L5.41 20z\"/>\n",
              "  </svg>\n",
              "      </button>\n",
              "      \n",
              "  <style>\n",
              "    .colab-df-container {\n",
              "      display:flex;\n",
              "      flex-wrap:wrap;\n",
              "      gap: 12px;\n",
              "    }\n",
              "\n",
              "    .colab-df-convert {\n",
              "      background-color: #E8F0FE;\n",
              "      border: none;\n",
              "      border-radius: 50%;\n",
              "      cursor: pointer;\n",
              "      display: none;\n",
              "      fill: #1967D2;\n",
              "      height: 32px;\n",
              "      padding: 0 0 0 0;\n",
              "      width: 32px;\n",
              "    }\n",
              "\n",
              "    .colab-df-convert:hover {\n",
              "      background-color: #E2EBFA;\n",
              "      box-shadow: 0px 1px 2px rgba(60, 64, 67, 0.3), 0px 1px 3px 1px rgba(60, 64, 67, 0.15);\n",
              "      fill: #174EA6;\n",
              "    }\n",
              "\n",
              "    [theme=dark] .colab-df-convert {\n",
              "      background-color: #3B4455;\n",
              "      fill: #D2E3FC;\n",
              "    }\n",
              "\n",
              "    [theme=dark] .colab-df-convert:hover {\n",
              "      background-color: #434B5C;\n",
              "      box-shadow: 0px 1px 3px 1px rgba(0, 0, 0, 0.15);\n",
              "      filter: drop-shadow(0px 1px 2px rgba(0, 0, 0, 0.3));\n",
              "      fill: #FFFFFF;\n",
              "    }\n",
              "  </style>\n",
              "\n",
              "      <script>\n",
              "        const buttonEl =\n",
              "          document.querySelector('#df-daeb0cbb-32f0-4859-b841-9d773124cb01 button.colab-df-convert');\n",
              "        buttonEl.style.display =\n",
              "          google.colab.kernel.accessAllowed ? 'block' : 'none';\n",
              "\n",
              "        async function convertToInteractive(key) {\n",
              "          const element = document.querySelector('#df-daeb0cbb-32f0-4859-b841-9d773124cb01');\n",
              "          const dataTable =\n",
              "            await google.colab.kernel.invokeFunction('convertToInteractive',\n",
              "                                                     [key], {});\n",
              "          if (!dataTable) return;\n",
              "\n",
              "          const docLinkHtml = 'Like what you see? Visit the ' +\n",
              "            '<a target=\"_blank\" href=https://colab.research.google.com/notebooks/data_table.ipynb>data table notebook</a>'\n",
              "            + ' to learn more about interactive tables.';\n",
              "          element.innerHTML = '';\n",
              "          dataTable['output_type'] = 'display_data';\n",
              "          await google.colab.output.renderOutput(dataTable, element);\n",
              "          const docLink = document.createElement('div');\n",
              "          docLink.innerHTML = docLinkHtml;\n",
              "          element.appendChild(docLink);\n",
              "        }\n",
              "      </script>\n",
              "    </div>\n",
              "  </div>\n",
              "  "
            ]
          },
          "metadata": {},
          "execution_count": 200
        }
      ]
    },
    {
      "cell_type": "code",
      "source": [
        "(confirmados_2['ESTACIONES']==0.0).sum() #Hay todavía 1513 casos que no sabemos en qué estación están cx\n",
        "#Quizás podría encontrar con este método junto con el método de Gudiño para ver qué tantos puedo rescatar\n",
        "#Otra idea que tengo es encontrar los"
      ],
      "metadata": {
        "colab": {
          "base_uri": "https://localhost:8080/"
        },
        "id": "JNAI_0B4Wh4V",
        "outputId": "fed14e13-ced3-417c-e1f0-1219e72e2f1b"
      },
      "execution_count": null,
      "outputs": [
        {
          "output_type": "execute_result",
          "data": {
            "text/plain": [
              "1513"
            ]
          },
          "metadata": {},
          "execution_count": 212
        }
      ]
    },
    {
      "cell_type": "code",
      "source": [
        "CPS=pd.read_csv('/content/drive/MyDrive/Datos S.S/Data/PP.csv')"
      ],
      "metadata": {
        "id": "3rlw2VH5MX-t"
      },
      "execution_count": null,
      "outputs": []
    },
    {
      "cell_type": "code",
      "source": [
        "CPS=CPS.rename(columns={CPS.columns[0]:'CP', CPS.columns[1]:'Estacion'})"
      ],
      "metadata": {
        "id": "HM0HovHNNMEa"
      },
      "execution_count": null,
      "outputs": []
    },
    {
      "cell_type": "code",
      "source": [
        "for i in range(len(CPS)):\n",
        "  confirmados_2['ESTACIONES'].loc[ confirmados_2['CP']==CPS['CP'][i] ]=CPS['Estacion'][i]\n"
      ],
      "metadata": {
        "colab": {
          "base_uri": "https://localhost:8080/"
        },
        "id": "lACymFYXgKQu",
        "outputId": "c88127c2-ba8f-4c83-f9ad-78b10c61e102"
      },
      "execution_count": null,
      "outputs": [
        {
          "output_type": "stream",
          "name": "stderr",
          "text": [
            "/usr/local/lib/python3.8/dist-packages/pandas/core/indexing.py:1732: SettingWithCopyWarning: \n",
            "A value is trying to be set on a copy of a slice from a DataFrame\n",
            "\n",
            "See the caveats in the documentation: https://pandas.pydata.org/pandas-docs/stable/user_guide/indexing.html#returning-a-view-versus-a-copy\n",
            "  self._setitem_single_block(indexer, value, name)\n"
          ]
        }
      ]
    },
    {
      "cell_type": "code",
      "source": [
        "Casos_N=(confirmados_2['ESTACIONES']==0).sum() #Ahora sólo quedan 936 personas positivas que no sabemos a qué estación pertenecen"
      ],
      "metadata": {
        "id": "Z9E8RU3cR6nM"
      },
      "execution_count": null,
      "outputs": []
    },
    {
      "cell_type": "code",
      "source": [
        "len(confirmados_2)-Casos_N  #2839 datos fueron clasificados en las estaciones, creo que es lo mejor que he logrado"
      ],
      "metadata": {
        "colab": {
          "base_uri": "https://localhost:8080/"
        },
        "id": "SmkW8FJwXA2y",
        "outputId": "5a74912b-cf77-4150-b226-1d4497fd69e7"
      },
      "execution_count": null,
      "outputs": [
        {
          "output_type": "execute_result",
          "data": {
            "text/plain": [
              "2839"
            ]
          },
          "metadata": {},
          "execution_count": 260
        }
      ]
    },
    {
      "cell_type": "code",
      "source": [
        "confirmados_2.loc[confirmados_2['ESTACIONES']==0]"
      ],
      "metadata": {
        "colab": {
          "base_uri": "https://localhost:8080/",
          "height": 172
        },
        "id": "pi3A_KGRkEt_",
        "outputId": "1b132c42-0e62-4340-82f7-465703a2ba60"
      },
      "execution_count": null,
      "outputs": [
        {
          "output_type": "error",
          "ename": "NameError",
          "evalue": "ignored",
          "traceback": [
            "\u001b[0;31m---------------------------------------------------------------------------\u001b[0m",
            "\u001b[0;31mNameError\u001b[0m                                 Traceback (most recent call last)",
            "\u001b[0;32m<ipython-input-1-83b8e7754bd0>\u001b[0m in \u001b[0;36m<module>\u001b[0;34m\u001b[0m\n\u001b[0;32m----> 1\u001b[0;31m \u001b[0mconfirmados_2\u001b[0m\u001b[0;34m.\u001b[0m\u001b[0mloc\u001b[0m\u001b[0;34m[\u001b[0m\u001b[0mconfirmados_2\u001b[0m\u001b[0;34m[\u001b[0m\u001b[0;34m'ESTACIONES'\u001b[0m\u001b[0;34m]\u001b[0m\u001b[0;34m==\u001b[0m\u001b[0;36m0\u001b[0m\u001b[0;34m]\u001b[0m\u001b[0;34m\u001b[0m\u001b[0;34m\u001b[0m\u001b[0m\n\u001b[0m",
            "\u001b[0;31mNameError\u001b[0m: name 'confirmados_2' is not defined"
          ]
        }
      ]
    },
    {
      "cell_type": "code",
      "source": [],
      "metadata": {
        "id": "nzK7hnQ9lK7W"
      },
      "execution_count": null,
      "outputs": []
    }
  ]
}